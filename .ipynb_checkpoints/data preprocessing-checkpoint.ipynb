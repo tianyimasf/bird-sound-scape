{
 "cells": [
  {
   "cell_type": "code",
   "execution_count": 4,
   "id": "26c0b914-c57a-4120-8b43-5053cadc60ad",
   "metadata": {},
   "outputs": [],
   "source": [
    "import pandas as pd\n",
    "import numpy as np\n",
    "import requests\n",
    "from bs4 import BeautifulSoup\n",
    "import time"
   ]
  },
  {
   "cell_type": "code",
   "execution_count": 2,
   "id": "c2bad77e-d3b4-4547-ad1e-80f9a0fe3aaf",
   "metadata": {},
   "outputs": [],
   "source": [
    "df = pd.read_csv('data/ebird data.txt', sep=\"\\t\", header=0)"
   ]
  },
  {
   "cell_type": "code",
   "execution_count": 1,
   "id": "ed7fc3e6-1f50-4453-972d-fce4583a6bae",
   "metadata": {},
   "outputs": [],
   "source": [
    "BASE_URL = \"https://ebird.org/checklist/S177363513\""
   ]
  },
  {
   "cell_type": "code",
   "execution_count": 26,
   "id": "53ce0062-9938-4f8e-8d10-af1d4e6e8f4d",
   "metadata": {},
   "outputs": [
    {
     "name": "stderr",
     "output_type": "stream",
     "text": [
      "C:\\Users\\inipo\\AppData\\Local\\Programs\\Python\\Python312\\Lib\\site-packages\\urllib3\\connectionpool.py:1103: InsecureRequestWarning: Unverified HTTPS request is being made to host 'ebird.org'. Adding certificate verification is strongly advised. See: https://urllib3.readthedocs.io/en/latest/advanced-usage.html#tls-warnings\n",
      "  warnings.warn(\n",
      "C:\\Users\\inipo\\AppData\\Local\\Programs\\Python\\Python312\\Lib\\site-packages\\urllib3\\connectionpool.py:1103: InsecureRequestWarning: Unverified HTTPS request is being made to host 'secure.birds.cornell.edu'. Adding certificate verification is strongly advised. See: https://urllib3.readthedocs.io/en/latest/advanced-usage.html#tls-warnings\n",
      "  warnings.warn(\n",
      "C:\\Users\\inipo\\AppData\\Local\\Programs\\Python\\Python312\\Lib\\site-packages\\urllib3\\connectionpool.py:1103: InsecureRequestWarning: Unverified HTTPS request is being made to host 'ebird.org'. Adding certificate verification is strongly advised. See: https://urllib3.readthedocs.io/en/latest/advanced-usage.html#tls-warnings\n",
      "  warnings.warn(\n",
      "C:\\Users\\inipo\\AppData\\Local\\Programs\\Python\\Python312\\Lib\\site-packages\\urllib3\\connectionpool.py:1103: InsecureRequestWarning: Unverified HTTPS request is being made to host 'ebird.org'. Adding certificate verification is strongly advised. See: https://urllib3.readthedocs.io/en/latest/advanced-usage.html#tls-warnings\n",
      "  warnings.warn(\n",
      "C:\\Users\\inipo\\AppData\\Local\\Programs\\Python\\Python312\\Lib\\site-packages\\urllib3\\connectionpool.py:1103: InsecureRequestWarning: Unverified HTTPS request is being made to host 'ebird.org'. Adding certificate verification is strongly advised. See: https://urllib3.readthedocs.io/en/latest/advanced-usage.html#tls-warnings\n",
      "  warnings.warn(\n"
     ]
    }
   ],
   "source": [
    "r = requests.get(BASE_URL, verify=False)\n",
    "r.raise_for_status()\n",
    "\n",
    "soup = BeautifulSoup(r.content, 'html5lib')"
   ]
  },
  {
   "cell_type": "code",
   "execution_count": 47,
   "id": "1bc7d508-3c8f-41b5-9a45-28fe7eb6a46d",
   "metadata": {},
   "outputs": [],
   "source": [
    "def build_media_data_for_checklist(soup):\n",
    "    species = soup.findAll('li', attrs = {'data-observationhasphotos':True, 'data-observationhasaudios':True}) \n",
    "    species_photos = soup.findAll('li', attrs = {'data-observationhasphotos':True}) \n",
    "    species_audios = soup.findAll('li', attrs = {'data-observationhasaudios':True}) \n",
    "    species.extend(species_photos)\n",
    "    species.extend(species_audios)\n",
    "    \n",
    "    species_json = []\n",
    "    for s in species:\n",
    "        species_info = s.find('div', attrs={'class':'Observation-species'})\n",
    "        species_soup = BeautifulSoup(str(s))\n",
    "        # print(species_soup.prettify())\n",
    "        href = species_info.find('a')['href']\n",
    "        name = species_info.find('span').text\n",
    "        media_id_elements = s.findAll('div', attrs = {'data-media-commonname':name})\n",
    "        media_ids = []\n",
    "        for e in media_id_elements:\n",
    "            media_ids.append(e[\"data-media-id\"])\n",
    "        s_json = {'href':href, 'name':name, 'media_ids':media_ids}\n",
    "        species_json.append(s_json)\n",
    "        \n",
    "    return species_json"
   ]
  },
  {
   "cell_type": "code",
   "execution_count": 48,
   "id": "2a0fe9ca-3305-47a9-9874-d276ab698309",
   "metadata": {},
   "outputs": [
    {
     "data": {
      "text/plain": [
       "[{'href': '/species/wemhar1',\n",
       "  'name': 'Western Marsh Harrier',\n",
       "  'media_ids': ['619630301']},\n",
       " {'href': '/species/gstlar1',\n",
       "  'name': 'Greater Short-toed Lark',\n",
       "  'media_ids': ['619630341', '619630342', '619630343', '619631014']},\n",
       " {'href': '/species/banswa',\n",
       "  'name': 'Bank Swallow',\n",
       "  'media_ids': ['619630365', '619630366']}]"
      ]
     },
     "execution_count": 48,
     "metadata": {},
     "output_type": "execute_result"
    }
   ],
   "source": [
    "species_json = build_media_data_for_checklist(soup)\n",
    "species_json"
   ]
  },
  {
   "cell_type": "code",
   "execution_count": null,
   "id": "5d144200-461c-40d5-aae7-89ea82b2b847",
   "metadata": {},
   "outputs": [],
   "source": []
  }
 ],
 "metadata": {
  "kernelspec": {
   "display_name": "Python 3 (ipykernel)",
   "language": "python",
   "name": "python3"
  },
  "language_info": {
   "codemirror_mode": {
    "name": "ipython",
    "version": 3
   },
   "file_extension": ".py",
   "mimetype": "text/x-python",
   "name": "python",
   "nbconvert_exporter": "python",
   "pygments_lexer": "ipython3",
   "version": "3.12.3"
  }
 },
 "nbformat": 4,
 "nbformat_minor": 5
}
