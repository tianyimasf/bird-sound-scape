{
 "cells": [
  {
   "cell_type": "code",
   "execution_count": null,
   "id": "0d42ff23-a739-45c0-9c27-4c7a26baa0f4",
   "metadata": {},
   "outputs": [],
   "source": [
    "!pip3 install python-dotenv"
   ]
  },
  {
   "cell_type": "code",
   "execution_count": 19,
   "id": "26c0b914-c57a-4120-8b43-5053cadc60ad",
   "metadata": {},
   "outputs": [],
   "source": [
    "import pandas as pd\n",
    "import numpy as np\n",
    "import requests\n",
    "from bs4 import BeautifulSoup\n",
    "import time\n",
    "from dotenv import load_dotenv\n",
    "import os\n",
    "from tqdm import tqdm"
   ]
  },
  {
   "cell_type": "code",
   "execution_count": 10,
   "id": "20491aaa-7d26-40cf-986d-d686d994fbdb",
   "metadata": {},
   "outputs": [],
   "source": [
    "from glob import glob\n",
    "path = \"data/bird_images/valid\"\n",
    "files = glob(f'{path}/**/*.jpg', recursive=True)"
   ]
  },
  {
   "cell_type": "code",
   "execution_count": null,
   "id": "f5b06617-264f-456c-a9bc-fc286a108635",
   "metadata": {},
   "outputs": [],
   "source": [
    "from PIL import Image  \n",
    "import PIL\n",
    "\n",
    "path = \"data/bird_images/valid_flattened/\"\n",
    "new_filenames = []\n",
    "for file in files:\n",
    "    file_components = file.split(\"/\")\n",
    "    if int(file_components[-1][0]) > 2: continue\n",
    "    new_filename = f\"{file_components[-2]}-{file_components[-1][0]}\"\n",
    "    new_filenames.append(new_filename)\n",
    "\n",
    "with open('data/bird_icon_names.txt', 'w+') as f:\n",
    "    for items in new_filenames:\n",
    "        f.write('%s\\n' %items)\n",
    "    print(\"File written successfully\")\n",
    "f.close()"
   ]
  },
  {
   "cell_type": "code",
   "execution_count": null,
   "id": "b749834f-e77c-4f9e-b643-4d1709e30c6b",
   "metadata": {},
   "outputs": [],
   "source": [
    "newsize = (185, 185)\n",
    "for file in files:\n",
    "    img = Image.open(file)\n",
    "    img.resize(newsize)\n",
    "    file_components = file.split(\"/\")\n",
    "    if int(file_components[-1][0]) > 2: continue\n",
    "    new_filename = f\"{file_components[-2]}-{file_components[-1]}\"\n",
    "    img.save(f\"{path}{new_filename}\")"
   ]
  },
  {
   "cell_type": "markdown",
   "id": "e5170a4d-6adf-4f2b-b73b-4361fd413583",
   "metadata": {},
   "source": [
    "# Scraping ebird"
   ]
  },
  {
   "cell_type": "code",
   "execution_count": null,
   "id": "c2bad77e-d3b4-4547-ad1e-80f9a0fe3aaf",
   "metadata": {},
   "outputs": [],
   "source": [
    "df = pd.read_csv('data/ebird data.txt', sep=\"\\t\", header=0)"
   ]
  },
  {
   "cell_type": "code",
   "execution_count": null,
   "id": "66961cc6-10f0-441d-94bc-eee5e625b8bc",
   "metadata": {},
   "outputs": [],
   "source": [
    "df.columns"
   ]
  },
  {
   "cell_type": "code",
   "execution_count": null,
   "id": "fac3778e-e531-4f8d-b0c2-bf35bdf5e9a2",
   "metadata": {},
   "outputs": [],
   "source": [
    "df[\"COUNTY CODE\"][:10]"
   ]
  },
  {
   "cell_type": "code",
   "execution_count": null,
   "id": "7f9cd372-0562-4815-adf5-7847ba5d1909",
   "metadata": {},
   "outputs": [],
   "source": [
    "df.COUNTY[:10]"
   ]
  },
  {
   "cell_type": "code",
   "execution_count": 11,
   "id": "ed7fc3e6-1f50-4453-972d-fce4583a6bae",
   "metadata": {},
   "outputs": [],
   "source": [
    "BASE_URL = \"https://ebird.org/checklist/S177363513\""
   ]
  },
  {
   "cell_type": "code",
   "execution_count": 13,
   "id": "53ce0062-9938-4f8e-8d10-af1d4e6e8f4d",
   "metadata": {},
   "outputs": [],
   "source": [
    "r = requests.get(BASE_URL)\n",
    "r.raise_for_status()\n",
    "\n",
    "soup = BeautifulSoup(r.content, 'html5lib')"
   ]
  },
  {
   "cell_type": "code",
   "execution_count": 57,
   "id": "1bc7d508-3c8f-41b5-9a45-28fe7eb6a46d",
   "metadata": {},
   "outputs": [],
   "source": [
    "def build_media_data_for_checklist(soup):\n",
    "    species = soup.findAll('li', attrs = {'data-observation':True})\n",
    "    \n",
    "    species_json = []\n",
    "    for s in species:\n",
    "        species_info = s.find('div', attrs={'class':'Observation-species'})\n",
    "        species_soup = BeautifulSoup(str(s))\n",
    "        # print(species_soup.prettify())\n",
    "        species_link = species_info.find('a')\n",
    "        href = \"\"\n",
    "        if species_link:\n",
    "            href = species_info.find('a')['href']\n",
    "        name = species_info.find('span').text\n",
    "        media_id_elements = s.findAll('div', attrs = {'data-media-commonname':name})\n",
    "        if not len(media_id_elements): \n",
    "            s_json = {'href':href, 'name':name, 'media_ids':[]}\n",
    "            species_json.append(s_json)\n",
    "            continue\n",
    "        media_ids = []\n",
    "        for e in media_id_elements:\n",
    "            media_ids.append(e[\"data-media-id\"])\n",
    "        s_json = {'href':href, 'name':name, 'media_ids':media_ids}\n",
    "        species_json.append(s_json)\n",
    "        \n",
    "    return species_json"
   ]
  },
  {
   "cell_type": "code",
   "execution_count": 14,
   "id": "2a0fe9ca-3305-47a9-9874-d276ab698309",
   "metadata": {},
   "outputs": [
    {
     "data": {
      "text/plain": [
       "[{'href': '/species/wemhar1',\n",
       "  'name': 'Western Marsh Harrier',\n",
       "  'media_ids': ['619630301']},\n",
       " {'href': '/species/gstlar1',\n",
       "  'name': 'Greater Short-toed Lark',\n",
       "  'media_ids': ['619630341', '619630342', '619630343', '619631014']},\n",
       " {'href': '/species/banswa',\n",
       "  'name': 'Bank Swallow',\n",
       "  'media_ids': ['619630365', '619630366']}]"
      ]
     },
     "execution_count": 14,
     "metadata": {},
     "output_type": "execute_result"
    }
   ],
   "source": [
    "species_json = build_media_data_for_checklist(soup)\n",
    "species_json"
   ]
  },
  {
   "cell_type": "markdown",
   "id": "c856afcf-aeb0-4ddf-bf75-6c224f4f94dc",
   "metadata": {},
   "source": [
    "# Getting recent data nearby"
   ]
  },
  {
   "cell_type": "code",
   "execution_count": 68,
   "id": "89ce2234-d390-4695-a781-66f40556d22b",
   "metadata": {},
   "outputs": [],
   "source": [
    "def get_checklists(lat, lng, back, dist, headers):\n",
    "    get_url = f\"https://api.ebird.org/v2/data/obs/geo/recent?lat={lat}&lng={lng}&back={back}&dist={dist}\"\n",
    "    res = requests.get(get_url, headers=headers)\n",
    "    data = res.json()\n",
    "    checklists = [{\"subId\":ob[\"subId\"], \"lat\":ob[\"lat\"], \"lng\":ob[\"lng\"]} for ob in data]\n",
    "    checklists_unique = list({sub['subId']:sub for sub in checklists}.values())\n",
    "\n",
    "    for checklist in tqdm(checklists_unique[:3]):\n",
    "        checklist[\"observations\"] = get_checklist(checklist[\"subId\"])\n",
    "        \n",
    "    return checklists_unique"
   ]
  },
  {
   "cell_type": "code",
   "execution_count": 69,
   "id": "6ece258e-992d-4756-8db0-16ededbe9652",
   "metadata": {},
   "outputs": [
    {
     "name": "stderr",
     "output_type": "stream",
     "text": [
      "100%|█████████████████████████████████████████████| 3/3 [00:02<00:00,  1.15it/s]\n"
     ]
    }
   ],
   "source": [
    "load_dotenv()\n",
    "access_token = os.getenv(\"EBIRD_API_ACCESS_TOKEN\")\n",
    "\n",
    "headers =  {\"Content-Type\":\"application/json\", \"x-ebirdapitoken\": access_token}\n",
    "\n",
    "lat = 40.0150\n",
    "lng = -105.2705\n",
    "back = 30\n",
    "dist = 20\n",
    "\n",
    "checklists = get_checklists(lat, lng, back, dist, headers)"
   ]
  },
  {
   "cell_type": "code",
   "execution_count": 70,
   "id": "9a0e130b-22a1-4164-9e09-0f7a4e67c42c",
   "metadata": {},
   "outputs": [
    {
     "data": {
      "text/plain": [
       "{'subId': 'S183102872',\n",
       " 'lat': 39.9579448,\n",
       " 'lng': -105.3385663,\n",
       " 'observations': [{'href': '/species/rethaw',\n",
       "   'name': 'Red-tailed Hawk',\n",
       "   'media_ids': []},\n",
       "  {'href': '/species/wewpew', 'name': 'Western Wood-Pewee', 'media_ids': []},\n",
       "  {'href': '/species/plsvir', 'name': 'Plumbeous Vireo', 'media_ids': []},\n",
       "  {'href': '/species/stejay', 'name': \"Steller's Jay\", 'media_ids': []},\n",
       "  {'href': '/species/bkbmag1', 'name': 'Black-billed Magpie', 'media_ids': []},\n",
       "  {'href': '/species/houwre', 'name': 'House Wren', 'media_ids': []},\n",
       "  {'href': '/species/wesblu', 'name': 'Western Bluebird', 'media_ids': []},\n",
       "  {'href': '/species/chispa', 'name': 'Chipping Sparrow', 'media_ids': []},\n",
       "  {'href': '/species/vesspa', 'name': 'Vesper Sparrow', 'media_ids': []}]}"
      ]
     },
     "execution_count": 70,
     "metadata": {},
     "output_type": "execute_result"
    }
   ],
   "source": [
    "checklists[0]"
   ]
  },
  {
   "cell_type": "code",
   "execution_count": 5,
   "id": "78f14799-747c-4bdd-b476-c181e0402bdb",
   "metadata": {},
   "outputs": [
    {
     "data": {
      "text/plain": [
       "215"
      ]
     },
     "execution_count": 5,
     "metadata": {},
     "output_type": "execute_result"
    }
   ],
   "source": [
    "len(data)"
   ]
  },
  {
   "cell_type": "code",
   "execution_count": 19,
   "id": "de193877-0b1b-487a-9fe9-e7a97e01d6a8",
   "metadata": {},
   "outputs": [
    {
     "data": {
      "text/plain": [
       "{'speciesCode': 'rethaw',\n",
       " 'comName': 'Red-tailed Hawk',\n",
       " 'sciName': 'Buteo jamaicensis',\n",
       " 'locId': 'L554723',\n",
       " 'locName': 'Walker Ranch--Meyers Gulch',\n",
       " 'obsDt': '2024-06-22 11:26',\n",
       " 'howMany': 2,\n",
       " 'lat': 39.9579448,\n",
       " 'lng': -105.3385663,\n",
       " 'obsValid': True,\n",
       " 'obsReviewed': False,\n",
       " 'locationPrivate': False,\n",
       " 'subId': 'S183102872'}"
      ]
     },
     "execution_count": 19,
     "metadata": {},
     "output_type": "execute_result"
    }
   ],
   "source": [
    "data[0]"
   ]
  },
  {
   "cell_type": "code",
   "execution_count": 6,
   "id": "6141c93a-c9cc-4327-8dc9-07c730f4d662",
   "metadata": {},
   "outputs": [],
   "source": [
    "subIds = [ob[\"subId\"] for ob in data]"
   ]
  },
  {
   "cell_type": "code",
   "execution_count": 22,
   "id": "876b94f4-fd69-4e50-9335-890a07a3a62d",
   "metadata": {},
   "outputs": [
    {
     "data": {
      "text/plain": [
       "111"
      ]
     },
     "execution_count": 22,
     "metadata": {},
     "output_type": "execute_result"
    }
   ],
   "source": [
    "len(set(subIds))"
   ]
  },
  {
   "cell_type": "code",
   "execution_count": 7,
   "id": "6180e810-a9b0-4f64-82e9-4b450fd0da75",
   "metadata": {},
   "outputs": [],
   "source": [
    "subIds = list(set(subIds))"
   ]
  },
  {
   "cell_type": "code",
   "execution_count": 51,
   "id": "e5c4f25e-97bd-4345-ab95-d7e7903d3920",
   "metadata": {},
   "outputs": [
    {
     "data": {
      "text/plain": [
       "'S181994102'"
      ]
     },
     "execution_count": 51,
     "metadata": {},
     "output_type": "execute_result"
    }
   ],
   "source": [
    "subIds[110]"
   ]
  },
  {
   "cell_type": "code",
   "execution_count": 8,
   "id": "80d2160c-4cee-46b8-96c9-80b28c8a2ffd",
   "metadata": {},
   "outputs": [],
   "source": [
    "def get_checklist(subId):\n",
    "    BASE_URL = f\"https://ebird.org/checklist/{subId}\"\n",
    "    r = requests.get(BASE_URL)\n",
    "    r.raise_for_status()\n",
    "    \n",
    "    soup = BeautifulSoup(r.content, 'html5lib')\n",
    "    return build_media_data_for_checklist(soup)"
   ]
  },
  {
   "cell_type": "code",
   "execution_count": 58,
   "id": "e36f888b-188e-4e0f-9c86-ecb4aa8c9cc3",
   "metadata": {},
   "outputs": [],
   "source": [
    "checklist = get_checklist(subIds[110])"
   ]
  },
  {
   "cell_type": "code",
   "execution_count": 59,
   "id": "5a72003c-e802-4bc2-a3ff-bcc0d4b5db2f",
   "metadata": {},
   "outputs": [
    {
     "data": {
      "text/plain": [
       "[{'href': '/species/wiltur',\n",
       "  'name': 'Wild Turkey',\n",
       "  'media_ids': ['620517016']},\n",
       " {'href': '/species/moudov', 'name': 'Mourning Dove', 'media_ids': []},\n",
       " {'href': '/species/brthum',\n",
       "  'name': 'Broad-tailed Hummingbird',\n",
       "  'media_ids': []},\n",
       " {'href': '/species/turvul', 'name': 'Turkey Vulture', 'media_ids': []},\n",
       " {'href': '/species/rethaw', 'name': 'Red-tailed Hawk', 'media_ids': []},\n",
       " {'href': '/species/lewwoo',\n",
       "  'name': \"Lewis's Woodpecker\",\n",
       "  'media_ids': ['620517065', '620517066']},\n",
       " {'href': '/species/norfli', 'name': 'Northern Flicker', 'media_ids': []},\n",
       " {'href': '/species/wewpew', 'name': 'Western Wood-Pewee', 'media_ids': []},\n",
       " {'href': '/species/wesfly',\n",
       "  'name': 'Western Flycatcher (Cordilleran)',\n",
       "  'media_ids': ['620517121']},\n",
       " {'href': '/species/weskin',\n",
       "  'name': 'Western Kingbird',\n",
       "  'media_ids': ['620517130']},\n",
       " {'href': '/species/plsvir',\n",
       "  'name': 'Plumbeous Vireo',\n",
       "  'media_ids': ['620517136', '620517137']},\n",
       " {'href': '/species/stejay', 'name': \"Steller's Jay\", 'media_ids': []},\n",
       " {'href': '/species/bkbmag1', 'name': 'Black-billed Magpie', 'media_ids': []},\n",
       " {'href': '/species/amecro',\n",
       "  'name': 'American Crow',\n",
       "  'media_ids': ['620517170']},\n",
       " {'href': '/species/pygnut', 'name': 'Pygmy Nuthatch', 'media_ids': []},\n",
       " {'href': '/species/rocwre',\n",
       "  'name': 'Rock Wren',\n",
       "  'media_ids': ['620517157', '620517158']},\n",
       " {'href': '/species/houwre', 'name': 'House Wren', 'media_ids': []},\n",
       " {'href': '/species/amerob', 'name': 'American Robin', 'media_ids': []},\n",
       " {'href': '/species/lesgol', 'name': 'Lesser Goldfinch', 'media_ids': []},\n",
       " {'href': '/species/chispa', 'name': 'Chipping Sparrow', 'media_ids': []},\n",
       " {'href': '/species/larspa', 'name': 'Lark Sparrow', 'media_ids': []},\n",
       " {'href': '/species/spotow', 'name': 'Spotted Towhee', 'media_ids': []},\n",
       " {'href': '/species/wesmea', 'name': 'Western Meadowlark', 'media_ids': []},\n",
       " {'href': '/species/bulori',\n",
       "  'name': \"Bullock's Oriole\",\n",
       "  'media_ids': ['620517164']},\n",
       " {'href': '/species/bnhcow', 'name': 'Brown-headed Cowbird', 'media_ids': []},\n",
       " {'href': '/species/brebla', 'name': \"Brewer's Blackbird\", 'media_ids': []},\n",
       " {'href': '/species/blugrb1',\n",
       "  'name': 'Blue Grosbeak',\n",
       "  'media_ids': ['620517179']},\n",
       " {'href': '/species/lazbun', 'name': 'Lazuli Bunting', 'media_ids': []},\n",
       " {'href': '',\n",
       "  'name': 'Lazuli x Indigo Bunting (hybrid)',\n",
       "  'media_ids': ['620517199']}]"
      ]
     },
     "execution_count": 59,
     "metadata": {},
     "output_type": "execute_result"
    }
   ],
   "source": [
    "checklist"
   ]
  },
  {
   "cell_type": "markdown",
   "id": "a2e234ba-868f-4eb5-a153-f17af87d1de0",
   "metadata": {},
   "source": [
    "This shows that all observations in a checklist share the same lat lng stats"
   ]
  },
  {
   "cell_type": "code",
   "execution_count": 49,
   "id": "a89d870a-1462-4521-b3f4-90c38d11ffc3",
   "metadata": {},
   "outputs": [
    {
     "name": "stdout",
     "output_type": "stream",
     "text": [
      "[(39.982874, -105.269126),\n",
      " (39.982874, -105.269126),\n",
      " (39.982874, -105.269126),\n",
      " (39.982874, -105.269126),\n",
      " (39.982874, -105.269126),\n",
      " (39.982874, -105.269126),\n",
      " (39.982874, -105.269126),\n",
      " (39.982874, -105.269126),\n",
      " (39.982874, -105.269126),\n",
      " (39.982874, -105.269126)]\n",
      "\n",
      "[(40.020217, -105.434369),\n",
      " (40.020217, -105.434369),\n",
      " (40.020217, -105.434369),\n",
      " (40.020217, -105.434369),\n",
      " (40.020217, -105.434369),\n",
      " (40.020217, -105.434369),\n",
      " (40.020217, -105.434369)]\n",
      "\n",
      "[(39.8860638, -105.2598381),\n",
      " (39.8860638, -105.2598381),\n",
      " (39.8860638, -105.2598381),\n",
      " (39.8860638, -105.2598381),\n",
      " (39.8860638, -105.2598381),\n",
      " (39.8860638, -105.2598381),\n",
      " (39.8860638, -105.2598381),\n",
      " (39.8860638, -105.2598381)]\n",
      "\n"
     ]
    }
   ],
   "source": [
    "import pprint\n",
    "\n",
    "count = 0\n",
    "for subId in subIds:\n",
    "    if count > 2:\n",
    "        break\n",
    "    obs = [ob for ob in data if ob[\"subId\"] == subId]\n",
    "    if len(obs) > 2:\n",
    "        pprint.pp([(ob['lat'], ob['lng']) for ob in obs])\n",
    "        print()\n",
    "        count += 1"
   ]
  },
  {
   "cell_type": "code",
   "execution_count": 29,
   "id": "c1843e0e-2b1b-4ee6-ad25-7fe04d7f8265",
   "metadata": {},
   "outputs": [
    {
     "name": "stderr",
     "output_type": "stream",
     "text": [
      "100%|█████████████████████████████████████████| 111/111 [01:33<00:00,  1.18it/s]\n"
     ]
    },
    {
     "data": {
      "text/plain": [
       "25"
      ]
     },
     "execution_count": 29,
     "metadata": {},
     "output_type": "execute_result"
    }
   ],
   "source": [
    "checklists = []\n",
    "for subId in tqdm(subIds):\n",
    "    checklist = get_checklist(subId)\n",
    "    if len(checklist) > 0:\n",
    "        checklists.append(checklist)\n",
    "\n",
    "len(checklists)"
   ]
  },
  {
   "cell_type": "code",
   "execution_count": 32,
   "id": "d5703595-3b94-44eb-a4e8-e5635516e9fa",
   "metadata": {},
   "outputs": [
    {
     "data": {
      "text/plain": [
       "'S182678437'"
      ]
     },
     "execution_count": 32,
     "metadata": {},
     "output_type": "execute_result"
    }
   ],
   "source": [
    "subIds[0]"
   ]
  },
  {
   "cell_type": "code",
   "execution_count": null,
   "id": "c086d40c-f375-4ebc-aa0a-5bc96ed9b437",
   "metadata": {},
   "outputs": [],
   "source": [
    "checklist = get_checklist(subIds[110])"
   ]
  },
  {
   "cell_type": "markdown",
   "id": "67b80eef-4293-4510-a532-6443d3a3dca0",
   "metadata": {},
   "source": [
    "# Getting recent data for region"
   ]
  },
  {
   "cell_type": "code",
   "execution_count": null,
   "id": "5d144200-461c-40d5-aae7-89ea82b2b847",
   "metadata": {},
   "outputs": [],
   "source": [
    "load_dotenv()\n",
    "access_token = os.getenv(\"EBIRD_API_ACCESS_TOKEN\")\n",
    "\n",
    "headers =  {\"Content-Type\":\"application/json\", \"x-ebirdapitoken\": access_token}\n",
    "region_code = \"US-CO-013\"\n",
    "code2 = \"AL\"\n",
    "\n",
    "get_url = \"https://api.ebird.org/v2/data/obs/{}/recent\".format(region_code)\n",
    "res = requests.get(get_url, headers=headers)\n",
    "res.json()"
   ]
  },
  {
   "cell_type": "code",
   "execution_count": null,
   "id": "ee3b86a8-3e24-403d-9ac0-67ba713ad8e5",
   "metadata": {},
   "outputs": [],
   "source": [
    "res_json = res.json()\n",
    "print(len(res_json))"
   ]
  },
  {
   "cell_type": "code",
   "execution_count": null,
   "id": "e3e4cae0-c059-43c9-a9d1-ce8f93a721d2",
   "metadata": {},
   "outputs": [],
   "source": [
    "max_res = 100\n",
    "get_checklists_url = \"https://api.ebird.org/v2/product/lists/{}?maxResults={}\".format(region_code, max_res)\n",
    "res = requests.get(get_checklists_url, headers=headers, verify=False)\n",
    "res.json()\n",
    "res_json = res.json()\n",
    "print(len(res_json))"
   ]
  },
  {
   "cell_type": "code",
   "execution_count": null,
   "id": "e22e2b2c-8fea-4623-a159-6abf614e4729",
   "metadata": {},
   "outputs": [],
   "source": [
    "res_json[:-10]"
   ]
  },
  {
   "cell_type": "markdown",
   "id": "8ca8ea14-68a1-4231-a906-1a1e0a0bddd6",
   "metadata": {},
   "source": [
    "# Getting species intro"
   ]
  },
  {
   "cell_type": "code",
   "execution_count": 22,
   "id": "303f9492-7699-46ec-a676-54f0df808670",
   "metadata": {},
   "outputs": [],
   "source": [
    "from selenium import webdriver\n",
    "load_dotenv()\n",
    "access_token = os.getenv(\"EBIRD_API_ACCESS_TOKEN\")\n",
    "from selenium.webdriver.chrome.options import Options\n",
    "\n",
    "options = Options()\n",
    "options.add_argument('--headless=new')\n",
    "\n",
    "path = \"https://ebird.org/explore\"\n",
    "driver = webdriver.Chrome(options=options)\n",
    "# driver = webdriver.Chrome()\n",
    "# driver.get(path)"
   ]
  },
  {
   "cell_type": "code",
   "execution_count": 13,
   "id": "d280cd7d-e51b-4da5-90ad-bc086c1e2d53",
   "metadata": {},
   "outputs": [
    {
     "name": "stdout",
     "output_type": "stream",
     "text": [
      "A medium-sized white seabird with black marks on the wings and a yellow beak. The long white tail streamers are visible from a great distance. Nests on coastal and inland cliffs on the main islands. Often seen flying over canyons and along cliffs. At sea usually flies high above the water. Calls are loud clucks and squawks. Smaller and more graceful in flight than Red-tailed Tropicbird.\n"
     ]
    }
   ],
   "source": [
    "from selenium.webdriver.common.keys import Keys\n",
    "from selenium.webdriver.common.by import By\n",
    "from selenium.webdriver.support.ui import WebDriverWait\n",
    "from selenium.webdriver.support import expected_conditions as EC\n",
    "\n",
    "species_name = \"WHITE TAILED TROPIC\"\n",
    "\n",
    "input_e = driver.find_element(By.ID, \"species\")\n",
    "input_e.send_keys(species_name)\n",
    "WebDriverWait(driver, 3).until(EC.presence_of_element_located((By.ID, \"Suggest-suggestion-0\"))).click()\n",
    "\n",
    "species_desc_e = driver.find_element(By.CLASS_NAME, \"u-stack-sm\")\n",
    "print(species_desc_e.text)"
   ]
  },
  {
   "cell_type": "markdown",
   "id": "99b7756f-c6cc-402e-9752-1db43f048232",
   "metadata": {},
   "source": [
    "# Produce the bird names file"
   ]
  },
  {
   "cell_type": "code",
   "execution_count": 11,
   "id": "4c2b9fd4-777f-41e0-8970-295ef8b582e2",
   "metadata": {},
   "outputs": [
    {
     "name": "stdout",
     "output_type": "stream",
     "text": [
      "File written successfully\n"
     ]
    }
   ],
   "source": [
    "new_bird_names = []\n",
    "for file in files:\n",
    "    file_components = file.split(\"/\")\n",
    "    if int(file_components[-1][0]) > 1: continue\n",
    "    new_bird_name = file_components[-2]\n",
    "    new_bird_names.append(new_bird_name)\n",
    "\n",
    "with open('data/bird_names.txt', 'w+') as f:\n",
    "    for items in new_bird_names:\n",
    "        f.write('%s\\n' %items)\n",
    "    print(\"File written successfully\")\n",
    "f.close()"
   ]
  },
  {
   "cell_type": "code",
   "execution_count": 14,
   "id": "23f255dc-8608-4a9c-8474-ccd278014bc5",
   "metadata": {},
   "outputs": [],
   "source": [
    "def get_desc(species_name, path, driver):\n",
    "    driver.get(path)\n",
    "\n",
    "    input_e = driver.find_element(By.ID, \"species\")\n",
    "    input_e.send_keys(species_name)\n",
    "    try:\n",
    "        WebDriverWait(driver, 3).until(EC.presence_of_element_located((By.ID, \"Suggest-suggestion-0\"))).click()\n",
    "        species_desc_e = driver.find_element(By.CLASS_NAME, \"u-stack-sm\")\n",
    "        return {\"status\":200, \"desc\": species_desc_e.text}\n",
    "    except Exception as e:\n",
    "        return {\"status\":400, \"error\": str(e)}"
   ]
  },
  {
   "cell_type": "code",
   "execution_count": null,
   "id": "e3722bdc-4788-452c-921c-d6e6acf566ea",
   "metadata": {},
   "outputs": [],
   "source": [
    "from tqdm import tqdm\n",
    "\n",
    "file1 = open('data/bird_names.txt', 'r')\n",
    "lines = file1.readlines()\n",
    "\n",
    "failed_names = []\n",
    "name_desc_pairs = {}\n",
    "for line in tqdm(lines):\n",
    "    res = get_desc(line, path, driver)\n",
    "    if res[\"status\"] == 200:\n",
    "        name_desc_pairs[line] = res[\"desc\"]\n",
    "    elif res[\"status\"] == 400:\n",
    "        print(f\"{line} failed: {res[\"error\"]}\")\n",
    "        failed_names.append(line)\n",
    "\n",
    "print(\"finished grabbing data..\")\n",
    "print(\"start writing files\")\n",
    "print(\"writing failed name file\")\n",
    "\n",
    "# post processing\n",
    "with open('data/failed_names.txt', 'w+') as f:\n",
    "    for items in tqdm(failed_names):\n",
    "        f.write('%s\\n' %items)\n",
    "    print(\"Failed name file written successfully\")\n",
    "f.close()\n",
    "\n",
    "import json\n",
    "\n",
    "name_desc_pairs_obj = json.dumps(name_desc_pairs, indent=4)\n",
    "\n",
    "print(\"writing name desc json file\")\n",
    "with open(\"data/name_desc_pairs.json\", \"w\") as f:\n",
    "    f.write(name_desc_pairs_obj)\n",
    "    print(\"Name desc pair file written successfully\")\n",
    "\n",
    "f.close()"
   ]
  },
  {
   "cell_type": "code",
   "execution_count": 17,
   "id": "eac64791-fef8-4070-bfe9-a297d9695ff8",
   "metadata": {},
   "outputs": [
    {
     "name": "stdout",
     "output_type": "stream",
     "text": [
      "writing name desc json file\n",
      "Name desc pair file written successfully\n"
     ]
    }
   ],
   "source": [
    "f = open('data/name_desc_pairs.json')\n",
    "\n",
    "data = json.load(f)\n",
    "\n",
    "f.close()\n",
    "\n",
    "new_data = {}\n",
    "for attribute, value in data.items():\n",
    "    new_data[attribute[:-1]] = value\n",
    "\n",
    "data_obj = json.dumps(new_data, indent=4)\n",
    "\n",
    "print(\"writing name desc json file\")\n",
    "with open(\"data/name_desc_pairs.json\", \"w\") as f:\n",
    "    f.write(data_obj)\n",
    "    print(\"Name desc pair file written successfully\")\n",
    "\n",
    "f.close()"
   ]
  },
  {
   "cell_type": "code",
   "execution_count": 18,
   "id": "88b82594-07ea-4f64-8f96-a11ab03ae398",
   "metadata": {},
   "outputs": [
    {
     "name": "stdout",
     "output_type": "stream",
     "text": [
      "writing failed name desc json file\n",
      "failed name desc pair file written successfully\n"
     ]
    }
   ],
   "source": [
    "file1 = open('data/failed_names.txt', 'r')\n",
    "lines = file1.readlines()\n",
    "\n",
    "failed_name_desc_pairs = {}\n",
    "for line in lines:\n",
    "    failed_name_desc_pairs[line[:-1]]=\"\"\n",
    "\n",
    "data_obj = json.dumps(failed_name_desc_pairs, indent=4)\n",
    "\n",
    "print(\"writing failed name desc json file\")\n",
    "with open(\"data/failed_name_desc_pairs.json\", \"w\") as f:\n",
    "    f.write(data_obj)\n",
    "    print(\"failed name desc pair file written successfully\")\n",
    "\n",
    "f.close()"
   ]
  },
  {
   "cell_type": "code",
   "execution_count": 2,
   "id": "ebd75751-8e9a-4dcf-bfed-f09a20bc781c",
   "metadata": {},
   "outputs": [],
   "source": [
    "from selenium.webdriver.common.keys import Keys\n",
    "from selenium.webdriver.common.by import By\n",
    "from selenium.webdriver.support.ui import WebDriverWait\n",
    "from selenium.webdriver.support import expected_conditions as EC\n",
    "\n",
    "def get_desc_gsearch(species_name, path, driver):\n",
    "    driver.get(path)\n",
    "\n",
    "    input_e = driver.find_element(By.CLASS_NAME, \"gLFyf\")\n",
    "    input_e.send_keys(species_name + \" ebird\")\n",
    "    input_e.send_keys(Keys.ENTER)\n",
    "    try:\n",
    "        e = WebDriverWait(driver, 3).until(EC.presence_of_element_located((By.CSS_SELECTOR, \"a[href*='https://ebird.org/species/']\")))\n",
    "        driver.get(e.get_attribute('href'))\n",
    "        species_desc_e = driver.find_element(By.CLASS_NAME, \"u-stack-sm\")\n",
    "        return {\"status\":200, \"desc\": species_desc_e.text}\n",
    "    except Exception as e:\n",
    "        return {\"status\":400, \"error\": str(e)}"
   ]
  },
  {
   "cell_type": "code",
   "execution_count": 3,
   "id": "fc09f90e-f916-4a08-ac2f-c96a61cdc88c",
   "metadata": {},
   "outputs": [],
   "source": [
    "from selenium import webdriver\n",
    "from selenium.webdriver.chrome.options import Options\n",
    "\n",
    "options = Options()\n",
    "options.add_argument('--headless=new')\n",
    "\n",
    "driver = webdriver.Chrome(options=options)"
   ]
  },
  {
   "cell_type": "code",
   "execution_count": 7,
   "id": "ea18ad22-796c-4724-9fad-3674c0157e9f",
   "metadata": {},
   "outputs": [
    {
     "name": "stdout",
     "output_type": "stream",
     "text": [
      "{'status': 200, 'desc': 'Es inconfundible pero difícil de detectar en las paredes rocosas. Espectacular en vuelo, con alas anchas negras, rosadas y con manchas blancas, asemejándose a una mariposa gigante. Usualmente se encuentra en las paredes rocosas de alta montaña, pero también se reproduce en abruptas gargantas en altitudes más bajas e incluso se puede encontrar en edificios altos en invierno. El macho reproductor tiene una garganta negra; los machos en invierno, así como las hembras tienen la garganta blanca.'}\n"
     ]
    }
   ],
   "source": [
    "path = \"https://www.google.com/\"\n",
    "species_name = \"WALL CREAPER\"\n",
    "\n",
    "print(get_desc_gsearch(species_name, path, driver))"
   ]
  },
  {
   "cell_type": "code",
   "execution_count": 17,
   "id": "34dc29d6-6626-41ae-b999-8adf27d3d2c7",
   "metadata": {},
   "outputs": [],
   "source": [
    "import json\n",
    "\n",
    "file = open('data/failed_name_desc_pairs.json', 'r')\n",
    "data = json.load(file)\n",
    "keys = data.keys()\n",
    "\n",
    "with open('data/failed_names.txt', 'w+') as f:\n",
    "    for key in keys:\n",
    "        f.write(f\"{key}\\n\")"
   ]
  },
  {
   "cell_type": "code",
   "execution_count": 8,
   "id": "82548709-3eab-4d4d-a5a3-da4c06142192",
   "metadata": {},
   "outputs": [
    {
     "name": "stderr",
     "output_type": "stream",
     "text": [
      "100%|███████████████████████████████████████████| 14/14 [00:24<00:00,  1.77s/it]\n"
     ]
    },
    {
     "name": "stdout",
     "output_type": "stream",
     "text": [
      "LOONEY BIRDS failed: Message: \n",
      "Stacktrace:\n",
      "0   chromedriver                        0x0000000100faba20 chromedriver + 4389408\n",
      "1   chromedriver                        0x0000000100fa432c chromedriver + 4358956\n",
      "2   chromedriver                        0x0000000100bc0afc chromedriver + 281340\n",
      "3   chromedriver                        0x0000000100c032c8 chromedriver + 553672\n",
      "4   chromedriver                        0x0000000100c3bcec chromedriver + 785644\n",
      "5   chromedriver                        0x0000000100bf7ed0 chromedriver + 507600\n",
      "6   chromedriver                        0x0000000100bf88a8 chromedriver + 510120\n",
      "7   chromedriver                        0x0000000100f733a4 chromedriver + 4158372\n",
      "8   chromedriver                        0x0000000100f77e08 chromedriver + 4177416\n",
      "9   chromedriver                        0x0000000100f59064 chromedriver + 4051044\n",
      "10  chromedriver                        0x0000000100f786f4 chromedriver + 4179700\n",
      "11  chromedriver                        0x0000000100f4c064 chromedriver + 3997796\n",
      "12  chromedriver                        0x0000000100f960bc chromedriver + 4300988\n",
      "13  chromedriver                        0x0000000100f96238 chromedriver + 4301368\n",
      "14  chromedriver                        0x0000000100fa3f24 chromedriver + 4357924\n",
      "15  libsystem_pthread.dylib             0x0000000183452f94 _pthread_start + 136\n",
      "16  libsystem_pthread.dylib             0x000000018344dd34 thread_start + 8\n",
      "\n",
      "finished grabbing data..\n",
      "start writing files\n",
      "writing failed name file\n"
     ]
    },
    {
     "name": "stderr",
     "output_type": "stream",
     "text": [
      "100%|██████████████████████████████████████████| 1/1 [00:00<00:00, 34379.54it/s]"
     ]
    },
    {
     "name": "stdout",
     "output_type": "stream",
     "text": [
      "gsearch failed name file written successfully\n",
      "writing gsearch name desc json file\n",
      "Name desc pair file written successfully\n"
     ]
    },
    {
     "name": "stderr",
     "output_type": "stream",
     "text": [
      "\n"
     ]
    }
   ],
   "source": [
    "from tqdm import tqdm\n",
    "\n",
    "file = open('data/gsearch_failed_names.txt', 'r')\n",
    "lines = file.readlines()\n",
    "\n",
    "gsearch_failed_names = []\n",
    "gsearch_name_desc_pairs = {}\n",
    "for line in tqdm(lines):\n",
    "    res = get_desc_gsearch(line[:-1], path, driver)\n",
    "    if res[\"status\"] == 200:\n",
    "        gsearch_name_desc_pairs[line[:-1]] = res[\"desc\"]\n",
    "    elif res[\"status\"] == 400:\n",
    "        print(f\"{line[:-1]} failed: {res[\"error\"]}\")\n",
    "        gsearch_failed_names.append(line[:-1])\n",
    "\n",
    "print(\"finished grabbing data..\")\n",
    "print(\"start writing files\")\n",
    "print(\"writing failed name file\")\n",
    "\n",
    "# post processing\n",
    "with open('data/gsearch_failed_names.txt', 'w+') as f:\n",
    "    for items in tqdm(gsearch_failed_names):\n",
    "        f.write('%s\\n' %items)\n",
    "    print(\"gsearch failed name file written successfully\")\n",
    "f.close()\n",
    "\n",
    "import json\n",
    "\n",
    "gsearch_name_desc_pairs_obj = json.dumps(gsearch_name_desc_pairs, indent=4)\n",
    "\n",
    "print(\"writing gsearch name desc json file\")\n",
    "with open(\"data/gsearch_name_desc_pairs.json\", \"w\") as f:\n",
    "    f.write(gsearch_name_desc_pairs_obj)\n",
    "    print(\"Name desc pair file written successfully\")\n",
    "\n",
    "f.close()"
   ]
  },
  {
   "cell_type": "code",
   "execution_count": 10,
   "id": "f0f0aba7-9756-4370-b73f-96e50b19e661",
   "metadata": {},
   "outputs": [],
   "source": [
    "file = open('data/name_desc_pairs.json', 'r')\n",
    "data = json.load(file)\n",
    "keys = data.keys()\n",
    "\n",
    "for key in keys:\n",
    "    with open(f'data/bird_descriptions/{key}.txt', 'w+') as f:\n",
    "        f.write(f\"{data[key]}\")\n",
    "        f.close()"
   ]
  }
 ],
 "metadata": {
  "kernelspec": {
   "display_name": "Python 3 (ipykernel)",
   "language": "python",
   "name": "python3"
  },
  "language_info": {
   "codemirror_mode": {
    "name": "ipython",
    "version": 3
   },
   "file_extension": ".py",
   "mimetype": "text/x-python",
   "name": "python",
   "nbconvert_exporter": "python",
   "pygments_lexer": "ipython3",
   "version": "3.12.3"
  }
 },
 "nbformat": 4,
 "nbformat_minor": 5
}
