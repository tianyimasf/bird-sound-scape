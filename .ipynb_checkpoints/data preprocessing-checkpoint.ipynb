{
 "cells": [
  {
   "cell_type": "code",
   "execution_count": null,
   "id": "0d42ff23-a739-45c0-9c27-4c7a26baa0f4",
   "metadata": {},
   "outputs": [],
   "source": [
    "!pip3 install python-dotenv"
   ]
  },
  {
   "cell_type": "code",
   "execution_count": 2,
   "id": "26c0b914-c57a-4120-8b43-5053cadc60ad",
   "metadata": {},
   "outputs": [],
   "source": [
    "import pandas as pd\n",
    "import numpy as np\n",
    "import requests\n",
    "from bs4 import BeautifulSoup\n",
    "import time\n",
    "from dotenv import load_dotenv\n",
    "import os"
   ]
  },
  {
   "cell_type": "code",
   "execution_count": 10,
   "id": "20491aaa-7d26-40cf-986d-d686d994fbdb",
   "metadata": {},
   "outputs": [],
   "source": [
    "from glob import glob\n",
    "path = \"data/bird_images/valid\"\n",
    "files = glob(f'{path}/**/*.jpg', recursive=True)"
   ]
  },
  {
   "cell_type": "code",
   "execution_count": null,
   "id": "f5b06617-264f-456c-a9bc-fc286a108635",
   "metadata": {},
   "outputs": [],
   "source": [
    "from PIL import Image  \n",
    "import PIL\n",
    "\n",
    "path = \"data/bird_images/valid_flattened/\"\n",
    "new_filenames = []\n",
    "for file in files:\n",
    "    file_components = file.split(\"/\")\n",
    "    if int(file_components[-1][0]) > 2: continue\n",
    "    new_filename = f\"{file_components[-2]}-{file_components[-1][0]}\"\n",
    "    new_filenames.append(new_filename)\n",
    "\n",
    "with open('data/bird_icon_names.txt', 'w+') as f:\n",
    "    for items in new_filenames:\n",
    "        f.write('%s\\n' %items)\n",
    "    print(\"File written successfully\")\n",
    "f.close()"
   ]
  },
  {
   "cell_type": "code",
   "execution_count": null,
   "id": "b749834f-e77c-4f9e-b643-4d1709e30c6b",
   "metadata": {},
   "outputs": [],
   "source": [
    "newsize = (185, 185)\n",
    "for file in files:\n",
    "    img = Image.open(file)\n",
    "    img.resize(newsize)\n",
    "    file_components = file.split(\"/\")\n",
    "    if int(file_components[-1][0]) > 2: continue\n",
    "    new_filename = f\"{file_components[-2]}-{file_components[-1]}\"\n",
    "    img.save(f\"{path}{new_filename}\")"
   ]
  },
  {
   "cell_type": "markdown",
   "id": "e5170a4d-6adf-4f2b-b73b-4361fd413583",
   "metadata": {},
   "source": [
    "# Scraping ebird"
   ]
  },
  {
   "cell_type": "code",
   "execution_count": null,
   "id": "c2bad77e-d3b4-4547-ad1e-80f9a0fe3aaf",
   "metadata": {},
   "outputs": [],
   "source": [
    "df = pd.read_csv('data/ebird data.txt', sep=\"\\t\", header=0)"
   ]
  },
  {
   "cell_type": "code",
   "execution_count": null,
   "id": "66961cc6-10f0-441d-94bc-eee5e625b8bc",
   "metadata": {},
   "outputs": [],
   "source": [
    "df.columns"
   ]
  },
  {
   "cell_type": "code",
   "execution_count": null,
   "id": "fac3778e-e531-4f8d-b0c2-bf35bdf5e9a2",
   "metadata": {},
   "outputs": [],
   "source": [
    "df[\"COUNTY CODE\"][:10]"
   ]
  },
  {
   "cell_type": "code",
   "execution_count": null,
   "id": "7f9cd372-0562-4815-adf5-7847ba5d1909",
   "metadata": {},
   "outputs": [],
   "source": [
    "df.COUNTY[:10]"
   ]
  },
  {
   "cell_type": "code",
   "execution_count": null,
   "id": "ed7fc3e6-1f50-4453-972d-fce4583a6bae",
   "metadata": {},
   "outputs": [],
   "source": [
    "BASE_URL = \"https://ebird.org/checklist/S177363513\""
   ]
  },
  {
   "cell_type": "code",
   "execution_count": null,
   "id": "53ce0062-9938-4f8e-8d10-af1d4e6e8f4d",
   "metadata": {},
   "outputs": [],
   "source": [
    "r = requests.get(BASE_URL, verify=False)\n",
    "r.raise_for_status()\n",
    "\n",
    "soup = BeautifulSoup(r.content, 'html5lib')"
   ]
  },
  {
   "cell_type": "code",
   "execution_count": null,
   "id": "1bc7d508-3c8f-41b5-9a45-28fe7eb6a46d",
   "metadata": {},
   "outputs": [],
   "source": [
    "def build_media_data_for_checklist(soup):\n",
    "    species = soup.findAll('li', attrs = {'data-observationhasphotos':True, 'data-observationhasaudios':True}) \n",
    "    species_photos = soup.findAll('li', attrs = {'data-observationhasphotos':True}) \n",
    "    species_audios = soup.findAll('li', attrs = {'data-observationhasaudios':True}) \n",
    "    species.extend(species_photos)\n",
    "    species.extend(species_audios)\n",
    "    \n",
    "    species_json = []\n",
    "    for s in species:\n",
    "        species_info = s.find('div', attrs={'class':'Observation-species'})\n",
    "        species_soup = BeautifulSoup(str(s))\n",
    "        # print(species_soup.prettify())\n",
    "        href = species_info.find('a')['href']\n",
    "        name = species_info.find('span').text\n",
    "        media_id_elements = s.findAll('div', attrs = {'data-media-commonname':name})\n",
    "        media_ids = []\n",
    "        for e in media_id_elements:\n",
    "            media_ids.append(e[\"data-media-id\"])\n",
    "        s_json = {'href':href, 'name':name, 'media_ids':media_ids}\n",
    "        species_json.append(s_json)\n",
    "        \n",
    "    return species_json"
   ]
  },
  {
   "cell_type": "code",
   "execution_count": null,
   "id": "2a0fe9ca-3305-47a9-9874-d276ab698309",
   "metadata": {},
   "outputs": [],
   "source": [
    "species_json = build_media_data_for_checklist(soup)\n",
    "species_json"
   ]
  },
  {
   "cell_type": "markdown",
   "id": "67b80eef-4293-4510-a532-6443d3a3dca0",
   "metadata": {},
   "source": [
    "# Getting recent data for region"
   ]
  },
  {
   "cell_type": "code",
   "execution_count": null,
   "id": "5d144200-461c-40d5-aae7-89ea82b2b847",
   "metadata": {},
   "outputs": [],
   "source": [
    "load_dotenv()\n",
    "access_token = os.getenv(\"EBIRD_API_ACCESS_TOKEN\")\n",
    "\n",
    "headers =  {\"Content-Type\":\"application/json\", \"x-ebirdapitoken\": access_token}\n",
    "region_code = \"US-CO-013\"\n",
    "code2 = \"AL\"\n",
    "\n",
    "get_url = \"https://api.ebird.org/v2/data/obs/{}/recent\".format(region_code)\n",
    "res = requests.get(get_url, headers=headers, verify=False)\n",
    "res.json()"
   ]
  },
  {
   "cell_type": "code",
   "execution_count": null,
   "id": "ee3b86a8-3e24-403d-9ac0-67ba713ad8e5",
   "metadata": {},
   "outputs": [],
   "source": [
    "res_json = res.json()\n",
    "print(len(res_json))"
   ]
  },
  {
   "cell_type": "code",
   "execution_count": null,
   "id": "e3e4cae0-c059-43c9-a9d1-ce8f93a721d2",
   "metadata": {},
   "outputs": [],
   "source": [
    "max_res = 100\n",
    "get_checklists_url = \"https://api.ebird.org/v2/product/lists/{}?maxResults={}\".format(region_code, max_res)\n",
    "res = requests.get(get_checklists_url, headers=headers, verify=False)\n",
    "res.json()\n",
    "res_json = res.json()\n",
    "print(len(res_json))"
   ]
  },
  {
   "cell_type": "code",
   "execution_count": null,
   "id": "e22e2b2c-8fea-4623-a159-6abf614e4729",
   "metadata": {},
   "outputs": [],
   "source": [
    "res_json[:-10]"
   ]
  },
  {
   "cell_type": "markdown",
   "id": "8ca8ea14-68a1-4231-a906-1a1e0a0bddd6",
   "metadata": {},
   "source": [
    "# Getting species intro"
   ]
  },
  {
   "cell_type": "code",
   "execution_count": 8,
   "id": "303f9492-7699-46ec-a676-54f0df808670",
   "metadata": {},
   "outputs": [],
   "source": [
    "from selenium import webdriver\n",
    "load_dotenv()\n",
    "access_token = os.getenv(\"EBIRD_API_ACCESS_TOKEN\")\n",
    "from selenium.webdriver.chrome.options import Options\n",
    "\n",
    "options = Options()\n",
    "options.add_argument('--headless=new')\n",
    "\n",
    "path = \"https://ebird.org/explore\"\n",
    "driver = webdriver.Chrome(options=options)\n",
    "# driver = webdriver.Chrome()\n",
    "driver.get(path)"
   ]
  },
  {
   "cell_type": "code",
   "execution_count": 9,
   "id": "d280cd7d-e51b-4da5-90ad-bc086c1e2d53",
   "metadata": {},
   "outputs": [
    {
     "name": "stdout",
     "output_type": "stream",
     "text": [
      "A medium-sized white seabird with black marks on the wings and a yellow beak. The long white tail streamers are visible from a great distance. Nests on coastal and inland cliffs on the main islands. Often seen flying over canyons and along cliffs. At sea usually flies high above the water. Calls are loud clucks and squawks. Smaller and more graceful in flight than Red-tailed Tropicbird.\n"
     ]
    }
   ],
   "source": [
    "from selenium.webdriver.common.keys import Keys\n",
    "from selenium.webdriver.common.by import By\n",
    "from selenium.webdriver.support.ui import WebDriverWait\n",
    "from selenium.webdriver.support import expected_conditions as EC\n",
    "import time\n",
    "\n",
    "species_name = \"WHITE TAILED TROPIC\"\n",
    "\n",
    "input_e = driver.find_element(By.ID, \"species\")\n",
    "input_e.send_keys(species_name)\n",
    "WebDriverWait(driver, 3).until(EC.presence_of_element_located((By.ID, \"Suggest-suggestion-0\"))).click()\n",
    "\n",
    "species_desc_e = driver.find_element(By.CLASS_NAME, \"u-stack-sm\")\n",
    "print(species_desc_e.text)"
   ]
  },
  {
   "cell_type": "markdown",
   "id": "99b7756f-c6cc-402e-9752-1db43f048232",
   "metadata": {},
   "source": [
    "# Produce the bird names file"
   ]
  },
  {
   "cell_type": "code",
   "execution_count": 11,
   "id": "4c2b9fd4-777f-41e0-8970-295ef8b582e2",
   "metadata": {},
   "outputs": [
    {
     "name": "stdout",
     "output_type": "stream",
     "text": [
      "File written successfully\n"
     ]
    }
   ],
   "source": [
    "new_bird_names = []\n",
    "for file in files:\n",
    "    file_components = file.split(\"/\")\n",
    "    if int(file_components[-1][0]) > 1: continue\n",
    "    new_bird_name = file_components[-2]\n",
    "    new_bird_names.append(new_bird_name)\n",
    "\n",
    "with open('data/bird_names.txt', 'w+') as f:\n",
    "    for items in new_bird_names:\n",
    "        f.write('%s\\n' %items)\n",
    "    print(\"File written successfully\")\n",
    "f.close()"
   ]
  },
  {
   "cell_type": "code",
   "execution_count": null,
   "id": "23f255dc-8608-4a9c-8474-ccd278014bc5",
   "metadata": {},
   "outputs": [],
   "source": [
    "def get_desc(species_name, path, driver):\n",
    "    driver.get(path)\n",
    "\n",
    "    input_e = driver.find_element(By.ID, \"species\")\n",
    "    input_e.send_keys(species_name)\n",
    "    try:\n",
    "        WebDriverWait(driver, 3).until(EC.presence_of_element_located((By.ID, \"Suggest-suggestion-0\"))).click()\n",
    "        species_desc_e = driver.find_element(By.CLASS_NAME, \"u-stack-sm\")\n",
    "        return {\"status\":200, \"desc\": species_desc_e.text}\n",
    "    except Exception as e:\n",
    "        return {\"status\":400, \"error\": str(e)}"
   ]
  },
  {
   "cell_type": "code",
   "execution_count": null,
   "id": "e3722bdc-4788-452c-921c-d6e6acf566ea",
   "metadata": {},
   "outputs": [],
   "source": [
    "file1 = open('data/bird_names.txt', 'r')\n",
    "lines = file1.readlines()\n",
    "\n",
    "failed_names = []\n",
    "name_desc_pairs = {}\n",
    "for line in lines:\n",
    "    res = get_desc(line, path, driver)\n",
    "    if res.status == 200:\n",
    "        name_desc_pairs[line] = res.desc\n",
    "    elif res.status == 400:\n",
    "        print(f\"{line} failed: {res.error}\")\n",
    "        failed_names.append(line)\n",
    "\n",
    "# post processing\n",
    "with open('data/failed_names.txt', 'w+') as f:\n",
    "    for items in failed_names:\n",
    "        f.write('%s\\n' %items)\n",
    "    print(\"Failed name file written successfully\")\n",
    "f.close()\n",
    "\n",
    "import json\n",
    "\n",
    "name_desc_pairs_obj = json.dumps(name_desc_pairs, indent=4)\n",
    "\n",
    "with open(\"data/name_desc_pairs.json\", \"w\") as f:\n",
    "    f.write(name_desc_pairs_obj)\n",
    "    print(\"Name desc pair file written successfully\")\n",
    "\n",
    "f.close()"
   ]
  }
 ],
 "metadata": {
  "kernelspec": {
   "display_name": "Python 3 (ipykernel)",
   "language": "python",
   "name": "python3"
  },
  "language_info": {
   "codemirror_mode": {
    "name": "ipython",
    "version": 3
   },
   "file_extension": ".py",
   "mimetype": "text/x-python",
   "name": "python",
   "nbconvert_exporter": "python",
   "pygments_lexer": "ipython3",
   "version": "3.12.3"
  }
 },
 "nbformat": 4,
 "nbformat_minor": 5
}
