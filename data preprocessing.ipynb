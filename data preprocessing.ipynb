{
 "cells": [
  {
   "cell_type": "code",
   "execution_count": null,
   "id": "0d42ff23-a739-45c0-9c27-4c7a26baa0f4",
   "metadata": {},
   "outputs": [],
   "source": [
    "!pip3 install python-dotenv"
   ]
  },
  {
   "cell_type": "code",
   "execution_count": 2,
   "id": "26c0b914-c57a-4120-8b43-5053cadc60ad",
   "metadata": {},
   "outputs": [],
   "source": [
    "import pandas as pd\n",
    "import numpy as np\n",
    "import requests\n",
    "from bs4 import BeautifulSoup\n",
    "import time\n",
    "from dotenv import load_dotenv\n",
    "import os"
   ]
  },
  {
   "cell_type": "code",
   "execution_count": 10,
   "id": "20491aaa-7d26-40cf-986d-d686d994fbdb",
   "metadata": {},
   "outputs": [],
   "source": [
    "from glob import glob\n",
    "path = \"data/bird_images/valid\"\n",
    "files = glob(f'{path}/**/*.jpg', recursive=True)"
   ]
  },
  {
   "cell_type": "code",
   "execution_count": null,
   "id": "f5b06617-264f-456c-a9bc-fc286a108635",
   "metadata": {},
   "outputs": [],
   "source": [
    "from PIL import Image  \n",
    "import PIL\n",
    "\n",
    "path = \"data/bird_images/valid_flattened/\"\n",
    "new_filenames = []\n",
    "for file in files:\n",
    "    file_components = file.split(\"/\")\n",
    "    if int(file_components[-1][0]) > 2: continue\n",
    "    new_filename = f\"{file_components[-2]}-{file_components[-1][0]}\"\n",
    "    new_filenames.append(new_filename)\n",
    "\n",
    "with open('data/bird_icon_names.txt', 'w+') as f:\n",
    "    for items in new_filenames:\n",
    "        f.write('%s\\n' %items)\n",
    "    print(\"File written successfully\")\n",
    "f.close()"
   ]
  },
  {
   "cell_type": "code",
   "execution_count": null,
   "id": "b749834f-e77c-4f9e-b643-4d1709e30c6b",
   "metadata": {},
   "outputs": [],
   "source": [
    "newsize = (185, 185)\n",
    "for file in files:\n",
    "    img = Image.open(file)\n",
    "    img.resize(newsize)\n",
    "    file_components = file.split(\"/\")\n",
    "    if int(file_components[-1][0]) > 2: continue\n",
    "    new_filename = f\"{file_components[-2]}-{file_components[-1]}\"\n",
    "    img.save(f\"{path}{new_filename}\")"
   ]
  },
  {
   "cell_type": "markdown",
   "id": "e5170a4d-6adf-4f2b-b73b-4361fd413583",
   "metadata": {},
   "source": [
    "# Scraping ebird"
   ]
  },
  {
   "cell_type": "code",
   "execution_count": null,
   "id": "c2bad77e-d3b4-4547-ad1e-80f9a0fe3aaf",
   "metadata": {},
   "outputs": [],
   "source": [
    "df = pd.read_csv('data/ebird data.txt', sep=\"\\t\", header=0)"
   ]
  },
  {
   "cell_type": "code",
   "execution_count": null,
   "id": "66961cc6-10f0-441d-94bc-eee5e625b8bc",
   "metadata": {},
   "outputs": [],
   "source": [
    "df.columns"
   ]
  },
  {
   "cell_type": "code",
   "execution_count": null,
   "id": "fac3778e-e531-4f8d-b0c2-bf35bdf5e9a2",
   "metadata": {},
   "outputs": [],
   "source": [
    "df[\"COUNTY CODE\"][:10]"
   ]
  },
  {
   "cell_type": "code",
   "execution_count": null,
   "id": "7f9cd372-0562-4815-adf5-7847ba5d1909",
   "metadata": {},
   "outputs": [],
   "source": [
    "df.COUNTY[:10]"
   ]
  },
  {
   "cell_type": "code",
   "execution_count": null,
   "id": "ed7fc3e6-1f50-4453-972d-fce4583a6bae",
   "metadata": {},
   "outputs": [],
   "source": [
    "BASE_URL = \"https://ebird.org/checklist/S177363513\""
   ]
  },
  {
   "cell_type": "code",
   "execution_count": null,
   "id": "53ce0062-9938-4f8e-8d10-af1d4e6e8f4d",
   "metadata": {},
   "outputs": [],
   "source": [
    "r = requests.get(BASE_URL, verify=False)\n",
    "r.raise_for_status()\n",
    "\n",
    "soup = BeautifulSoup(r.content, 'html5lib')"
   ]
  },
  {
   "cell_type": "code",
   "execution_count": null,
   "id": "1bc7d508-3c8f-41b5-9a45-28fe7eb6a46d",
   "metadata": {},
   "outputs": [],
   "source": [
    "def build_media_data_for_checklist(soup):\n",
    "    species = soup.findAll('li', attrs = {'data-observationhasphotos':True, 'data-observationhasaudios':True}) \n",
    "    species_photos = soup.findAll('li', attrs = {'data-observationhasphotos':True}) \n",
    "    species_audios = soup.findAll('li', attrs = {'data-observationhasaudios':True}) \n",
    "    species.extend(species_photos)\n",
    "    species.extend(species_audios)\n",
    "    \n",
    "    species_json = []\n",
    "    for s in species:\n",
    "        species_info = s.find('div', attrs={'class':'Observation-species'})\n",
    "        species_soup = BeautifulSoup(str(s))\n",
    "        # print(species_soup.prettify())\n",
    "        href = species_info.find('a')['href']\n",
    "        name = species_info.find('span').text\n",
    "        media_id_elements = s.findAll('div', attrs = {'data-media-commonname':name})\n",
    "        media_ids = []\n",
    "        for e in media_id_elements:\n",
    "            media_ids.append(e[\"data-media-id\"])\n",
    "        s_json = {'href':href, 'name':name, 'media_ids':media_ids}\n",
    "        species_json.append(s_json)\n",
    "        \n",
    "    return species_json"
   ]
  },
  {
   "cell_type": "code",
   "execution_count": null,
   "id": "2a0fe9ca-3305-47a9-9874-d276ab698309",
   "metadata": {},
   "outputs": [],
   "source": [
    "species_json = build_media_data_for_checklist(soup)\n",
    "species_json"
   ]
  },
  {
   "cell_type": "markdown",
   "id": "67b80eef-4293-4510-a532-6443d3a3dca0",
   "metadata": {},
   "source": [
    "# Getting recent data for region"
   ]
  },
  {
   "cell_type": "code",
   "execution_count": null,
   "id": "5d144200-461c-40d5-aae7-89ea82b2b847",
   "metadata": {},
   "outputs": [],
   "source": [
    "load_dotenv()\n",
    "access_token = os.getenv(\"EBIRD_API_ACCESS_TOKEN\")\n",
    "\n",
    "headers =  {\"Content-Type\":\"application/json\", \"x-ebirdapitoken\": access_token}\n",
    "region_code = \"US-CO-013\"\n",
    "code2 = \"AL\"\n",
    "\n",
    "get_url = \"https://api.ebird.org/v2/data/obs/{}/recent\".format(region_code)\n",
    "res = requests.get(get_url, headers=headers, verify=False)\n",
    "res.json()"
   ]
  },
  {
   "cell_type": "code",
   "execution_count": null,
   "id": "ee3b86a8-3e24-403d-9ac0-67ba713ad8e5",
   "metadata": {},
   "outputs": [],
   "source": [
    "res_json = res.json()\n",
    "print(len(res_json))"
   ]
  },
  {
   "cell_type": "code",
   "execution_count": null,
   "id": "e3e4cae0-c059-43c9-a9d1-ce8f93a721d2",
   "metadata": {},
   "outputs": [],
   "source": [
    "max_res = 100\n",
    "get_checklists_url = \"https://api.ebird.org/v2/product/lists/{}?maxResults={}\".format(region_code, max_res)\n",
    "res = requests.get(get_checklists_url, headers=headers, verify=False)\n",
    "res.json()\n",
    "res_json = res.json()\n",
    "print(len(res_json))"
   ]
  },
  {
   "cell_type": "code",
   "execution_count": null,
   "id": "e22e2b2c-8fea-4623-a159-6abf614e4729",
   "metadata": {},
   "outputs": [],
   "source": [
    "res_json[:-10]"
   ]
  },
  {
   "cell_type": "markdown",
   "id": "8ca8ea14-68a1-4231-a906-1a1e0a0bddd6",
   "metadata": {},
   "source": [
    "# Getting species intro"
   ]
  },
  {
   "cell_type": "code",
   "execution_count": 12,
   "id": "303f9492-7699-46ec-a676-54f0df808670",
   "metadata": {},
   "outputs": [],
   "source": [
    "from selenium import webdriver\n",
    "load_dotenv()\n",
    "access_token = os.getenv(\"EBIRD_API_ACCESS_TOKEN\")\n",
    "from selenium.webdriver.chrome.options import Options\n",
    "\n",
    "options = Options()\n",
    "options.add_argument('--headless=new')\n",
    "\n",
    "path = \"https://ebird.org/explore\"\n",
    "driver = webdriver.Chrome(options=options)\n",
    "# driver = webdriver.Chrome()\n",
    "driver.get(path)"
   ]
  },
  {
   "cell_type": "code",
   "execution_count": 13,
   "id": "d280cd7d-e51b-4da5-90ad-bc086c1e2d53",
   "metadata": {},
   "outputs": [
    {
     "name": "stdout",
     "output_type": "stream",
     "text": [
      "A medium-sized white seabird with black marks on the wings and a yellow beak. The long white tail streamers are visible from a great distance. Nests on coastal and inland cliffs on the main islands. Often seen flying over canyons and along cliffs. At sea usually flies high above the water. Calls are loud clucks and squawks. Smaller and more graceful in flight than Red-tailed Tropicbird.\n"
     ]
    }
   ],
   "source": [
    "from selenium.webdriver.common.keys import Keys\n",
    "from selenium.webdriver.common.by import By\n",
    "from selenium.webdriver.support.ui import WebDriverWait\n",
    "from selenium.webdriver.support import expected_conditions as EC\n",
    "import time\n",
    "\n",
    "species_name = \"WHITE TAILED TROPIC\"\n",
    "\n",
    "input_e = driver.find_element(By.ID, \"species\")\n",
    "input_e.send_keys(species_name)\n",
    "WebDriverWait(driver, 3).until(EC.presence_of_element_located((By.ID, \"Suggest-suggestion-0\"))).click()\n",
    "\n",
    "species_desc_e = driver.find_element(By.CLASS_NAME, \"u-stack-sm\")\n",
    "print(species_desc_e.text)"
   ]
  },
  {
   "cell_type": "markdown",
   "id": "99b7756f-c6cc-402e-9752-1db43f048232",
   "metadata": {},
   "source": [
    "# Produce the bird names file"
   ]
  },
  {
   "cell_type": "code",
   "execution_count": 11,
   "id": "4c2b9fd4-777f-41e0-8970-295ef8b582e2",
   "metadata": {},
   "outputs": [
    {
     "name": "stdout",
     "output_type": "stream",
     "text": [
      "File written successfully\n"
     ]
    }
   ],
   "source": [
    "new_bird_names = []\n",
    "for file in files:\n",
    "    file_components = file.split(\"/\")\n",
    "    if int(file_components[-1][0]) > 1: continue\n",
    "    new_bird_name = file_components[-2]\n",
    "    new_bird_names.append(new_bird_name)\n",
    "\n",
    "with open('data/bird_names.txt', 'w+') as f:\n",
    "    for items in new_bird_names:\n",
    "        f.write('%s\\n' %items)\n",
    "    print(\"File written successfully\")\n",
    "f.close()"
   ]
  },
  {
   "cell_type": "code",
   "execution_count": 14,
   "id": "23f255dc-8608-4a9c-8474-ccd278014bc5",
   "metadata": {},
   "outputs": [],
   "source": [
    "def get_desc(species_name, path, driver):\n",
    "    driver.get(path)\n",
    "\n",
    "    input_e = driver.find_element(By.ID, \"species\")\n",
    "    input_e.send_keys(species_name)\n",
    "    try:\n",
    "        WebDriverWait(driver, 3).until(EC.presence_of_element_located((By.ID, \"Suggest-suggestion-0\"))).click()\n",
    "        species_desc_e = driver.find_element(By.CLASS_NAME, \"u-stack-sm\")\n",
    "        return {\"status\":200, \"desc\": species_desc_e.text}\n",
    "    except Exception as e:\n",
    "        return {\"status\":400, \"error\": str(e)}"
   ]
  },
  {
   "cell_type": "code",
   "execution_count": 16,
   "id": "e3722bdc-4788-452c-921c-d6e6acf566ea",
   "metadata": {},
   "outputs": [
    {
     "name": "stderr",
     "output_type": "stream",
     "text": [
      "  1%|▏                                          | 3/525 [00:05<18:34,  2.14s/it]"
     ]
    },
    {
     "name": "stdout",
     "output_type": "stream",
     "text": [
      "RUFUOS MOTMOT\n",
      " failed: Message: \n",
      "Stacktrace:\n",
      "0   chromedriver                        0x0000000104a464c8 chromedriver + 4302024\n",
      "1   chromedriver                        0x0000000104a3ee10 chromedriver + 4271632\n",
      "2   chromedriver                        0x000000010467019c chromedriver + 278940\n",
      "3   chromedriver                        0x00000001046b22c4 chromedriver + 549572\n",
      "4   chromedriver                        0x00000001046eac5c chromedriver + 781404\n",
      "5   chromedriver                        0x00000001046a7004 chromedriver + 503812\n",
      "6   chromedriver                        0x00000001046a79ec chromedriver + 506348\n",
      "7   chromedriver                        0x0000000104a0e510 chromedriver + 4072720\n",
      "8   chromedriver                        0x0000000104a12fbc chromedriver + 4091836\n",
      "9   chromedriver                        0x00000001049f5754 chromedriver + 3970900\n",
      "10  chromedriver                        0x0000000104a138a4 chromedriver + 4094116\n",
      "11  chromedriver                        0x00000001049e86d4 chromedriver + 3917524\n",
      "12  chromedriver                        0x0000000104a30b08 chromedriver + 4213512\n",
      "13  chromedriver                        0x0000000104a30c84 chromedriver + 4213892\n",
      "14  chromedriver                        0x0000000104a3ea08 chromedriver + 4270600\n",
      "15  libsystem_pthread.dylib             0x0000000183452f94 _pthread_start + 136\n",
      "16  libsystem_pthread.dylib             0x000000018344dd34 thread_start + 8\n",
      "\n"
     ]
    },
    {
     "name": "stderr",
     "output_type": "stream",
     "text": [
      "  2%|▋                                          | 9/525 [00:13<15:07,  1.76s/it]"
     ]
    },
    {
     "name": "stdout",
     "output_type": "stream",
     "text": [
      "EASTERN TOWEE\n",
      " failed: Message: \n",
      "Stacktrace:\n",
      "0   chromedriver                        0x0000000104a464c8 chromedriver + 4302024\n",
      "1   chromedriver                        0x0000000104a3ee10 chromedriver + 4271632\n",
      "2   chromedriver                        0x000000010467019c chromedriver + 278940\n",
      "3   chromedriver                        0x00000001046b22c4 chromedriver + 549572\n",
      "4   chromedriver                        0x00000001046eac5c chromedriver + 781404\n",
      "5   chromedriver                        0x00000001046a7004 chromedriver + 503812\n",
      "6   chromedriver                        0x00000001046a79ec chromedriver + 506348\n",
      "7   chromedriver                        0x0000000104a0e510 chromedriver + 4072720\n",
      "8   chromedriver                        0x0000000104a12fbc chromedriver + 4091836\n",
      "9   chromedriver                        0x00000001049f5754 chromedriver + 3970900\n",
      "10  chromedriver                        0x0000000104a138a4 chromedriver + 4094116\n",
      "11  chromedriver                        0x00000001049e86d4 chromedriver + 3917524\n",
      "12  chromedriver                        0x0000000104a30b08 chromedriver + 4213512\n",
      "13  chromedriver                        0x0000000104a30c84 chromedriver + 4213892\n",
      "14  chromedriver                        0x0000000104a3ea08 chromedriver + 4270600\n",
      "15  libsystem_pthread.dylib             0x0000000183452f94 _pthread_start + 136\n",
      "16  libsystem_pthread.dylib             0x000000018344dd34 thread_start + 8\n",
      "\n"
     ]
    },
    {
     "name": "stderr",
     "output_type": "stream",
     "text": [
      "  2%|▉                                         | 11/525 [00:18<18:23,  2.15s/it]"
     ]
    },
    {
     "name": "stdout",
     "output_type": "stream",
     "text": [
      "HOOPOES\n",
      " failed: Message: \n",
      "Stacktrace:\n",
      "0   chromedriver                        0x0000000104a464c8 chromedriver + 4302024\n",
      "1   chromedriver                        0x0000000104a3ee10 chromedriver + 4271632\n",
      "2   chromedriver                        0x000000010467019c chromedriver + 278940\n",
      "3   chromedriver                        0x00000001046b22c4 chromedriver + 549572\n",
      "4   chromedriver                        0x00000001046eac5c chromedriver + 781404\n",
      "5   chromedriver                        0x00000001046a7004 chromedriver + 503812\n",
      "6   chromedriver                        0x00000001046a79ec chromedriver + 506348\n",
      "7   chromedriver                        0x0000000104a0e510 chromedriver + 4072720\n",
      "8   chromedriver                        0x0000000104a12fbc chromedriver + 4091836\n",
      "9   chromedriver                        0x00000001049f5754 chromedriver + 3970900\n",
      "10  chromedriver                        0x0000000104a138a4 chromedriver + 4094116\n",
      "11  chromedriver                        0x00000001049e86d4 chromedriver + 3917524\n",
      "12  chromedriver                        0x0000000104a30b08 chromedriver + 4213512\n",
      "13  chromedriver                        0x0000000104a30c84 chromedriver + 4213892\n",
      "14  chromedriver                        0x0000000104a3ea08 chromedriver + 4270600\n",
      "15  libsystem_pthread.dylib             0x0000000183452f94 _pthread_start + 136\n",
      "16  libsystem_pthread.dylib             0x000000018344dd34 thread_start + 8\n",
      "\n"
     ]
    },
    {
     "name": "stderr",
     "output_type": "stream",
     "text": [
      "  3%|█▏                                        | 15/525 [00:24<16:16,  1.92s/it]"
     ]
    },
    {
     "name": "stdout",
     "output_type": "stream",
     "text": [
      "IMPERIAL SHAQ\n",
      " failed: Message: \n",
      "Stacktrace:\n",
      "0   chromedriver                        0x0000000104a464c8 chromedriver + 4302024\n",
      "1   chromedriver                        0x0000000104a3ee10 chromedriver + 4271632\n",
      "2   chromedriver                        0x000000010467019c chromedriver + 278940\n",
      "3   chromedriver                        0x00000001046b22c4 chromedriver + 549572\n",
      "4   chromedriver                        0x00000001046eac5c chromedriver + 781404\n",
      "5   chromedriver                        0x00000001046a7004 chromedriver + 503812\n",
      "6   chromedriver                        0x00000001046a79ec chromedriver + 506348\n",
      "7   chromedriver                        0x0000000104a0e510 chromedriver + 4072720\n",
      "8   chromedriver                        0x0000000104a12fbc chromedriver + 4091836\n",
      "9   chromedriver                        0x00000001049f5754 chromedriver + 3970900\n",
      "10  chromedriver                        0x0000000104a138a4 chromedriver + 4094116\n",
      "11  chromedriver                        0x00000001049e86d4 chromedriver + 3917524\n",
      "12  chromedriver                        0x0000000104a30b08 chromedriver + 4213512\n",
      "13  chromedriver                        0x0000000104a30c84 chromedriver + 4213892\n",
      "14  chromedriver                        0x0000000104a3ea08 chromedriver + 4270600\n",
      "15  libsystem_pthread.dylib             0x0000000183452f94 _pthread_start + 136\n",
      "16  libsystem_pthread.dylib             0x000000018344dd34 thread_start + 8\n",
      "\n"
     ]
    },
    {
     "name": "stderr",
     "output_type": "stream",
     "text": [
      "  4%|█▊                                        | 22/525 [00:35<16:19,  1.95s/it]"
     ]
    },
    {
     "name": "stdout",
     "output_type": "stream",
     "text": [
      "RED BELLIED PITTA\n",
      " failed: Message: \n",
      "Stacktrace:\n",
      "0   chromedriver                        0x0000000104a464c8 chromedriver + 4302024\n",
      "1   chromedriver                        0x0000000104a3ee10 chromedriver + 4271632\n",
      "2   chromedriver                        0x000000010467019c chromedriver + 278940\n",
      "3   chromedriver                        0x00000001046b22c4 chromedriver + 549572\n",
      "4   chromedriver                        0x00000001046eac5c chromedriver + 781404\n",
      "5   chromedriver                        0x00000001046a7004 chromedriver + 503812\n",
      "6   chromedriver                        0x00000001046a79ec chromedriver + 506348\n",
      "7   chromedriver                        0x0000000104a0e510 chromedriver + 4072720\n",
      "8   chromedriver                        0x0000000104a12fbc chromedriver + 4091836\n",
      "9   chromedriver                        0x00000001049f5754 chromedriver + 3970900\n",
      "10  chromedriver                        0x0000000104a138a4 chromedriver + 4094116\n",
      "11  chromedriver                        0x00000001049e86d4 chromedriver + 3917524\n",
      "12  chromedriver                        0x0000000104a30b08 chromedriver + 4213512\n",
      "13  chromedriver                        0x0000000104a30c84 chromedriver + 4213892\n",
      "14  chromedriver                        0x0000000104a3ea08 chromedriver + 4270600\n",
      "15  libsystem_pthread.dylib             0x0000000183452f94 _pthread_start + 136\n",
      "16  libsystem_pthread.dylib             0x000000018344dd34 thread_start + 8\n",
      "\n"
     ]
    },
    {
     "name": "stderr",
     "output_type": "stream",
     "text": [
      "  5%|██                                        | 25/525 [00:41<17:32,  2.10s/it]"
     ]
    },
    {
     "name": "stdout",
     "output_type": "stream",
     "text": [
      "NORTHERN GOSHAWK\n",
      " failed: Message: \n",
      "Stacktrace:\n",
      "0   chromedriver                        0x0000000104a464c8 chromedriver + 4302024\n",
      "1   chromedriver                        0x0000000104a3ee10 chromedriver + 4271632\n",
      "2   chromedriver                        0x000000010467019c chromedriver + 278940\n",
      "3   chromedriver                        0x00000001046b22c4 chromedriver + 549572\n",
      "4   chromedriver                        0x00000001046eac5c chromedriver + 781404\n",
      "5   chromedriver                        0x00000001046a7004 chromedriver + 503812\n",
      "6   chromedriver                        0x00000001046a79ec chromedriver + 506348\n",
      "7   chromedriver                        0x0000000104a0e510 chromedriver + 4072720\n",
      "8   chromedriver                        0x0000000104a12fbc chromedriver + 4091836\n",
      "9   chromedriver                        0x00000001049f5754 chromedriver + 3970900\n",
      "10  chromedriver                        0x0000000104a138a4 chromedriver + 4094116\n",
      "11  chromedriver                        0x00000001049e86d4 chromedriver + 3917524\n",
      "12  chromedriver                        0x0000000104a30b08 chromedriver + 4213512\n",
      "13  chromedriver                        0x0000000104a30c84 chromedriver + 4213892\n",
      "14  chromedriver                        0x0000000104a3ea08 chromedriver + 4270600\n",
      "15  libsystem_pthread.dylib             0x0000000183452f94 _pthread_start + 136\n",
      "16  libsystem_pthread.dylib             0x000000018344dd34 thread_start + 8\n",
      "\n"
     ]
    },
    {
     "name": "stderr",
     "output_type": "stream",
     "text": [
      "  5%|██▏                                       | 28/525 [00:46<18:01,  2.18s/it]"
     ]
    },
    {
     "name": "stdout",
     "output_type": "stream",
     "text": [
      "ASHY THRUSHBIRD\n",
      " failed: Message: \n",
      "Stacktrace:\n",
      "0   chromedriver                        0x0000000104a464c8 chromedriver + 4302024\n",
      "1   chromedriver                        0x0000000104a3ee10 chromedriver + 4271632\n",
      "2   chromedriver                        0x000000010467019c chromedriver + 278940\n",
      "3   chromedriver                        0x00000001046b22c4 chromedriver + 549572\n",
      "4   chromedriver                        0x00000001046eac5c chromedriver + 781404\n",
      "5   chromedriver                        0x00000001046a7004 chromedriver + 503812\n",
      "6   chromedriver                        0x00000001046a79ec chromedriver + 506348\n",
      "7   chromedriver                        0x0000000104a0e510 chromedriver + 4072720\n",
      "8   chromedriver                        0x0000000104a12fbc chromedriver + 4091836\n",
      "9   chromedriver                        0x00000001049f5754 chromedriver + 3970900\n",
      "10  chromedriver                        0x0000000104a138a4 chromedriver + 4094116\n",
      "11  chromedriver                        0x00000001049e86d4 chromedriver + 3917524\n",
      "12  chromedriver                        0x0000000104a30b08 chromedriver + 4213512\n",
      "13  chromedriver                        0x0000000104a30c84 chromedriver + 4213892\n",
      "14  chromedriver                        0x0000000104a3ea08 chromedriver + 4270600\n",
      "15  libsystem_pthread.dylib             0x0000000183452f94 _pthread_start + 136\n",
      "16  libsystem_pthread.dylib             0x000000018344dd34 thread_start + 8\n",
      "\n"
     ]
    },
    {
     "name": "stderr",
     "output_type": "stream",
     "text": [
      "  7%|███                                       | 38/525 [01:01<14:59,  1.85s/it]"
     ]
    },
    {
     "name": "stdout",
     "output_type": "stream",
     "text": [
      "GREY HEADED CHACHALACA\n",
      " failed: Message: \n",
      "Stacktrace:\n",
      "0   chromedriver                        0x0000000104a464c8 chromedriver + 4302024\n",
      "1   chromedriver                        0x0000000104a3ee10 chromedriver + 4271632\n",
      "2   chromedriver                        0x000000010467019c chromedriver + 278940\n",
      "3   chromedriver                        0x00000001046b22c4 chromedriver + 549572\n",
      "4   chromedriver                        0x00000001046eac5c chromedriver + 781404\n",
      "5   chromedriver                        0x00000001046a7004 chromedriver + 503812\n",
      "6   chromedriver                        0x00000001046a79ec chromedriver + 506348\n",
      "7   chromedriver                        0x0000000104a0e510 chromedriver + 4072720\n",
      "8   chromedriver                        0x0000000104a12fbc chromedriver + 4091836\n",
      "9   chromedriver                        0x00000001049f5754 chromedriver + 3970900\n",
      "10  chromedriver                        0x0000000104a138a4 chromedriver + 4094116\n",
      "11  chromedriver                        0x00000001049e86d4 chromedriver + 3917524\n",
      "12  chromedriver                        0x0000000104a30b08 chromedriver + 4213512\n",
      "13  chromedriver                        0x0000000104a30c84 chromedriver + 4213892\n",
      "14  chromedriver                        0x0000000104a3ea08 chromedriver + 4270600\n",
      "15  libsystem_pthread.dylib             0x0000000183452f94 _pthread_start + 136\n",
      "16  libsystem_pthread.dylib             0x000000018344dd34 thread_start + 8\n",
      "\n"
     ]
    },
    {
     "name": "stderr",
     "output_type": "stream",
     "text": [
      "  8%|███▏                                      | 40/525 [01:05<16:51,  2.09s/it]"
     ]
    },
    {
     "name": "stdout",
     "output_type": "stream",
     "text": [
      "TRUMPTER SWAN\n",
      " failed: Message: \n",
      "Stacktrace:\n",
      "0   chromedriver                        0x0000000104a464c8 chromedriver + 4302024\n",
      "1   chromedriver                        0x0000000104a3ee10 chromedriver + 4271632\n",
      "2   chromedriver                        0x000000010467019c chromedriver + 278940\n",
      "3   chromedriver                        0x00000001046b22c4 chromedriver + 549572\n",
      "4   chromedriver                        0x00000001046eac5c chromedriver + 781404\n",
      "5   chromedriver                        0x00000001046a7004 chromedriver + 503812\n",
      "6   chromedriver                        0x00000001046a79ec chromedriver + 506348\n",
      "7   chromedriver                        0x0000000104a0e510 chromedriver + 4072720\n",
      "8   chromedriver                        0x0000000104a12fbc chromedriver + 4091836\n",
      "9   chromedriver                        0x00000001049f5754 chromedriver + 3970900\n",
      "10  chromedriver                        0x0000000104a138a4 chromedriver + 4094116\n",
      "11  chromedriver                        0x00000001049e86d4 chromedriver + 3917524\n",
      "12  chromedriver                        0x0000000104a30b08 chromedriver + 4213512\n",
      "13  chromedriver                        0x0000000104a30c84 chromedriver + 4213892\n",
      "14  chromedriver                        0x0000000104a3ea08 chromedriver + 4270600\n",
      "15  libsystem_pthread.dylib             0x0000000183452f94 _pthread_start + 136\n",
      "16  libsystem_pthread.dylib             0x000000018344dd34 thread_start + 8\n",
      "\n"
     ]
    },
    {
     "name": "stderr",
     "output_type": "stream",
     "text": [
      "  8%|███▎                                      | 42/525 [01:10<17:45,  2.21s/it]"
     ]
    },
    {
     "name": "stdout",
     "output_type": "stream",
     "text": [
      "BLACK-NECKED GREBE\n",
      " failed: Message: \n",
      "Stacktrace:\n",
      "0   chromedriver                        0x0000000104a464c8 chromedriver + 4302024\n",
      "1   chromedriver                        0x0000000104a3ee10 chromedriver + 4271632\n",
      "2   chromedriver                        0x000000010467019c chromedriver + 278940\n",
      "3   chromedriver                        0x00000001046b22c4 chromedriver + 549572\n",
      "4   chromedriver                        0x00000001046eac5c chromedriver + 781404\n",
      "5   chromedriver                        0x00000001046a7004 chromedriver + 503812\n",
      "6   chromedriver                        0x00000001046a79ec chromedriver + 506348\n",
      "7   chromedriver                        0x0000000104a0e510 chromedriver + 4072720\n",
      "8   chromedriver                        0x0000000104a12fbc chromedriver + 4091836\n",
      "9   chromedriver                        0x00000001049f5754 chromedriver + 3970900\n",
      "10  chromedriver                        0x0000000104a138a4 chromedriver + 4094116\n",
      "11  chromedriver                        0x00000001049e86d4 chromedriver + 3917524\n",
      "12  chromedriver                        0x0000000104a30b08 chromedriver + 4213512\n",
      "13  chromedriver                        0x0000000104a30c84 chromedriver + 4213892\n",
      "14  chromedriver                        0x0000000104a3ea08 chromedriver + 4270600\n",
      "15  libsystem_pthread.dylib             0x0000000183452f94 _pthread_start + 136\n",
      "16  libsystem_pthread.dylib             0x000000018344dd34 thread_start + 8\n",
      "\n"
     ]
    },
    {
     "name": "stderr",
     "output_type": "stream",
     "text": [
      "  9%|███▊                                      | 47/525 [01:17<14:53,  1.87s/it]"
     ]
    },
    {
     "name": "stdout",
     "output_type": "stream",
     "text": [
      "BLACKBURNIAM WARBLER\n",
      " failed: Message: \n",
      "Stacktrace:\n",
      "0   chromedriver                        0x0000000104a464c8 chromedriver + 4302024\n",
      "1   chromedriver                        0x0000000104a3ee10 chromedriver + 4271632\n",
      "2   chromedriver                        0x000000010467019c chromedriver + 278940\n",
      "3   chromedriver                        0x00000001046b22c4 chromedriver + 549572\n",
      "4   chromedriver                        0x00000001046eac5c chromedriver + 781404\n",
      "5   chromedriver                        0x00000001046a7004 chromedriver + 503812\n",
      "6   chromedriver                        0x00000001046a79ec chromedriver + 506348\n",
      "7   chromedriver                        0x0000000104a0e510 chromedriver + 4072720\n",
      "8   chromedriver                        0x0000000104a12fbc chromedriver + 4091836\n",
      "9   chromedriver                        0x00000001049f5754 chromedriver + 3970900\n",
      "10  chromedriver                        0x0000000104a138a4 chromedriver + 4094116\n",
      "11  chromedriver                        0x00000001049e86d4 chromedriver + 3917524\n",
      "12  chromedriver                        0x0000000104a30b08 chromedriver + 4213512\n",
      "13  chromedriver                        0x0000000104a30c84 chromedriver + 4213892\n",
      "14  chromedriver                        0x0000000104a3ea08 chromedriver + 4270600\n",
      "15  libsystem_pthread.dylib             0x0000000183452f94 _pthread_start + 136\n",
      "16  libsystem_pthread.dylib             0x000000018344dd34 thread_start + 8\n",
      "\n"
     ]
    },
    {
     "name": "stderr",
     "output_type": "stream",
     "text": [
      " 11%|████▋                                     | 59/525 [01:34<14:05,  1.82s/it]"
     ]
    },
    {
     "name": "stdout",
     "output_type": "stream",
     "text": [
      "VENEZUELIAN TROUPIAL\n",
      " failed: Message: \n",
      "Stacktrace:\n",
      "0   chromedriver                        0x0000000104a464c8 chromedriver + 4302024\n",
      "1   chromedriver                        0x0000000104a3ee10 chromedriver + 4271632\n",
      "2   chromedriver                        0x000000010467019c chromedriver + 278940\n",
      "3   chromedriver                        0x00000001046b22c4 chromedriver + 549572\n",
      "4   chromedriver                        0x00000001046eac5c chromedriver + 781404\n",
      "5   chromedriver                        0x00000001046a7004 chromedriver + 503812\n",
      "6   chromedriver                        0x00000001046a79ec chromedriver + 506348\n",
      "7   chromedriver                        0x0000000104a0e510 chromedriver + 4072720\n",
      "8   chromedriver                        0x0000000104a12fbc chromedriver + 4091836\n",
      "9   chromedriver                        0x00000001049f5754 chromedriver + 3970900\n",
      "10  chromedriver                        0x0000000104a138a4 chromedriver + 4094116\n",
      "11  chromedriver                        0x00000001049e86d4 chromedriver + 3917524\n",
      "12  chromedriver                        0x0000000104a30b08 chromedriver + 4213512\n",
      "13  chromedriver                        0x0000000104a30c84 chromedriver + 4213892\n",
      "14  chromedriver                        0x0000000104a3ea08 chromedriver + 4270600\n",
      "15  libsystem_pthread.dylib             0x0000000183452f94 _pthread_start + 136\n",
      "16  libsystem_pthread.dylib             0x000000018344dd34 thread_start + 8\n",
      "\n"
     ]
    },
    {
     "name": "stderr",
     "output_type": "stream",
     "text": [
      " 15%|██████▏                                   | 78/525 [01:57<12:58,  1.74s/it]"
     ]
    },
    {
     "name": "stdout",
     "output_type": "stream",
     "text": [
      "PURPLE SWAMPHEN\n",
      " failed: Message: \n",
      "Stacktrace:\n",
      "0   chromedriver                        0x0000000104a464c8 chromedriver + 4302024\n",
      "1   chromedriver                        0x0000000104a3ee10 chromedriver + 4271632\n",
      "2   chromedriver                        0x000000010467019c chromedriver + 278940\n",
      "3   chromedriver                        0x00000001046b22c4 chromedriver + 549572\n",
      "4   chromedriver                        0x00000001046eac5c chromedriver + 781404\n",
      "5   chromedriver                        0x00000001046a7004 chromedriver + 503812\n",
      "6   chromedriver                        0x00000001046a79ec chromedriver + 506348\n",
      "7   chromedriver                        0x0000000104a0e510 chromedriver + 4072720\n",
      "8   chromedriver                        0x0000000104a12fbc chromedriver + 4091836\n",
      "9   chromedriver                        0x00000001049f5754 chromedriver + 3970900\n",
      "10  chromedriver                        0x0000000104a138a4 chromedriver + 4094116\n",
      "11  chromedriver                        0x00000001049e86d4 chromedriver + 3917524\n",
      "12  chromedriver                        0x0000000104a30b08 chromedriver + 4213512\n",
      "13  chromedriver                        0x0000000104a30c84 chromedriver + 4213892\n",
      "14  chromedriver                        0x0000000104a3ea08 chromedriver + 4270600\n",
      "15  libsystem_pthread.dylib             0x0000000183452f94 _pthread_start + 136\n",
      "16  libsystem_pthread.dylib             0x000000018344dd34 thread_start + 8\n",
      "\n"
     ]
    },
    {
     "name": "stderr",
     "output_type": "stream",
     "text": [
      " 17%|██████▉                                   | 87/525 [02:09<12:44,  1.75s/it]"
     ]
    },
    {
     "name": "stdout",
     "output_type": "stream",
     "text": [
      "GROVED BILLED ANI\n",
      " failed: Message: \n",
      "Stacktrace:\n",
      "0   chromedriver                        0x0000000104a464c8 chromedriver + 4302024\n",
      "1   chromedriver                        0x0000000104a3ee10 chromedriver + 4271632\n",
      "2   chromedriver                        0x000000010467019c chromedriver + 278940\n",
      "3   chromedriver                        0x00000001046b22c4 chromedriver + 549572\n",
      "4   chromedriver                        0x00000001046eac5c chromedriver + 781404\n",
      "5   chromedriver                        0x00000001046a7004 chromedriver + 503812\n",
      "6   chromedriver                        0x00000001046a79ec chromedriver + 506348\n",
      "7   chromedriver                        0x0000000104a0e510 chromedriver + 4072720\n",
      "8   chromedriver                        0x0000000104a12fbc chromedriver + 4091836\n",
      "9   chromedriver                        0x00000001049f5754 chromedriver + 3970900\n",
      "10  chromedriver                        0x0000000104a138a4 chromedriver + 4094116\n",
      "11  chromedriver                        0x00000001049e86d4 chromedriver + 3917524\n",
      "12  chromedriver                        0x0000000104a30b08 chromedriver + 4213512\n",
      "13  chromedriver                        0x0000000104a30c84 chromedriver + 4213892\n",
      "14  chromedriver                        0x0000000104a3ea08 chromedriver + 4270600\n",
      "15  libsystem_pthread.dylib             0x0000000183452f94 _pthread_start + 136\n",
      "16  libsystem_pthread.dylib             0x000000018344dd34 thread_start + 8\n",
      "\n"
     ]
    },
    {
     "name": "stderr",
     "output_type": "stream",
     "text": [
      " 19%|███████▊                                 | 100/525 [02:27<12:10,  1.72s/it]"
     ]
    },
    {
     "name": "stdout",
     "output_type": "stream",
     "text": [
      "STRIPPED MANAKIN\n",
      " failed: Message: \n",
      "Stacktrace:\n",
      "0   chromedriver                        0x0000000104a464c8 chromedriver + 4302024\n",
      "1   chromedriver                        0x0000000104a3ee10 chromedriver + 4271632\n",
      "2   chromedriver                        0x000000010467019c chromedriver + 278940\n",
      "3   chromedriver                        0x00000001046b22c4 chromedriver + 549572\n",
      "4   chromedriver                        0x00000001046eac5c chromedriver + 781404\n",
      "5   chromedriver                        0x00000001046a7004 chromedriver + 503812\n",
      "6   chromedriver                        0x00000001046a79ec chromedriver + 506348\n",
      "7   chromedriver                        0x0000000104a0e510 chromedriver + 4072720\n",
      "8   chromedriver                        0x0000000104a12fbc chromedriver + 4091836\n",
      "9   chromedriver                        0x00000001049f5754 chromedriver + 3970900\n",
      "10  chromedriver                        0x0000000104a138a4 chromedriver + 4094116\n",
      "11  chromedriver                        0x00000001049e86d4 chromedriver + 3917524\n",
      "12  chromedriver                        0x0000000104a30b08 chromedriver + 4213512\n",
      "13  chromedriver                        0x0000000104a30c84 chromedriver + 4213892\n",
      "14  chromedriver                        0x0000000104a3ea08 chromedriver + 4270600\n",
      "15  libsystem_pthread.dylib             0x0000000183452f94 _pthread_start + 136\n",
      "16  libsystem_pthread.dylib             0x000000018344dd34 thread_start + 8\n",
      "\n"
     ]
    },
    {
     "name": "stderr",
     "output_type": "stream",
     "text": [
      " 20%|████████▎                                | 106/525 [02:36<12:35,  1.80s/it]"
     ]
    },
    {
     "name": "stdout",
     "output_type": "stream",
     "text": [
      "ROSE BREASTED COCKATOO\n",
      " failed: Message: \n",
      "Stacktrace:\n",
      "0   chromedriver                        0x0000000104a464c8 chromedriver + 4302024\n",
      "1   chromedriver                        0x0000000104a3ee10 chromedriver + 4271632\n",
      "2   chromedriver                        0x000000010467019c chromedriver + 278940\n",
      "3   chromedriver                        0x00000001046b22c4 chromedriver + 549572\n",
      "4   chromedriver                        0x00000001046eac5c chromedriver + 781404\n",
      "5   chromedriver                        0x00000001046a7004 chromedriver + 503812\n",
      "6   chromedriver                        0x00000001046a79ec chromedriver + 506348\n",
      "7   chromedriver                        0x0000000104a0e510 chromedriver + 4072720\n",
      "8   chromedriver                        0x0000000104a12fbc chromedriver + 4091836\n",
      "9   chromedriver                        0x00000001049f5754 chromedriver + 3970900\n",
      "10  chromedriver                        0x0000000104a138a4 chromedriver + 4094116\n",
      "11  chromedriver                        0x00000001049e86d4 chromedriver + 3917524\n",
      "12  chromedriver                        0x0000000104a30b08 chromedriver + 4213512\n",
      "13  chromedriver                        0x0000000104a30c84 chromedriver + 4213892\n",
      "14  chromedriver                        0x0000000104a3ea08 chromedriver + 4270600\n",
      "15  libsystem_pthread.dylib             0x0000000183452f94 _pthread_start + 136\n",
      "16  libsystem_pthread.dylib             0x000000018344dd34 thread_start + 8\n",
      "\n"
     ]
    },
    {
     "name": "stderr",
     "output_type": "stream",
     "text": [
      " 21%|████████▍                                | 108/525 [02:40<14:25,  2.07s/it]"
     ]
    },
    {
     "name": "stdout",
     "output_type": "stream",
     "text": [
      "MASKED BOBWHITE\n",
      " failed: Message: \n",
      "Stacktrace:\n",
      "0   chromedriver                        0x0000000104a464c8 chromedriver + 4302024\n",
      "1   chromedriver                        0x0000000104a3ee10 chromedriver + 4271632\n",
      "2   chromedriver                        0x000000010467019c chromedriver + 278940\n",
      "3   chromedriver                        0x00000001046b22c4 chromedriver + 549572\n",
      "4   chromedriver                        0x00000001046eac5c chromedriver + 781404\n",
      "5   chromedriver                        0x00000001046a7004 chromedriver + 503812\n",
      "6   chromedriver                        0x00000001046a79ec chromedriver + 506348\n",
      "7   chromedriver                        0x0000000104a0e510 chromedriver + 4072720\n",
      "8   chromedriver                        0x0000000104a12fbc chromedriver + 4091836\n",
      "9   chromedriver                        0x00000001049f5754 chromedriver + 3970900\n",
      "10  chromedriver                        0x0000000104a138a4 chromedriver + 4094116\n",
      "11  chromedriver                        0x00000001049e86d4 chromedriver + 3917524\n",
      "12  chromedriver                        0x0000000104a30b08 chromedriver + 4213512\n",
      "13  chromedriver                        0x0000000104a30c84 chromedriver + 4213892\n",
      "14  chromedriver                        0x0000000104a3ea08 chromedriver + 4270600\n",
      "15  libsystem_pthread.dylib             0x0000000183452f94 _pthread_start + 136\n",
      "16  libsystem_pthread.dylib             0x000000018344dd34 thread_start + 8\n",
      "\n"
     ]
    },
    {
     "name": "stderr",
     "output_type": "stream",
     "text": [
      " 21%|████████▋                                | 112/525 [02:46<13:17,  1.93s/it]"
     ]
    },
    {
     "name": "stdout",
     "output_type": "stream",
     "text": [
      "UMBRELLA BIRD\n",
      " failed: Message: \n",
      "Stacktrace:\n",
      "0   chromedriver                        0x0000000104a464c8 chromedriver + 4302024\n",
      "1   chromedriver                        0x0000000104a3ee10 chromedriver + 4271632\n",
      "2   chromedriver                        0x000000010467019c chromedriver + 278940\n",
      "3   chromedriver                        0x00000001046b22c4 chromedriver + 549572\n",
      "4   chromedriver                        0x00000001046eac5c chromedriver + 781404\n",
      "5   chromedriver                        0x00000001046a7004 chromedriver + 503812\n",
      "6   chromedriver                        0x00000001046a79ec chromedriver + 506348\n",
      "7   chromedriver                        0x0000000104a0e510 chromedriver + 4072720\n",
      "8   chromedriver                        0x0000000104a12fbc chromedriver + 4091836\n",
      "9   chromedriver                        0x00000001049f5754 chromedriver + 3970900\n",
      "10  chromedriver                        0x0000000104a138a4 chromedriver + 4094116\n",
      "11  chromedriver                        0x00000001049e86d4 chromedriver + 3917524\n",
      "12  chromedriver                        0x0000000104a30b08 chromedriver + 4213512\n",
      "13  chromedriver                        0x0000000104a30c84 chromedriver + 4213892\n",
      "14  chromedriver                        0x0000000104a3ea08 chromedriver + 4270600\n",
      "15  libsystem_pthread.dylib             0x0000000183452f94 _pthread_start + 136\n",
      "16  libsystem_pthread.dylib             0x000000018344dd34 thread_start + 8\n",
      "\n"
     ]
    },
    {
     "name": "stderr",
     "output_type": "stream",
     "text": [
      " 23%|█████████▎                               | 119/525 [02:57<13:15,  1.96s/it]"
     ]
    },
    {
     "name": "stdout",
     "output_type": "stream",
     "text": [
      "CHESTNET BELLIED EUPHONIA\n",
      " failed: Message: \n",
      "Stacktrace:\n",
      "0   chromedriver                        0x0000000104a464c8 chromedriver + 4302024\n",
      "1   chromedriver                        0x0000000104a3ee10 chromedriver + 4271632\n",
      "2   chromedriver                        0x000000010467019c chromedriver + 278940\n",
      "3   chromedriver                        0x00000001046b22c4 chromedriver + 549572\n",
      "4   chromedriver                        0x00000001046eac5c chromedriver + 781404\n",
      "5   chromedriver                        0x00000001046a7004 chromedriver + 503812\n",
      "6   chromedriver                        0x00000001046a79ec chromedriver + 506348\n",
      "7   chromedriver                        0x0000000104a0e510 chromedriver + 4072720\n",
      "8   chromedriver                        0x0000000104a12fbc chromedriver + 4091836\n",
      "9   chromedriver                        0x00000001049f5754 chromedriver + 3970900\n",
      "10  chromedriver                        0x0000000104a138a4 chromedriver + 4094116\n",
      "11  chromedriver                        0x00000001049e86d4 chromedriver + 3917524\n",
      "12  chromedriver                        0x0000000104a30b08 chromedriver + 4213512\n",
      "13  chromedriver                        0x0000000104a30c84 chromedriver + 4213892\n",
      "14  chromedriver                        0x0000000104a3ea08 chromedriver + 4270600\n",
      "15  libsystem_pthread.dylib             0x0000000183452f94 _pthread_start + 136\n",
      "16  libsystem_pthread.dylib             0x000000018344dd34 thread_start + 8\n",
      "\n"
     ]
    },
    {
     "name": "stderr",
     "output_type": "stream",
     "text": [
      " 23%|█████████▎                               | 120/525 [03:00<15:58,  2.37s/it]"
     ]
    },
    {
     "name": "stdout",
     "output_type": "stream",
     "text": [
      "CURL CRESTED ARACURI\n",
      " failed: Message: \n",
      "Stacktrace:\n",
      "0   chromedriver                        0x0000000104a464c8 chromedriver + 4302024\n",
      "1   chromedriver                        0x0000000104a3ee10 chromedriver + 4271632\n",
      "2   chromedriver                        0x000000010467019c chromedriver + 278940\n",
      "3   chromedriver                        0x00000001046b22c4 chromedriver + 549572\n",
      "4   chromedriver                        0x00000001046eac5c chromedriver + 781404\n",
      "5   chromedriver                        0x00000001046a7004 chromedriver + 503812\n",
      "6   chromedriver                        0x00000001046a79ec chromedriver + 506348\n",
      "7   chromedriver                        0x0000000104a0e510 chromedriver + 4072720\n",
      "8   chromedriver                        0x0000000104a12fbc chromedriver + 4091836\n",
      "9   chromedriver                        0x00000001049f5754 chromedriver + 3970900\n",
      "10  chromedriver                        0x0000000104a138a4 chromedriver + 4094116\n",
      "11  chromedriver                        0x00000001049e86d4 chromedriver + 3917524\n",
      "12  chromedriver                        0x0000000104a30b08 chromedriver + 4213512\n",
      "13  chromedriver                        0x0000000104a30c84 chromedriver + 4213892\n",
      "14  chromedriver                        0x0000000104a3ea08 chromedriver + 4270600\n",
      "15  libsystem_pthread.dylib             0x0000000183452f94 _pthread_start + 136\n",
      "16  libsystem_pthread.dylib             0x000000018344dd34 thread_start + 8\n",
      "\n"
     ]
    },
    {
     "name": "stderr",
     "output_type": "stream",
     "text": [
      " 23%|█████████▌                               | 122/525 [03:05<16:53,  2.51s/it]"
     ]
    },
    {
     "name": "stdout",
     "output_type": "stream",
     "text": [
      "EARED PITA\n",
      " failed: Message: \n",
      "Stacktrace:\n",
      "0   chromedriver                        0x0000000104a464c8 chromedriver + 4302024\n",
      "1   chromedriver                        0x0000000104a3ee10 chromedriver + 4271632\n",
      "2   chromedriver                        0x000000010467019c chromedriver + 278940\n",
      "3   chromedriver                        0x00000001046b22c4 chromedriver + 549572\n",
      "4   chromedriver                        0x00000001046eac5c chromedriver + 781404\n",
      "5   chromedriver                        0x00000001046a7004 chromedriver + 503812\n",
      "6   chromedriver                        0x00000001046a79ec chromedriver + 506348\n",
      "7   chromedriver                        0x0000000104a0e510 chromedriver + 4072720\n",
      "8   chromedriver                        0x0000000104a12fbc chromedriver + 4091836\n",
      "9   chromedriver                        0x00000001049f5754 chromedriver + 3970900\n",
      "10  chromedriver                        0x0000000104a138a4 chromedriver + 4094116\n",
      "11  chromedriver                        0x00000001049e86d4 chromedriver + 3917524\n",
      "12  chromedriver                        0x0000000104a30b08 chromedriver + 4213512\n",
      "13  chromedriver                        0x0000000104a30c84 chromedriver + 4213892\n",
      "14  chromedriver                        0x0000000104a3ea08 chromedriver + 4270600\n",
      "15  libsystem_pthread.dylib             0x0000000183452f94 _pthread_start + 136\n",
      "16  libsystem_pthread.dylib             0x000000018344dd34 thread_start + 8\n",
      "\n"
     ]
    },
    {
     "name": "stderr",
     "output_type": "stream",
     "text": [
      " 24%|█████████▉                               | 127/525 [03:14<13:55,  2.10s/it]"
     ]
    },
    {
     "name": "stdout",
     "output_type": "stream",
     "text": [
      "SAMATRAN THRUSH\n",
      " failed: Message: \n",
      "Stacktrace:\n",
      "0   chromedriver                        0x0000000104a464c8 chromedriver + 4302024\n",
      "1   chromedriver                        0x0000000104a3ee10 chromedriver + 4271632\n",
      "2   chromedriver                        0x000000010467019c chromedriver + 278940\n",
      "3   chromedriver                        0x00000001046b22c4 chromedriver + 549572\n",
      "4   chromedriver                        0x00000001046eac5c chromedriver + 781404\n",
      "5   chromedriver                        0x00000001046a7004 chromedriver + 503812\n",
      "6   chromedriver                        0x00000001046a79ec chromedriver + 506348\n",
      "7   chromedriver                        0x0000000104a0e510 chromedriver + 4072720\n",
      "8   chromedriver                        0x0000000104a12fbc chromedriver + 4091836\n",
      "9   chromedriver                        0x00000001049f5754 chromedriver + 3970900\n",
      "10  chromedriver                        0x0000000104a138a4 chromedriver + 4094116\n",
      "11  chromedriver                        0x00000001049e86d4 chromedriver + 3917524\n",
      "12  chromedriver                        0x0000000104a30b08 chromedriver + 4213512\n",
      "13  chromedriver                        0x0000000104a30c84 chromedriver + 4213892\n",
      "14  chromedriver                        0x0000000104a3ea08 chromedriver + 4270600\n",
      "15  libsystem_pthread.dylib             0x0000000183452f94 _pthread_start + 136\n",
      "16  libsystem_pthread.dylib             0x000000018344dd34 thread_start + 8\n",
      "\n"
     ]
    },
    {
     "name": "stderr",
     "output_type": "stream",
     "text": [
      " 26%|██████████▌                              | 135/525 [03:25<12:07,  1.86s/it]"
     ]
    },
    {
     "name": "stdout",
     "output_type": "stream",
     "text": [
      "BALI STARLING\n",
      " failed: Message: \n",
      "Stacktrace:\n",
      "0   chromedriver                        0x0000000104a464c8 chromedriver + 4302024\n",
      "1   chromedriver                        0x0000000104a3ee10 chromedriver + 4271632\n",
      "2   chromedriver                        0x000000010467019c chromedriver + 278940\n",
      "3   chromedriver                        0x00000001046b22c4 chromedriver + 549572\n",
      "4   chromedriver                        0x00000001046eac5c chromedriver + 781404\n",
      "5   chromedriver                        0x00000001046a7004 chromedriver + 503812\n",
      "6   chromedriver                        0x00000001046a79ec chromedriver + 506348\n",
      "7   chromedriver                        0x0000000104a0e510 chromedriver + 4072720\n",
      "8   chromedriver                        0x0000000104a12fbc chromedriver + 4091836\n",
      "9   chromedriver                        0x00000001049f5754 chromedriver + 3970900\n",
      "10  chromedriver                        0x0000000104a138a4 chromedriver + 4094116\n",
      "11  chromedriver                        0x00000001049e86d4 chromedriver + 3917524\n",
      "12  chromedriver                        0x0000000104a30b08 chromedriver + 4213512\n",
      "13  chromedriver                        0x0000000104a30c84 chromedriver + 4213892\n",
      "14  chromedriver                        0x0000000104a3ea08 chromedriver + 4270600\n",
      "15  libsystem_pthread.dylib             0x0000000183452f94 _pthread_start + 136\n",
      "16  libsystem_pthread.dylib             0x000000018344dd34 thread_start + 8\n",
      "\n"
     ]
    },
    {
     "name": "stderr",
     "output_type": "stream",
     "text": [
      " 28%|███████████▎                             | 145/525 [03:40<11:28,  1.81s/it]"
     ]
    },
    {
     "name": "stdout",
     "output_type": "stream",
     "text": [
      "CRESTED NUTHATCH\n",
      " failed: Message: \n",
      "Stacktrace:\n",
      "0   chromedriver                        0x0000000104a464c8 chromedriver + 4302024\n",
      "1   chromedriver                        0x0000000104a3ee10 chromedriver + 4271632\n",
      "2   chromedriver                        0x000000010467019c chromedriver + 278940\n",
      "3   chromedriver                        0x00000001046b22c4 chromedriver + 549572\n",
      "4   chromedriver                        0x00000001046eac5c chromedriver + 781404\n",
      "5   chromedriver                        0x00000001046a7004 chromedriver + 503812\n",
      "6   chromedriver                        0x00000001046a79ec chromedriver + 506348\n",
      "7   chromedriver                        0x0000000104a0e510 chromedriver + 4072720\n",
      "8   chromedriver                        0x0000000104a12fbc chromedriver + 4091836\n",
      "9   chromedriver                        0x00000001049f5754 chromedriver + 3970900\n",
      "10  chromedriver                        0x0000000104a138a4 chromedriver + 4094116\n",
      "11  chromedriver                        0x00000001049e86d4 chromedriver + 3917524\n",
      "12  chromedriver                        0x0000000104a30b08 chromedriver + 4213512\n",
      "13  chromedriver                        0x0000000104a30c84 chromedriver + 4213892\n",
      "14  chromedriver                        0x0000000104a3ea08 chromedriver + 4270600\n",
      "15  libsystem_pthread.dylib             0x0000000183452f94 _pthread_start + 136\n",
      "16  libsystem_pthread.dylib             0x000000018344dd34 thread_start + 8\n",
      "\n"
     ]
    },
    {
     "name": "stderr",
     "output_type": "stream",
     "text": [
      " 29%|███████████▋                             | 150/525 [03:49<11:59,  1.92s/it]"
     ]
    },
    {
     "name": "stdout",
     "output_type": "stream",
     "text": [
      "OYSTER CATCHER\n",
      " failed: Message: \n",
      "Stacktrace:\n",
      "0   chromedriver                        0x0000000104a464c8 chromedriver + 4302024\n",
      "1   chromedriver                        0x0000000104a3ee10 chromedriver + 4271632\n",
      "2   chromedriver                        0x000000010467019c chromedriver + 278940\n",
      "3   chromedriver                        0x00000001046b22c4 chromedriver + 549572\n",
      "4   chromedriver                        0x00000001046eac5c chromedriver + 781404\n",
      "5   chromedriver                        0x00000001046a7004 chromedriver + 503812\n",
      "6   chromedriver                        0x00000001046a79ec chromedriver + 506348\n",
      "7   chromedriver                        0x0000000104a0e510 chromedriver + 4072720\n",
      "8   chromedriver                        0x0000000104a12fbc chromedriver + 4091836\n",
      "9   chromedriver                        0x00000001049f5754 chromedriver + 3970900\n",
      "10  chromedriver                        0x0000000104a138a4 chromedriver + 4094116\n",
      "11  chromedriver                        0x00000001049e86d4 chromedriver + 3917524\n",
      "12  chromedriver                        0x0000000104a30b08 chromedriver + 4213512\n",
      "13  chromedriver                        0x0000000104a30c84 chromedriver + 4213892\n",
      "14  chromedriver                        0x0000000104a3ea08 chromedriver + 4270600\n",
      "15  libsystem_pthread.dylib             0x0000000183452f94 _pthread_start + 136\n",
      "16  libsystem_pthread.dylib             0x000000018344dd34 thread_start + 8\n",
      "\n"
     ]
    },
    {
     "name": "stderr",
     "output_type": "stream",
     "text": [
      " 30%|████████████▎                            | 157/525 [04:00<11:48,  1.93s/it]"
     ]
    },
    {
     "name": "stdout",
     "output_type": "stream",
     "text": [
      "GOLDEN BOWER BIRD\n",
      " failed: Message: \n",
      "Stacktrace:\n",
      "0   chromedriver                        0x0000000104a464c8 chromedriver + 4302024\n",
      "1   chromedriver                        0x0000000104a3ee10 chromedriver + 4271632\n",
      "2   chromedriver                        0x000000010467019c chromedriver + 278940\n",
      "3   chromedriver                        0x00000001046b22c4 chromedriver + 549572\n",
      "4   chromedriver                        0x00000001046eac5c chromedriver + 781404\n",
      "5   chromedriver                        0x00000001046a7004 chromedriver + 503812\n",
      "6   chromedriver                        0x00000001046a79ec chromedriver + 506348\n",
      "7   chromedriver                        0x0000000104a0e510 chromedriver + 4072720\n",
      "8   chromedriver                        0x0000000104a12fbc chromedriver + 4091836\n",
      "9   chromedriver                        0x00000001049f5754 chromedriver + 3970900\n",
      "10  chromedriver                        0x0000000104a138a4 chromedriver + 4094116\n",
      "11  chromedriver                        0x00000001049e86d4 chromedriver + 3917524\n",
      "12  chromedriver                        0x0000000104a30b08 chromedriver + 4213512\n",
      "13  chromedriver                        0x0000000104a30c84 chromedriver + 4213892\n",
      "14  chromedriver                        0x0000000104a3ea08 chromedriver + 4270600\n",
      "15  libsystem_pthread.dylib             0x0000000183452f94 _pthread_start + 136\n",
      "16  libsystem_pthread.dylib             0x000000018344dd34 thread_start + 8\n",
      "\n"
     ]
    },
    {
     "name": "stderr",
     "output_type": "stream",
     "text": [
      " 30%|████████████▎                            | 158/525 [04:03<14:19,  2.34s/it]"
     ]
    },
    {
     "name": "stdout",
     "output_type": "stream",
     "text": [
      "VERMILION FLYCATHER\n",
      " failed: Message: \n",
      "Stacktrace:\n",
      "0   chromedriver                        0x0000000104a464c8 chromedriver + 4302024\n",
      "1   chromedriver                        0x0000000104a3ee10 chromedriver + 4271632\n",
      "2   chromedriver                        0x000000010467019c chromedriver + 278940\n",
      "3   chromedriver                        0x00000001046b22c4 chromedriver + 549572\n",
      "4   chromedriver                        0x00000001046eac5c chromedriver + 781404\n",
      "5   chromedriver                        0x00000001046a7004 chromedriver + 503812\n",
      "6   chromedriver                        0x00000001046a79ec chromedriver + 506348\n",
      "7   chromedriver                        0x0000000104a0e510 chromedriver + 4072720\n",
      "8   chromedriver                        0x0000000104a12fbc chromedriver + 4091836\n",
      "9   chromedriver                        0x00000001049f5754 chromedriver + 3970900\n",
      "10  chromedriver                        0x0000000104a138a4 chromedriver + 4094116\n",
      "11  chromedriver                        0x00000001049e86d4 chromedriver + 3917524\n",
      "12  chromedriver                        0x0000000104a30b08 chromedriver + 4213512\n",
      "13  chromedriver                        0x0000000104a30c84 chromedriver + 4213892\n",
      "14  chromedriver                        0x0000000104a3ea08 chromedriver + 4270600\n",
      "15  libsystem_pthread.dylib             0x0000000183452f94 _pthread_start + 136\n",
      "16  libsystem_pthread.dylib             0x000000018344dd34 thread_start + 8\n",
      "\n"
     ]
    },
    {
     "name": "stderr",
     "output_type": "stream",
     "text": [
      " 31%|████████████▋                            | 163/525 [04:12<12:37,  2.09s/it]"
     ]
    },
    {
     "name": "stdout",
     "output_type": "stream",
     "text": [
      "BLONDE CRESTED WOODPECKER\n",
      " failed: Message: \n",
      "Stacktrace:\n",
      "0   chromedriver                        0x0000000104a464c8 chromedriver + 4302024\n",
      "1   chromedriver                        0x0000000104a3ee10 chromedriver + 4271632\n",
      "2   chromedriver                        0x000000010467019c chromedriver + 278940\n",
      "3   chromedriver                        0x00000001046b22c4 chromedriver + 549572\n",
      "4   chromedriver                        0x00000001046eac5c chromedriver + 781404\n",
      "5   chromedriver                        0x00000001046a7004 chromedriver + 503812\n",
      "6   chromedriver                        0x00000001046a79ec chromedriver + 506348\n",
      "7   chromedriver                        0x0000000104a0e510 chromedriver + 4072720\n",
      "8   chromedriver                        0x0000000104a12fbc chromedriver + 4091836\n",
      "9   chromedriver                        0x00000001049f5754 chromedriver + 3970900\n",
      "10  chromedriver                        0x0000000104a138a4 chromedriver + 4094116\n",
      "11  chromedriver                        0x00000001049e86d4 chromedriver + 3917524\n",
      "12  chromedriver                        0x0000000104a30b08 chromedriver + 4213512\n",
      "13  chromedriver                        0x0000000104a30c84 chromedriver + 4213892\n",
      "14  chromedriver                        0x0000000104a3ea08 chromedriver + 4270600\n",
      "15  libsystem_pthread.dylib             0x0000000183452f94 _pthread_start + 136\n",
      "16  libsystem_pthread.dylib             0x000000018344dd34 thread_start + 8\n",
      "\n"
     ]
    },
    {
     "name": "stderr",
     "output_type": "stream",
     "text": [
      " 32%|████████████▉                            | 166/525 [04:18<13:23,  2.24s/it]"
     ]
    },
    {
     "name": "stdout",
     "output_type": "stream",
     "text": [
      "BUSH TURKEY\n",
      " failed: Message: \n",
      "Stacktrace:\n",
      "0   chromedriver                        0x0000000104a464c8 chromedriver + 4302024\n",
      "1   chromedriver                        0x0000000104a3ee10 chromedriver + 4271632\n",
      "2   chromedriver                        0x000000010467019c chromedriver + 278940\n",
      "3   chromedriver                        0x00000001046b22c4 chromedriver + 549572\n",
      "4   chromedriver                        0x00000001046eac5c chromedriver + 781404\n",
      "5   chromedriver                        0x00000001046a7004 chromedriver + 503812\n",
      "6   chromedriver                        0x00000001046a79ec chromedriver + 506348\n",
      "7   chromedriver                        0x0000000104a0e510 chromedriver + 4072720\n",
      "8   chromedriver                        0x0000000104a12fbc chromedriver + 4091836\n",
      "9   chromedriver                        0x00000001049f5754 chromedriver + 3970900\n",
      "10  chromedriver                        0x0000000104a138a4 chromedriver + 4094116\n",
      "11  chromedriver                        0x00000001049e86d4 chromedriver + 3917524\n",
      "12  chromedriver                        0x0000000104a30b08 chromedriver + 4213512\n",
      "13  chromedriver                        0x0000000104a30c84 chromedriver + 4213892\n",
      "14  chromedriver                        0x0000000104a3ea08 chromedriver + 4270600\n",
      "15  libsystem_pthread.dylib             0x0000000183452f94 _pthread_start + 136\n",
      "16  libsystem_pthread.dylib             0x000000018344dd34 thread_start + 8\n",
      "\n"
     ]
    },
    {
     "name": "stderr",
     "output_type": "stream",
     "text": [
      " 32%|█████████████                            | 168/525 [04:23<14:12,  2.39s/it]"
     ]
    },
    {
     "name": "stdout",
     "output_type": "stream",
     "text": [
      "D-ARNAUDS BARBET\n",
      " failed: Message: \n",
      "Stacktrace:\n",
      "0   chromedriver                        0x0000000104a464c8 chromedriver + 4302024\n",
      "1   chromedriver                        0x0000000104a3ee10 chromedriver + 4271632\n",
      "2   chromedriver                        0x000000010467019c chromedriver + 278940\n",
      "3   chromedriver                        0x00000001046b22c4 chromedriver + 549572\n",
      "4   chromedriver                        0x00000001046eac5c chromedriver + 781404\n",
      "5   chromedriver                        0x00000001046a7004 chromedriver + 503812\n",
      "6   chromedriver                        0x00000001046a79ec chromedriver + 506348\n",
      "7   chromedriver                        0x0000000104a0e510 chromedriver + 4072720\n",
      "8   chromedriver                        0x0000000104a12fbc chromedriver + 4091836\n",
      "9   chromedriver                        0x00000001049f5754 chromedriver + 3970900\n",
      "10  chromedriver                        0x0000000104a138a4 chromedriver + 4094116\n",
      "11  chromedriver                        0x00000001049e86d4 chromedriver + 3917524\n",
      "12  chromedriver                        0x0000000104a30b08 chromedriver + 4213512\n",
      "13  chromedriver                        0x0000000104a30c84 chromedriver + 4213892\n",
      "14  chromedriver                        0x0000000104a3ea08 chromedriver + 4270600\n",
      "15  libsystem_pthread.dylib             0x0000000183452f94 _pthread_start + 136\n",
      "16  libsystem_pthread.dylib             0x000000018344dd34 thread_start + 8\n",
      "\n"
     ]
    },
    {
     "name": "stderr",
     "output_type": "stream",
     "text": [
      " 32%|█████████████▏                           | 169/525 [04:26<15:47,  2.66s/it]"
     ]
    },
    {
     "name": "stdout",
     "output_type": "stream",
     "text": [
      "ALBERTS TOWHEE\n",
      " failed: Message: \n",
      "Stacktrace:\n",
      "0   chromedriver                        0x0000000104a464c8 chromedriver + 4302024\n",
      "1   chromedriver                        0x0000000104a3ee10 chromedriver + 4271632\n",
      "2   chromedriver                        0x000000010467019c chromedriver + 278940\n",
      "3   chromedriver                        0x00000001046b22c4 chromedriver + 549572\n",
      "4   chromedriver                        0x00000001046eac5c chromedriver + 781404\n",
      "5   chromedriver                        0x00000001046a7004 chromedriver + 503812\n",
      "6   chromedriver                        0x00000001046a79ec chromedriver + 506348\n",
      "7   chromedriver                        0x0000000104a0e510 chromedriver + 4072720\n",
      "8   chromedriver                        0x0000000104a12fbc chromedriver + 4091836\n",
      "9   chromedriver                        0x00000001049f5754 chromedriver + 3970900\n",
      "10  chromedriver                        0x0000000104a138a4 chromedriver + 4094116\n",
      "11  chromedriver                        0x00000001049e86d4 chromedriver + 3917524\n",
      "12  chromedriver                        0x0000000104a30b08 chromedriver + 4213512\n",
      "13  chromedriver                        0x0000000104a30c84 chromedriver + 4213892\n",
      "14  chromedriver                        0x0000000104a3ea08 chromedriver + 4270600\n",
      "15  libsystem_pthread.dylib             0x0000000183452f94 _pthread_start + 136\n",
      "16  libsystem_pthread.dylib             0x000000018344dd34 thread_start + 8\n",
      "\n"
     ]
    },
    {
     "name": "stderr",
     "output_type": "stream",
     "text": [
      " 33%|█████████████▍                           | 172/525 [04:32<13:26,  2.29s/it]"
     ]
    },
    {
     "name": "stdout",
     "output_type": "stream",
     "text": [
      "RUFOUS TREPE\n",
      " failed: Message: \n",
      "Stacktrace:\n",
      "0   chromedriver                        0x0000000104a464c8 chromedriver + 4302024\n",
      "1   chromedriver                        0x0000000104a3ee10 chromedriver + 4271632\n",
      "2   chromedriver                        0x000000010467019c chromedriver + 278940\n",
      "3   chromedriver                        0x00000001046b22c4 chromedriver + 549572\n",
      "4   chromedriver                        0x00000001046eac5c chromedriver + 781404\n",
      "5   chromedriver                        0x00000001046a7004 chromedriver + 503812\n",
      "6   chromedriver                        0x00000001046a79ec chromedriver + 506348\n",
      "7   chromedriver                        0x0000000104a0e510 chromedriver + 4072720\n",
      "8   chromedriver                        0x0000000104a12fbc chromedriver + 4091836\n",
      "9   chromedriver                        0x00000001049f5754 chromedriver + 3970900\n",
      "10  chromedriver                        0x0000000104a138a4 chromedriver + 4094116\n",
      "11  chromedriver                        0x00000001049e86d4 chromedriver + 3917524\n",
      "12  chromedriver                        0x0000000104a30b08 chromedriver + 4213512\n",
      "13  chromedriver                        0x0000000104a30c84 chromedriver + 4213892\n",
      "14  chromedriver                        0x0000000104a3ea08 chromedriver + 4270600\n",
      "15  libsystem_pthread.dylib             0x0000000183452f94 _pthread_start + 136\n",
      "16  libsystem_pthread.dylib             0x000000018344dd34 thread_start + 8\n",
      "\n"
     ]
    },
    {
     "name": "stderr",
     "output_type": "stream",
     "text": [
      " 33%|█████████████▌                           | 173/525 [04:35<15:12,  2.59s/it]"
     ]
    },
    {
     "name": "stdout",
     "output_type": "stream",
     "text": [
      "EASTERN WIP POOR WILL\n",
      " failed: Message: \n",
      "Stacktrace:\n",
      "0   chromedriver                        0x0000000104a464c8 chromedriver + 4302024\n",
      "1   chromedriver                        0x0000000104a3ee10 chromedriver + 4271632\n",
      "2   chromedriver                        0x000000010467019c chromedriver + 278940\n",
      "3   chromedriver                        0x00000001046b22c4 chromedriver + 549572\n",
      "4   chromedriver                        0x00000001046eac5c chromedriver + 781404\n",
      "5   chromedriver                        0x00000001046a7004 chromedriver + 503812\n",
      "6   chromedriver                        0x00000001046a79ec chromedriver + 506348\n",
      "7   chromedriver                        0x0000000104a0e510 chromedriver + 4072720\n",
      "8   chromedriver                        0x0000000104a12fbc chromedriver + 4091836\n",
      "9   chromedriver                        0x00000001049f5754 chromedriver + 3970900\n",
      "10  chromedriver                        0x0000000104a138a4 chromedriver + 4094116\n",
      "11  chromedriver                        0x00000001049e86d4 chromedriver + 3917524\n",
      "12  chromedriver                        0x0000000104a30b08 chromedriver + 4213512\n",
      "13  chromedriver                        0x0000000104a30c84 chromedriver + 4213892\n",
      "14  chromedriver                        0x0000000104a3ea08 chromedriver + 4270600\n",
      "15  libsystem_pthread.dylib             0x0000000183452f94 _pthread_start + 136\n",
      "16  libsystem_pthread.dylib             0x000000018344dd34 thread_start + 8\n",
      "\n"
     ]
    },
    {
     "name": "stderr",
     "output_type": "stream",
     "text": [
      " 35%|██████████████▎                          | 184/525 [04:51<10:44,  1.89s/it]"
     ]
    },
    {
     "name": "stdout",
     "output_type": "stream",
     "text": [
      "RED WISKERED BULBUL\n",
      " failed: Message: \n",
      "Stacktrace:\n",
      "0   chromedriver                        0x0000000104a464c8 chromedriver + 4302024\n",
      "1   chromedriver                        0x0000000104a3ee10 chromedriver + 4271632\n",
      "2   chromedriver                        0x000000010467019c chromedriver + 278940\n",
      "3   chromedriver                        0x00000001046b22c4 chromedriver + 549572\n",
      "4   chromedriver                        0x00000001046eac5c chromedriver + 781404\n",
      "5   chromedriver                        0x00000001046a7004 chromedriver + 503812\n",
      "6   chromedriver                        0x00000001046a79ec chromedriver + 506348\n",
      "7   chromedriver                        0x0000000104a0e510 chromedriver + 4072720\n",
      "8   chromedriver                        0x0000000104a12fbc chromedriver + 4091836\n",
      "9   chromedriver                        0x00000001049f5754 chromedriver + 3970900\n",
      "10  chromedriver                        0x0000000104a138a4 chromedriver + 4094116\n",
      "11  chromedriver                        0x00000001049e86d4 chromedriver + 3917524\n",
      "12  chromedriver                        0x0000000104a30b08 chromedriver + 4213512\n",
      "13  chromedriver                        0x0000000104a30c84 chromedriver + 4213892\n",
      "14  chromedriver                        0x0000000104a3ea08 chromedriver + 4270600\n",
      "15  libsystem_pthread.dylib             0x0000000183452f94 _pthread_start + 136\n",
      "16  libsystem_pthread.dylib             0x000000018344dd34 thread_start + 8\n",
      "\n"
     ]
    },
    {
     "name": "stderr",
     "output_type": "stream",
     "text": [
      " 36%|██████████████▌                          | 187/525 [04:56<10:59,  1.95s/it]"
     ]
    },
    {
     "name": "stdout",
     "output_type": "stream",
     "text": [
      "ORANGE BRESTED BUNTING\n",
      " failed: Message: \n",
      "Stacktrace:\n",
      "0   chromedriver                        0x0000000104a464c8 chromedriver + 4302024\n",
      "1   chromedriver                        0x0000000104a3ee10 chromedriver + 4271632\n",
      "2   chromedriver                        0x000000010467019c chromedriver + 278940\n",
      "3   chromedriver                        0x00000001046b22c4 chromedriver + 549572\n",
      "4   chromedriver                        0x00000001046eac5c chromedriver + 781404\n",
      "5   chromedriver                        0x00000001046a7004 chromedriver + 503812\n",
      "6   chromedriver                        0x00000001046a79ec chromedriver + 506348\n",
      "7   chromedriver                        0x0000000104a0e510 chromedriver + 4072720\n",
      "8   chromedriver                        0x0000000104a12fbc chromedriver + 4091836\n",
      "9   chromedriver                        0x00000001049f5754 chromedriver + 3970900\n",
      "10  chromedriver                        0x0000000104a138a4 chromedriver + 4094116\n",
      "11  chromedriver                        0x00000001049e86d4 chromedriver + 3917524\n",
      "12  chromedriver                        0x0000000104a30b08 chromedriver + 4213512\n",
      "13  chromedriver                        0x0000000104a30c84 chromedriver + 4213892\n",
      "14  chromedriver                        0x0000000104a3ea08 chromedriver + 4270600\n",
      "15  libsystem_pthread.dylib             0x0000000183452f94 _pthread_start + 136\n",
      "16  libsystem_pthread.dylib             0x000000018344dd34 thread_start + 8\n",
      "\n"
     ]
    },
    {
     "name": "stderr",
     "output_type": "stream",
     "text": [
      " 37%|███████████████▎                         | 196/525 [05:08<09:49,  1.79s/it]"
     ]
    },
    {
     "name": "stdout",
     "output_type": "stream",
     "text": [
      "BANDED PITA\n",
      " failed: Message: \n",
      "Stacktrace:\n",
      "0   chromedriver                        0x0000000104a464c8 chromedriver + 4302024\n",
      "1   chromedriver                        0x0000000104a3ee10 chromedriver + 4271632\n",
      "2   chromedriver                        0x000000010467019c chromedriver + 278940\n",
      "3   chromedriver                        0x00000001046b22c4 chromedriver + 549572\n",
      "4   chromedriver                        0x00000001046eac5c chromedriver + 781404\n",
      "5   chromedriver                        0x00000001046a7004 chromedriver + 503812\n",
      "6   chromedriver                        0x00000001046a79ec chromedriver + 506348\n",
      "7   chromedriver                        0x0000000104a0e510 chromedriver + 4072720\n",
      "8   chromedriver                        0x0000000104a12fbc chromedriver + 4091836\n",
      "9   chromedriver                        0x00000001049f5754 chromedriver + 3970900\n",
      "10  chromedriver                        0x0000000104a138a4 chromedriver + 4094116\n",
      "11  chromedriver                        0x00000001049e86d4 chromedriver + 3917524\n",
      "12  chromedriver                        0x0000000104a30b08 chromedriver + 4213512\n",
      "13  chromedriver                        0x0000000104a30c84 chromedriver + 4213892\n",
      "14  chromedriver                        0x0000000104a3ea08 chromedriver + 4270600\n",
      "15  libsystem_pthread.dylib             0x0000000183452f94 _pthread_start + 136\n",
      "16  libsystem_pthread.dylib             0x000000018344dd34 thread_start + 8\n",
      "\n"
     ]
    },
    {
     "name": "stderr",
     "output_type": "stream",
     "text": [
      " 38%|███████████████▍                         | 198/525 [05:13<11:10,  2.05s/it]"
     ]
    },
    {
     "name": "stdout",
     "output_type": "stream",
     "text": [
      "IWI\n",
      " failed: Message: \n",
      "Stacktrace:\n",
      "0   chromedriver                        0x0000000104a464c8 chromedriver + 4302024\n",
      "1   chromedriver                        0x0000000104a3ee10 chromedriver + 4271632\n",
      "2   chromedriver                        0x000000010467019c chromedriver + 278940\n",
      "3   chromedriver                        0x00000001046b22c4 chromedriver + 549572\n",
      "4   chromedriver                        0x00000001046eac5c chromedriver + 781404\n",
      "5   chromedriver                        0x00000001046a7004 chromedriver + 503812\n",
      "6   chromedriver                        0x00000001046a79ec chromedriver + 506348\n",
      "7   chromedriver                        0x0000000104a0e510 chromedriver + 4072720\n",
      "8   chromedriver                        0x0000000104a12fbc chromedriver + 4091836\n",
      "9   chromedriver                        0x00000001049f5754 chromedriver + 3970900\n",
      "10  chromedriver                        0x0000000104a138a4 chromedriver + 4094116\n",
      "11  chromedriver                        0x00000001049e86d4 chromedriver + 3917524\n",
      "12  chromedriver                        0x0000000104a30b08 chromedriver + 4213512\n",
      "13  chromedriver                        0x0000000104a30c84 chromedriver + 4213892\n",
      "14  chromedriver                        0x0000000104a3ea08 chromedriver + 4270600\n",
      "15  libsystem_pthread.dylib             0x0000000183452f94 _pthread_start + 136\n",
      "16  libsystem_pthread.dylib             0x000000018344dd34 thread_start + 8\n",
      "\n"
     ]
    },
    {
     "name": "stderr",
     "output_type": "stream",
     "text": [
      " 38%|███████████████▋                         | 201/525 [05:18<11:43,  2.17s/it]"
     ]
    },
    {
     "name": "stdout",
     "output_type": "stream",
     "text": [
      "BRANDT CORMARANT\n",
      " failed: Message: \n",
      "Stacktrace:\n",
      "0   chromedriver                        0x0000000104a464c8 chromedriver + 4302024\n",
      "1   chromedriver                        0x0000000104a3ee10 chromedriver + 4271632\n",
      "2   chromedriver                        0x000000010467019c chromedriver + 278940\n",
      "3   chromedriver                        0x00000001046b22c4 chromedriver + 549572\n",
      "4   chromedriver                        0x00000001046eac5c chromedriver + 781404\n",
      "5   chromedriver                        0x00000001046a7004 chromedriver + 503812\n",
      "6   chromedriver                        0x00000001046a79ec chromedriver + 506348\n",
      "7   chromedriver                        0x0000000104a0e510 chromedriver + 4072720\n",
      "8   chromedriver                        0x0000000104a12fbc chromedriver + 4091836\n",
      "9   chromedriver                        0x00000001049f5754 chromedriver + 3970900\n",
      "10  chromedriver                        0x0000000104a138a4 chromedriver + 4094116\n",
      "11  chromedriver                        0x00000001049e86d4 chromedriver + 3917524\n",
      "12  chromedriver                        0x0000000104a30b08 chromedriver + 4213512\n",
      "13  chromedriver                        0x0000000104a30c84 chromedriver + 4213892\n",
      "14  chromedriver                        0x0000000104a3ea08 chromedriver + 4270600\n",
      "15  libsystem_pthread.dylib             0x0000000183452f94 _pthread_start + 136\n",
      "16  libsystem_pthread.dylib             0x000000018344dd34 thread_start + 8\n",
      "\n"
     ]
    },
    {
     "name": "stderr",
     "output_type": "stream",
     "text": [
      " 41%|████████████████▊                        | 216/525 [05:40<10:01,  1.95s/it]"
     ]
    },
    {
     "name": "stdout",
     "output_type": "stream",
     "text": [
      "GREY PLOVER\n",
      " failed: Message: \n",
      "Stacktrace:\n",
      "0   chromedriver                        0x0000000104a464c8 chromedriver + 4302024\n",
      "1   chromedriver                        0x0000000104a3ee10 chromedriver + 4271632\n",
      "2   chromedriver                        0x000000010467019c chromedriver + 278940\n",
      "3   chromedriver                        0x00000001046b22c4 chromedriver + 549572\n",
      "4   chromedriver                        0x00000001046eac5c chromedriver + 781404\n",
      "5   chromedriver                        0x00000001046a7004 chromedriver + 503812\n",
      "6   chromedriver                        0x00000001046a79ec chromedriver + 506348\n",
      "7   chromedriver                        0x0000000104a0e510 chromedriver + 4072720\n",
      "8   chromedriver                        0x0000000104a12fbc chromedriver + 4091836\n",
      "9   chromedriver                        0x00000001049f5754 chromedriver + 3970900\n",
      "10  chromedriver                        0x0000000104a138a4 chromedriver + 4094116\n",
      "11  chromedriver                        0x00000001049e86d4 chromedriver + 3917524\n",
      "12  chromedriver                        0x0000000104a30b08 chromedriver + 4213512\n",
      "13  chromedriver                        0x0000000104a30c84 chromedriver + 4213892\n",
      "14  chromedriver                        0x0000000104a3ea08 chromedriver + 4270600\n",
      "15  libsystem_pthread.dylib             0x0000000183452f94 _pthread_start + 136\n",
      "16  libsystem_pthread.dylib             0x000000018344dd34 thread_start + 8\n",
      "\n"
     ]
    },
    {
     "name": "stderr",
     "output_type": "stream",
     "text": [
      " 46%|██████████████████▋                      | 240/525 [06:13<08:55,  1.88s/it]"
     ]
    },
    {
     "name": "stdout",
     "output_type": "stream",
     "text": [
      "RUDY KINGFISHER\n",
      " failed: Message: \n",
      "Stacktrace:\n",
      "0   chromedriver                        0x0000000104a464c8 chromedriver + 4302024\n",
      "1   chromedriver                        0x0000000104a3ee10 chromedriver + 4271632\n",
      "2   chromedriver                        0x000000010467019c chromedriver + 278940\n",
      "3   chromedriver                        0x00000001046b22c4 chromedriver + 549572\n",
      "4   chromedriver                        0x00000001046eac5c chromedriver + 781404\n",
      "5   chromedriver                        0x00000001046a7004 chromedriver + 503812\n",
      "6   chromedriver                        0x00000001046a79ec chromedriver + 506348\n",
      "7   chromedriver                        0x0000000104a0e510 chromedriver + 4072720\n",
      "8   chromedriver                        0x0000000104a12fbc chromedriver + 4091836\n",
      "9   chromedriver                        0x00000001049f5754 chromedriver + 3970900\n",
      "10  chromedriver                        0x0000000104a138a4 chromedriver + 4094116\n",
      "11  chromedriver                        0x00000001049e86d4 chromedriver + 3917524\n",
      "12  chromedriver                        0x0000000104a30b08 chromedriver + 4213512\n",
      "13  chromedriver                        0x0000000104a30c84 chromedriver + 4213892\n",
      "14  chromedriver                        0x0000000104a3ea08 chromedriver + 4270600\n",
      "15  libsystem_pthread.dylib             0x0000000183452f94 _pthread_start + 136\n",
      "16  libsystem_pthread.dylib             0x000000018344dd34 thread_start + 8\n",
      "\n"
     ]
    },
    {
     "name": "stderr",
     "output_type": "stream",
     "text": [
      " 47%|███████████████████▍                     | 249/525 [06:26<08:47,  1.91s/it]"
     ]
    },
    {
     "name": "stdout",
     "output_type": "stream",
     "text": [
      "BLACK THROATED BUSHTIT\n",
      " failed: Message: \n",
      "Stacktrace:\n",
      "0   chromedriver                        0x0000000104a464c8 chromedriver + 4302024\n",
      "1   chromedriver                        0x0000000104a3ee10 chromedriver + 4271632\n",
      "2   chromedriver                        0x000000010467019c chromedriver + 278940\n",
      "3   chromedriver                        0x00000001046b22c4 chromedriver + 549572\n",
      "4   chromedriver                        0x00000001046eac5c chromedriver + 781404\n",
      "5   chromedriver                        0x00000001046a7004 chromedriver + 503812\n",
      "6   chromedriver                        0x00000001046a79ec chromedriver + 506348\n",
      "7   chromedriver                        0x0000000104a0e510 chromedriver + 4072720\n",
      "8   chromedriver                        0x0000000104a12fbc chromedriver + 4091836\n",
      "9   chromedriver                        0x00000001049f5754 chromedriver + 3970900\n",
      "10  chromedriver                        0x0000000104a138a4 chromedriver + 4094116\n",
      "11  chromedriver                        0x00000001049e86d4 chromedriver + 3917524\n",
      "12  chromedriver                        0x0000000104a30b08 chromedriver + 4213512\n",
      "13  chromedriver                        0x0000000104a30c84 chromedriver + 4213892\n",
      "14  chromedriver                        0x0000000104a3ea08 chromedriver + 4270600\n",
      "15  libsystem_pthread.dylib             0x0000000183452f94 _pthread_start + 136\n",
      "16  libsystem_pthread.dylib             0x000000018344dd34 thread_start + 8\n",
      "\n"
     ]
    },
    {
     "name": "stderr",
     "output_type": "stream",
     "text": [
      " 48%|███████████████████▋                     | 252/525 [06:31<08:54,  1.96s/it]"
     ]
    },
    {
     "name": "stdout",
     "output_type": "stream",
     "text": [
      "GREY HEADED FISH EAGLE\n",
      " failed: Message: \n",
      "Stacktrace:\n",
      "0   chromedriver                        0x0000000104a464c8 chromedriver + 4302024\n",
      "1   chromedriver                        0x0000000104a3ee10 chromedriver + 4271632\n",
      "2   chromedriver                        0x000000010467019c chromedriver + 278940\n",
      "3   chromedriver                        0x00000001046b22c4 chromedriver + 549572\n",
      "4   chromedriver                        0x00000001046eac5c chromedriver + 781404\n",
      "5   chromedriver                        0x00000001046a7004 chromedriver + 503812\n",
      "6   chromedriver                        0x00000001046a79ec chromedriver + 506348\n",
      "7   chromedriver                        0x0000000104a0e510 chromedriver + 4072720\n",
      "8   chromedriver                        0x0000000104a12fbc chromedriver + 4091836\n",
      "9   chromedriver                        0x00000001049f5754 chromedriver + 3970900\n",
      "10  chromedriver                        0x0000000104a138a4 chromedriver + 4094116\n",
      "11  chromedriver                        0x00000001049e86d4 chromedriver + 3917524\n",
      "12  chromedriver                        0x0000000104a30b08 chromedriver + 4213512\n",
      "13  chromedriver                        0x0000000104a30c84 chromedriver + 4213892\n",
      "14  chromedriver                        0x0000000104a3ea08 chromedriver + 4270600\n",
      "15  libsystem_pthread.dylib             0x0000000183452f94 _pthread_start + 136\n",
      "16  libsystem_pthread.dylib             0x000000018344dd34 thread_start + 8\n",
      "\n"
     ]
    },
    {
     "name": "stderr",
     "output_type": "stream",
     "text": [
      " 48%|███████████████████▊                     | 254/525 [06:36<10:09,  2.25s/it]"
     ]
    },
    {
     "name": "stdout",
     "output_type": "stream",
     "text": [
      "BLACK HEADED CAIQUE\n",
      " failed: Message: \n",
      "Stacktrace:\n",
      "0   chromedriver                        0x0000000104a464c8 chromedriver + 4302024\n",
      "1   chromedriver                        0x0000000104a3ee10 chromedriver + 4271632\n",
      "2   chromedriver                        0x000000010467019c chromedriver + 278940\n",
      "3   chromedriver                        0x00000001046b22c4 chromedriver + 549572\n",
      "4   chromedriver                        0x00000001046eac5c chromedriver + 781404\n",
      "5   chromedriver                        0x00000001046a7004 chromedriver + 503812\n",
      "6   chromedriver                        0x00000001046a79ec chromedriver + 506348\n",
      "7   chromedriver                        0x0000000104a0e510 chromedriver + 4072720\n",
      "8   chromedriver                        0x0000000104a12fbc chromedriver + 4091836\n",
      "9   chromedriver                        0x00000001049f5754 chromedriver + 3970900\n",
      "10  chromedriver                        0x0000000104a138a4 chromedriver + 4094116\n",
      "11  chromedriver                        0x00000001049e86d4 chromedriver + 3917524\n",
      "12  chromedriver                        0x0000000104a30b08 chromedriver + 4213512\n",
      "13  chromedriver                        0x0000000104a30c84 chromedriver + 4213892\n",
      "14  chromedriver                        0x0000000104a3ea08 chromedriver + 4270600\n",
      "15  libsystem_pthread.dylib             0x0000000183452f94 _pthread_start + 136\n",
      "16  libsystem_pthread.dylib             0x000000018344dd34 thread_start + 8\n",
      "\n"
     ]
    },
    {
     "name": "stderr",
     "output_type": "stream",
     "text": [
      " 50%|████████████████████▍                    | 261/525 [06:47<08:12,  1.86s/it]"
     ]
    },
    {
     "name": "stdout",
     "output_type": "stream",
     "text": [
      "BLUE COAU\n",
      " failed: Message: \n",
      "Stacktrace:\n",
      "0   chromedriver                        0x0000000104a464c8 chromedriver + 4302024\n",
      "1   chromedriver                        0x0000000104a3ee10 chromedriver + 4271632\n",
      "2   chromedriver                        0x000000010467019c chromedriver + 278940\n",
      "3   chromedriver                        0x00000001046b22c4 chromedriver + 549572\n",
      "4   chromedriver                        0x00000001046eac5c chromedriver + 781404\n",
      "5   chromedriver                        0x00000001046a7004 chromedriver + 503812\n",
      "6   chromedriver                        0x00000001046a79ec chromedriver + 506348\n",
      "7   chromedriver                        0x0000000104a0e510 chromedriver + 4072720\n",
      "8   chromedriver                        0x0000000104a12fbc chromedriver + 4091836\n",
      "9   chromedriver                        0x00000001049f5754 chromedriver + 3970900\n",
      "10  chromedriver                        0x0000000104a138a4 chromedriver + 4094116\n",
      "11  chromedriver                        0x00000001049e86d4 chromedriver + 3917524\n",
      "12  chromedriver                        0x0000000104a30b08 chromedriver + 4213512\n",
      "13  chromedriver                        0x0000000104a30c84 chromedriver + 4213892\n",
      "14  chromedriver                        0x0000000104a3ea08 chromedriver + 4270600\n",
      "15  libsystem_pthread.dylib             0x0000000183452f94 _pthread_start + 136\n",
      "16  libsystem_pthread.dylib             0x000000018344dd34 thread_start + 8\n",
      "\n"
     ]
    },
    {
     "name": "stderr",
     "output_type": "stream",
     "text": [
      " 51%|████████████████████▊                    | 266/525 [06:55<08:27,  1.96s/it]"
     ]
    },
    {
     "name": "stdout",
     "output_type": "stream",
     "text": [
      "EASTERN BLUEBONNET\n",
      " failed: Message: \n",
      "Stacktrace:\n",
      "0   chromedriver                        0x0000000104a464c8 chromedriver + 4302024\n",
      "1   chromedriver                        0x0000000104a3ee10 chromedriver + 4271632\n",
      "2   chromedriver                        0x000000010467019c chromedriver + 278940\n",
      "3   chromedriver                        0x00000001046b22c4 chromedriver + 549572\n",
      "4   chromedriver                        0x00000001046eac5c chromedriver + 781404\n",
      "5   chromedriver                        0x00000001046a7004 chromedriver + 503812\n",
      "6   chromedriver                        0x00000001046a79ec chromedriver + 506348\n",
      "7   chromedriver                        0x0000000104a0e510 chromedriver + 4072720\n",
      "8   chromedriver                        0x0000000104a12fbc chromedriver + 4091836\n",
      "9   chromedriver                        0x00000001049f5754 chromedriver + 3970900\n",
      "10  chromedriver                        0x0000000104a138a4 chromedriver + 4094116\n",
      "11  chromedriver                        0x00000001049e86d4 chromedriver + 3917524\n",
      "12  chromedriver                        0x0000000104a30b08 chromedriver + 4213512\n",
      "13  chromedriver                        0x0000000104a30c84 chromedriver + 4213892\n",
      "14  chromedriver                        0x0000000104a3ea08 chromedriver + 4270600\n",
      "15  libsystem_pthread.dylib             0x0000000183452f94 _pthread_start + 136\n",
      "16  libsystem_pthread.dylib             0x000000018344dd34 thread_start + 8\n",
      "\n"
     ]
    },
    {
     "name": "stderr",
     "output_type": "stream",
     "text": [
      " 52%|█████████████████████▏                   | 272/525 [07:05<08:14,  1.95s/it]"
     ]
    },
    {
     "name": "stdout",
     "output_type": "stream",
     "text": [
      "GREATOR SAGE GROUSE\n",
      " failed: Message: \n",
      "Stacktrace:\n",
      "0   chromedriver                        0x0000000104a464c8 chromedriver + 4302024\n",
      "1   chromedriver                        0x0000000104a3ee10 chromedriver + 4271632\n",
      "2   chromedriver                        0x000000010467019c chromedriver + 278940\n",
      "3   chromedriver                        0x00000001046b22c4 chromedriver + 549572\n",
      "4   chromedriver                        0x00000001046eac5c chromedriver + 781404\n",
      "5   chromedriver                        0x00000001046a7004 chromedriver + 503812\n",
      "6   chromedriver                        0x00000001046a79ec chromedriver + 506348\n",
      "7   chromedriver                        0x0000000104a0e510 chromedriver + 4072720\n",
      "8   chromedriver                        0x0000000104a12fbc chromedriver + 4091836\n",
      "9   chromedriver                        0x00000001049f5754 chromedriver + 3970900\n",
      "10  chromedriver                        0x0000000104a138a4 chromedriver + 4094116\n",
      "11  chromedriver                        0x00000001049e86d4 chromedriver + 3917524\n",
      "12  chromedriver                        0x0000000104a30b08 chromedriver + 4213512\n",
      "13  chromedriver                        0x0000000104a30c84 chromedriver + 4213892\n",
      "14  chromedriver                        0x0000000104a3ea08 chromedriver + 4270600\n",
      "15  libsystem_pthread.dylib             0x0000000183452f94 _pthread_start + 136\n",
      "16  libsystem_pthread.dylib             0x000000018344dd34 thread_start + 8\n",
      "\n"
     ]
    },
    {
     "name": "stderr",
     "output_type": "stream",
     "text": [
      " 52%|█████████████████████▍                   | 274/525 [07:09<08:58,  2.15s/it]"
     ]
    },
    {
     "name": "stdout",
     "output_type": "stream",
     "text": [
      "GREEN WINGED DOVE\n",
      " failed: Message: \n",
      "Stacktrace:\n",
      "0   chromedriver                        0x0000000104a464c8 chromedriver + 4302024\n",
      "1   chromedriver                        0x0000000104a3ee10 chromedriver + 4271632\n",
      "2   chromedriver                        0x000000010467019c chromedriver + 278940\n",
      "3   chromedriver                        0x00000001046b22c4 chromedriver + 549572\n",
      "4   chromedriver                        0x00000001046eac5c chromedriver + 781404\n",
      "5   chromedriver                        0x00000001046a7004 chromedriver + 503812\n",
      "6   chromedriver                        0x00000001046a79ec chromedriver + 506348\n",
      "7   chromedriver                        0x0000000104a0e510 chromedriver + 4072720\n",
      "8   chromedriver                        0x0000000104a12fbc chromedriver + 4091836\n",
      "9   chromedriver                        0x00000001049f5754 chromedriver + 3970900\n",
      "10  chromedriver                        0x0000000104a138a4 chromedriver + 4094116\n",
      "11  chromedriver                        0x00000001049e86d4 chromedriver + 3917524\n",
      "12  chromedriver                        0x0000000104a30b08 chromedriver + 4213512\n",
      "13  chromedriver                        0x0000000104a30c84 chromedriver + 4213892\n",
      "14  chromedriver                        0x0000000104a3ea08 chromedriver + 4270600\n",
      "15  libsystem_pthread.dylib             0x0000000183452f94 _pthread_start + 136\n",
      "16  libsystem_pthread.dylib             0x000000018344dd34 thread_start + 8\n",
      "\n"
     ]
    },
    {
     "name": "stderr",
     "output_type": "stream",
     "text": [
      " 52%|█████████████████████▍                   | 275/525 [07:13<10:23,  2.49s/it]"
     ]
    },
    {
     "name": "stdout",
     "output_type": "stream",
     "text": [
      "WALL CREAPER\n",
      " failed: Message: \n",
      "Stacktrace:\n",
      "0   chromedriver                        0x0000000104a464c8 chromedriver + 4302024\n",
      "1   chromedriver                        0x0000000104a3ee10 chromedriver + 4271632\n",
      "2   chromedriver                        0x000000010467019c chromedriver + 278940\n",
      "3   chromedriver                        0x00000001046b22c4 chromedriver + 549572\n",
      "4   chromedriver                        0x00000001046eac5c chromedriver + 781404\n",
      "5   chromedriver                        0x00000001046a7004 chromedriver + 503812\n",
      "6   chromedriver                        0x00000001046a79ec chromedriver + 506348\n",
      "7   chromedriver                        0x0000000104a0e510 chromedriver + 4072720\n",
      "8   chromedriver                        0x0000000104a12fbc chromedriver + 4091836\n",
      "9   chromedriver                        0x00000001049f5754 chromedriver + 3970900\n",
      "10  chromedriver                        0x0000000104a138a4 chromedriver + 4094116\n",
      "11  chromedriver                        0x00000001049e86d4 chromedriver + 3917524\n",
      "12  chromedriver                        0x0000000104a30b08 chromedriver + 4213512\n",
      "13  chromedriver                        0x0000000104a30c84 chromedriver + 4213892\n",
      "14  chromedriver                        0x0000000104a3ea08 chromedriver + 4270600\n",
      "15  libsystem_pthread.dylib             0x0000000183452f94 _pthread_start + 136\n",
      "16  libsystem_pthread.dylib             0x000000018344dd34 thread_start + 8\n",
      "\n"
     ]
    },
    {
     "name": "stderr",
     "output_type": "stream",
     "text": [
      " 53%|█████████████████████▊                   | 279/525 [07:20<08:44,  2.13s/it]"
     ]
    },
    {
     "name": "stdout",
     "output_type": "stream",
     "text": [
      "ROUGH LEG BUZZARD\n",
      " failed: Message: \n",
      "Stacktrace:\n",
      "0   chromedriver                        0x0000000104a464c8 chromedriver + 4302024\n",
      "1   chromedriver                        0x0000000104a3ee10 chromedriver + 4271632\n",
      "2   chromedriver                        0x000000010467019c chromedriver + 278940\n",
      "3   chromedriver                        0x00000001046b22c4 chromedriver + 549572\n",
      "4   chromedriver                        0x00000001046eac5c chromedriver + 781404\n",
      "5   chromedriver                        0x00000001046a7004 chromedriver + 503812\n",
      "6   chromedriver                        0x00000001046a79ec chromedriver + 506348\n",
      "7   chromedriver                        0x0000000104a0e510 chromedriver + 4072720\n",
      "8   chromedriver                        0x0000000104a12fbc chromedriver + 4091836\n",
      "9   chromedriver                        0x00000001049f5754 chromedriver + 3970900\n",
      "10  chromedriver                        0x0000000104a138a4 chromedriver + 4094116\n",
      "11  chromedriver                        0x00000001049e86d4 chromedriver + 3917524\n",
      "12  chromedriver                        0x0000000104a30b08 chromedriver + 4213512\n",
      "13  chromedriver                        0x0000000104a30c84 chromedriver + 4213892\n",
      "14  chromedriver                        0x0000000104a3ea08 chromedriver + 4270600\n",
      "15  libsystem_pthread.dylib             0x0000000183452f94 _pthread_start + 136\n",
      "16  libsystem_pthread.dylib             0x000000018344dd34 thread_start + 8\n",
      "\n"
     ]
    },
    {
     "name": "stderr",
     "output_type": "stream",
     "text": [
      " 53%|█████████████████████▊                   | 280/525 [07:23<10:16,  2.52s/it]"
     ]
    },
    {
     "name": "stdout",
     "output_type": "stream",
     "text": [
      "FAIRY PENGUIN\n",
      " failed: Message: \n",
      "Stacktrace:\n",
      "0   chromedriver                        0x0000000104a464c8 chromedriver + 4302024\n",
      "1   chromedriver                        0x0000000104a3ee10 chromedriver + 4271632\n",
      "2   chromedriver                        0x000000010467019c chromedriver + 278940\n",
      "3   chromedriver                        0x00000001046b22c4 chromedriver + 549572\n",
      "4   chromedriver                        0x00000001046eac5c chromedriver + 781404\n",
      "5   chromedriver                        0x00000001046a7004 chromedriver + 503812\n",
      "6   chromedriver                        0x00000001046a79ec chromedriver + 506348\n",
      "7   chromedriver                        0x0000000104a0e510 chromedriver + 4072720\n",
      "8   chromedriver                        0x0000000104a12fbc chromedriver + 4091836\n",
      "9   chromedriver                        0x00000001049f5754 chromedriver + 3970900\n",
      "10  chromedriver                        0x0000000104a138a4 chromedriver + 4094116\n",
      "11  chromedriver                        0x00000001049e86d4 chromedriver + 3917524\n",
      "12  chromedriver                        0x0000000104a30b08 chromedriver + 4213512\n",
      "13  chromedriver                        0x0000000104a30c84 chromedriver + 4213892\n",
      "14  chromedriver                        0x0000000104a3ea08 chromedriver + 4270600\n",
      "15  libsystem_pthread.dylib             0x0000000183452f94 _pthread_start + 136\n",
      "16  libsystem_pthread.dylib             0x000000018344dd34 thread_start + 8\n",
      "\n"
     ]
    },
    {
     "name": "stderr",
     "output_type": "stream",
     "text": [
      " 55%|██████████████████████▋                  | 291/525 [07:36<06:27,  1.66s/it]"
     ]
    },
    {
     "name": "stdout",
     "output_type": "stream",
     "text": [
      "AFRICAN CROWNED CRANE\n",
      " failed: Message: \n",
      "Stacktrace:\n",
      "0   chromedriver                        0x0000000104a464c8 chromedriver + 4302024\n",
      "1   chromedriver                        0x0000000104a3ee10 chromedriver + 4271632\n",
      "2   chromedriver                        0x000000010467019c chromedriver + 278940\n",
      "3   chromedriver                        0x00000001046b22c4 chromedriver + 549572\n",
      "4   chromedriver                        0x00000001046eac5c chromedriver + 781404\n",
      "5   chromedriver                        0x00000001046a7004 chromedriver + 503812\n",
      "6   chromedriver                        0x00000001046a79ec chromedriver + 506348\n",
      "7   chromedriver                        0x0000000104a0e510 chromedriver + 4072720\n",
      "8   chromedriver                        0x0000000104a12fbc chromedriver + 4091836\n",
      "9   chromedriver                        0x00000001049f5754 chromedriver + 3970900\n",
      "10  chromedriver                        0x0000000104a138a4 chromedriver + 4094116\n",
      "11  chromedriver                        0x00000001049e86d4 chromedriver + 3917524\n",
      "12  chromedriver                        0x0000000104a30b08 chromedriver + 4213512\n",
      "13  chromedriver                        0x0000000104a30c84 chromedriver + 4213892\n",
      "14  chromedriver                        0x0000000104a3ea08 chromedriver + 4270600\n",
      "15  libsystem_pthread.dylib             0x0000000183452f94 _pthread_start + 136\n",
      "16  libsystem_pthread.dylib             0x000000018344dd34 thread_start + 8\n",
      "\n"
     ]
    },
    {
     "name": "stderr",
     "output_type": "stream",
     "text": [
      " 57%|███████████████████████▍                 | 300/525 [07:51<07:15,  1.94s/it]"
     ]
    },
    {
     "name": "stdout",
     "output_type": "stream",
     "text": [
      "ROCK DOVE\n",
      " failed: Message: \n",
      "Stacktrace:\n",
      "0   chromedriver                        0x0000000104a464c8 chromedriver + 4302024\n",
      "1   chromedriver                        0x0000000104a3ee10 chromedriver + 4271632\n",
      "2   chromedriver                        0x000000010467019c chromedriver + 278940\n",
      "3   chromedriver                        0x00000001046b22c4 chromedriver + 549572\n",
      "4   chromedriver                        0x00000001046eac5c chromedriver + 781404\n",
      "5   chromedriver                        0x00000001046a7004 chromedriver + 503812\n",
      "6   chromedriver                        0x00000001046a79ec chromedriver + 506348\n",
      "7   chromedriver                        0x0000000104a0e510 chromedriver + 4072720\n",
      "8   chromedriver                        0x0000000104a12fbc chromedriver + 4091836\n",
      "9   chromedriver                        0x00000001049f5754 chromedriver + 3970900\n",
      "10  chromedriver                        0x0000000104a138a4 chromedriver + 4094116\n",
      "11  chromedriver                        0x00000001049e86d4 chromedriver + 3917524\n",
      "12  chromedriver                        0x0000000104a30b08 chromedriver + 4213512\n",
      "13  chromedriver                        0x0000000104a30c84 chromedriver + 4213892\n",
      "14  chromedriver                        0x0000000104a3ea08 chromedriver + 4270600\n",
      "15  libsystem_pthread.dylib             0x0000000183452f94 _pthread_start + 136\n",
      "16  libsystem_pthread.dylib             0x000000018344dd34 thread_start + 8\n",
      "\n"
     ]
    },
    {
     "name": "stderr",
     "output_type": "stream",
     "text": [
      " 58%|███████████████████████▋                 | 304/525 [07:59<07:43,  2.10s/it]"
     ]
    },
    {
     "name": "stdout",
     "output_type": "stream",
     "text": [
      "BROWN CREPPER\n",
      " failed: Message: \n",
      "Stacktrace:\n",
      "0   chromedriver                        0x0000000104a464c8 chromedriver + 4302024\n",
      "1   chromedriver                        0x0000000104a3ee10 chromedriver + 4271632\n",
      "2   chromedriver                        0x000000010467019c chromedriver + 278940\n",
      "3   chromedriver                        0x00000001046b22c4 chromedriver + 549572\n",
      "4   chromedriver                        0x00000001046eac5c chromedriver + 781404\n",
      "5   chromedriver                        0x00000001046a7004 chromedriver + 503812\n",
      "6   chromedriver                        0x00000001046a79ec chromedriver + 506348\n",
      "7   chromedriver                        0x0000000104a0e510 chromedriver + 4072720\n",
      "8   chromedriver                        0x0000000104a12fbc chromedriver + 4091836\n",
      "9   chromedriver                        0x00000001049f5754 chromedriver + 3970900\n",
      "10  chromedriver                        0x0000000104a138a4 chromedriver + 4094116\n",
      "11  chromedriver                        0x00000001049e86d4 chromedriver + 3917524\n",
      "12  chromedriver                        0x0000000104a30b08 chromedriver + 4213512\n",
      "13  chromedriver                        0x0000000104a30c84 chromedriver + 4213892\n",
      "14  chromedriver                        0x0000000104a3ea08 chromedriver + 4270600\n",
      "15  libsystem_pthread.dylib             0x0000000183452f94 _pthread_start + 136\n",
      "16  libsystem_pthread.dylib             0x000000018344dd34 thread_start + 8\n",
      "\n"
     ]
    },
    {
     "name": "stderr",
     "output_type": "stream",
     "text": [
      " 58%|███████████████████████▊                 | 305/525 [08:02<09:04,  2.47s/it]"
     ]
    },
    {
     "name": "stdout",
     "output_type": "stream",
     "text": [
      "BLUE GROUSE\n",
      " failed: Message: \n",
      "Stacktrace:\n",
      "0   chromedriver                        0x0000000104a464c8 chromedriver + 4302024\n",
      "1   chromedriver                        0x0000000104a3ee10 chromedriver + 4271632\n",
      "2   chromedriver                        0x000000010467019c chromedriver + 278940\n",
      "3   chromedriver                        0x00000001046b22c4 chromedriver + 549572\n",
      "4   chromedriver                        0x00000001046eac5c chromedriver + 781404\n",
      "5   chromedriver                        0x00000001046a7004 chromedriver + 503812\n",
      "6   chromedriver                        0x00000001046a79ec chromedriver + 506348\n",
      "7   chromedriver                        0x0000000104a0e510 chromedriver + 4072720\n",
      "8   chromedriver                        0x0000000104a12fbc chromedriver + 4091836\n",
      "9   chromedriver                        0x00000001049f5754 chromedriver + 3970900\n",
      "10  chromedriver                        0x0000000104a138a4 chromedriver + 4094116\n",
      "11  chromedriver                        0x00000001049e86d4 chromedriver + 3917524\n",
      "12  chromedriver                        0x0000000104a30b08 chromedriver + 4213512\n",
      "13  chromedriver                        0x0000000104a30c84 chromedriver + 4213892\n",
      "14  chromedriver                        0x0000000104a3ea08 chromedriver + 4270600\n",
      "15  libsystem_pthread.dylib             0x0000000183452f94 _pthread_start + 136\n",
      "16  libsystem_pthread.dylib             0x000000018344dd34 thread_start + 8\n",
      "\n"
     ]
    },
    {
     "name": "stderr",
     "output_type": "stream",
     "text": [
      " 58%|███████████████████████▉                 | 307/525 [08:06<08:41,  2.39s/it]"
     ]
    },
    {
     "name": "stdout",
     "output_type": "stream",
     "text": [
      "LITTLE AUK\n",
      " failed: Message: \n",
      "Stacktrace:\n",
      "0   chromedriver                        0x0000000104a464c8 chromedriver + 4302024\n",
      "1   chromedriver                        0x0000000104a3ee10 chromedriver + 4271632\n",
      "2   chromedriver                        0x000000010467019c chromedriver + 278940\n",
      "3   chromedriver                        0x00000001046b22c4 chromedriver + 549572\n",
      "4   chromedriver                        0x00000001046eac5c chromedriver + 781404\n",
      "5   chromedriver                        0x00000001046a7004 chromedriver + 503812\n",
      "6   chromedriver                        0x00000001046a79ec chromedriver + 506348\n",
      "7   chromedriver                        0x0000000104a0e510 chromedriver + 4072720\n",
      "8   chromedriver                        0x0000000104a12fbc chromedriver + 4091836\n",
      "9   chromedriver                        0x00000001049f5754 chromedriver + 3970900\n",
      "10  chromedriver                        0x0000000104a138a4 chromedriver + 4094116\n",
      "11  chromedriver                        0x00000001049e86d4 chromedriver + 3917524\n",
      "12  chromedriver                        0x0000000104a30b08 chromedriver + 4213512\n",
      "13  chromedriver                        0x0000000104a30c84 chromedriver + 4213892\n",
      "14  chromedriver                        0x0000000104a3ea08 chromedriver + 4270600\n",
      "15  libsystem_pthread.dylib             0x0000000183452f94 _pthread_start + 136\n",
      "16  libsystem_pthread.dylib             0x000000018344dd34 thread_start + 8\n",
      "\n"
     ]
    },
    {
     "name": "stderr",
     "output_type": "stream",
     "text": [
      " 60%|████████████████████████▍                | 313/525 [08:17<07:31,  2.13s/it]"
     ]
    },
    {
     "name": "stdout",
     "output_type": "stream",
     "text": [
      "COMMON STARLING\n",
      " failed: Message: \n",
      "Stacktrace:\n",
      "0   chromedriver                        0x0000000104a464c8 chromedriver + 4302024\n",
      "1   chromedriver                        0x0000000104a3ee10 chromedriver + 4271632\n",
      "2   chromedriver                        0x000000010467019c chromedriver + 278940\n",
      "3   chromedriver                        0x00000001046b22c4 chromedriver + 549572\n",
      "4   chromedriver                        0x00000001046eac5c chromedriver + 781404\n",
      "5   chromedriver                        0x00000001046a7004 chromedriver + 503812\n",
      "6   chromedriver                        0x00000001046a79ec chromedriver + 506348\n",
      "7   chromedriver                        0x0000000104a0e510 chromedriver + 4072720\n",
      "8   chromedriver                        0x0000000104a12fbc chromedriver + 4091836\n",
      "9   chromedriver                        0x00000001049f5754 chromedriver + 3970900\n",
      "10  chromedriver                        0x0000000104a138a4 chromedriver + 4094116\n",
      "11  chromedriver                        0x00000001049e86d4 chromedriver + 3917524\n",
      "12  chromedriver                        0x0000000104a30b08 chromedriver + 4213512\n",
      "13  chromedriver                        0x0000000104a30c84 chromedriver + 4213892\n",
      "14  chromedriver                        0x0000000104a3ea08 chromedriver + 4270600\n",
      "15  libsystem_pthread.dylib             0x0000000183452f94 _pthread_start + 136\n",
      "16  libsystem_pthread.dylib             0x000000018344dd34 thread_start + 8\n",
      "\n"
     ]
    },
    {
     "name": "stderr",
     "output_type": "stream",
     "text": [
      " 63%|█████████████████████████▊               | 330/525 [08:39<05:45,  1.77s/it]"
     ]
    },
    {
     "name": "stdout",
     "output_type": "stream",
     "text": [
      "PARAKETT AUKLET\n",
      " failed: Message: \n",
      "Stacktrace:\n",
      "0   chromedriver                        0x0000000104a464c8 chromedriver + 4302024\n",
      "1   chromedriver                        0x0000000104a3ee10 chromedriver + 4271632\n",
      "2   chromedriver                        0x000000010467019c chromedriver + 278940\n",
      "3   chromedriver                        0x00000001046b22c4 chromedriver + 549572\n",
      "4   chromedriver                        0x00000001046eac5c chromedriver + 781404\n",
      "5   chromedriver                        0x00000001046a7004 chromedriver + 503812\n",
      "6   chromedriver                        0x00000001046a79ec chromedriver + 506348\n",
      "7   chromedriver                        0x0000000104a0e510 chromedriver + 4072720\n",
      "8   chromedriver                        0x0000000104a12fbc chromedriver + 4091836\n",
      "9   chromedriver                        0x00000001049f5754 chromedriver + 3970900\n",
      "10  chromedriver                        0x0000000104a138a4 chromedriver + 4094116\n",
      "11  chromedriver                        0x00000001049e86d4 chromedriver + 3917524\n",
      "12  chromedriver                        0x0000000104a30b08 chromedriver + 4213512\n",
      "13  chromedriver                        0x0000000104a30c84 chromedriver + 4213892\n",
      "14  chromedriver                        0x0000000104a3ea08 chromedriver + 4270600\n",
      "15  libsystem_pthread.dylib             0x0000000183452f94 _pthread_start + 136\n",
      "16  libsystem_pthread.dylib             0x000000018344dd34 thread_start + 8\n",
      "\n"
     ]
    },
    {
     "name": "stderr",
     "output_type": "stream",
     "text": [
      " 63%|██████████████████████████               | 333/525 [08:45<06:44,  2.10s/it]"
     ]
    },
    {
     "name": "stdout",
     "output_type": "stream",
     "text": [
      "BLUE THROATED TOUCANET\n",
      " failed: Message: \n",
      "Stacktrace:\n",
      "0   chromedriver                        0x0000000104a464c8 chromedriver + 4302024\n",
      "1   chromedriver                        0x0000000104a3ee10 chromedriver + 4271632\n",
      "2   chromedriver                        0x000000010467019c chromedriver + 278940\n",
      "3   chromedriver                        0x00000001046b22c4 chromedriver + 549572\n",
      "4   chromedriver                        0x00000001046eac5c chromedriver + 781404\n",
      "5   chromedriver                        0x00000001046a7004 chromedriver + 503812\n",
      "6   chromedriver                        0x00000001046a79ec chromedriver + 506348\n",
      "7   chromedriver                        0x0000000104a0e510 chromedriver + 4072720\n",
      "8   chromedriver                        0x0000000104a12fbc chromedriver + 4091836\n",
      "9   chromedriver                        0x00000001049f5754 chromedriver + 3970900\n",
      "10  chromedriver                        0x0000000104a138a4 chromedriver + 4094116\n",
      "11  chromedriver                        0x00000001049e86d4 chromedriver + 3917524\n",
      "12  chromedriver                        0x0000000104a30b08 chromedriver + 4213512\n",
      "13  chromedriver                        0x0000000104a30c84 chromedriver + 4213892\n",
      "14  chromedriver                        0x0000000104a3ea08 chromedriver + 4270600\n",
      "15  libsystem_pthread.dylib             0x0000000183452f94 _pthread_start + 136\n",
      "16  libsystem_pthread.dylib             0x000000018344dd34 thread_start + 8\n",
      "\n"
     ]
    },
    {
     "name": "stderr",
     "output_type": "stream",
     "text": [
      " 64%|██████████████████████████▎              | 337/525 [08:52<06:01,  1.92s/it]"
     ]
    },
    {
     "name": "stdout",
     "output_type": "stream",
     "text": [
      "ASIAN OPENBILL STORK\n",
      " failed: Message: \n",
      "Stacktrace:\n",
      "0   chromedriver                        0x0000000104a464c8 chromedriver + 4302024\n",
      "1   chromedriver                        0x0000000104a3ee10 chromedriver + 4271632\n",
      "2   chromedriver                        0x000000010467019c chromedriver + 278940\n",
      "3   chromedriver                        0x00000001046b22c4 chromedriver + 549572\n",
      "4   chromedriver                        0x00000001046eac5c chromedriver + 781404\n",
      "5   chromedriver                        0x00000001046a7004 chromedriver + 503812\n",
      "6   chromedriver                        0x00000001046a79ec chromedriver + 506348\n",
      "7   chromedriver                        0x0000000104a0e510 chromedriver + 4072720\n",
      "8   chromedriver                        0x0000000104a12fbc chromedriver + 4091836\n",
      "9   chromedriver                        0x00000001049f5754 chromedriver + 3970900\n",
      "10  chromedriver                        0x0000000104a138a4 chromedriver + 4094116\n",
      "11  chromedriver                        0x00000001049e86d4 chromedriver + 3917524\n",
      "12  chromedriver                        0x0000000104a30b08 chromedriver + 4213512\n",
      "13  chromedriver                        0x0000000104a30c84 chromedriver + 4213892\n",
      "14  chromedriver                        0x0000000104a3ea08 chromedriver + 4270600\n",
      "15  libsystem_pthread.dylib             0x0000000183452f94 _pthread_start + 136\n",
      "16  libsystem_pthread.dylib             0x000000018344dd34 thread_start + 8\n",
      "\n"
     ]
    },
    {
     "name": "stderr",
     "output_type": "stream",
     "text": [
      " 65%|██████████████████████████▍              | 339/525 [08:56<06:35,  2.12s/it]"
     ]
    },
    {
     "name": "stdout",
     "output_type": "stream",
     "text": [
      "RED BROWED FINCH\n",
      " failed: Message: \n",
      "Stacktrace:\n",
      "0   chromedriver                        0x0000000104a464c8 chromedriver + 4302024\n",
      "1   chromedriver                        0x0000000104a3ee10 chromedriver + 4271632\n",
      "2   chromedriver                        0x000000010467019c chromedriver + 278940\n",
      "3   chromedriver                        0x00000001046b22c4 chromedriver + 549572\n",
      "4   chromedriver                        0x00000001046eac5c chromedriver + 781404\n",
      "5   chromedriver                        0x00000001046a7004 chromedriver + 503812\n",
      "6   chromedriver                        0x00000001046a79ec chromedriver + 506348\n",
      "7   chromedriver                        0x0000000104a0e510 chromedriver + 4072720\n",
      "8   chromedriver                        0x0000000104a12fbc chromedriver + 4091836\n",
      "9   chromedriver                        0x00000001049f5754 chromedriver + 3970900\n",
      "10  chromedriver                        0x0000000104a138a4 chromedriver + 4094116\n",
      "11  chromedriver                        0x00000001049e86d4 chromedriver + 3917524\n",
      "12  chromedriver                        0x0000000104a30b08 chromedriver + 4213512\n",
      "13  chromedriver                        0x0000000104a30c84 chromedriver + 4213892\n",
      "14  chromedriver                        0x0000000104a3ea08 chromedriver + 4270600\n",
      "15  libsystem_pthread.dylib             0x0000000183452f94 _pthread_start + 136\n",
      "16  libsystem_pthread.dylib             0x000000018344dd34 thread_start + 8\n",
      "\n"
     ]
    },
    {
     "name": "stderr",
     "output_type": "stream",
     "text": [
      " 65%|██████████████████████████▌              | 340/525 [08:59<07:38,  2.48s/it]"
     ]
    },
    {
     "name": "stdout",
     "output_type": "stream",
     "text": [
      "JACOBIN PIGEON\n",
      " failed: Message: \n",
      "Stacktrace:\n",
      "0   chromedriver                        0x0000000104a464c8 chromedriver + 4302024\n",
      "1   chromedriver                        0x0000000104a3ee10 chromedriver + 4271632\n",
      "2   chromedriver                        0x000000010467019c chromedriver + 278940\n",
      "3   chromedriver                        0x00000001046b22c4 chromedriver + 549572\n",
      "4   chromedriver                        0x00000001046eac5c chromedriver + 781404\n",
      "5   chromedriver                        0x00000001046a7004 chromedriver + 503812\n",
      "6   chromedriver                        0x00000001046a79ec chromedriver + 506348\n",
      "7   chromedriver                        0x0000000104a0e510 chromedriver + 4072720\n",
      "8   chromedriver                        0x0000000104a12fbc chromedriver + 4091836\n",
      "9   chromedriver                        0x00000001049f5754 chromedriver + 3970900\n",
      "10  chromedriver                        0x0000000104a138a4 chromedriver + 4094116\n",
      "11  chromedriver                        0x00000001049e86d4 chromedriver + 3917524\n",
      "12  chromedriver                        0x0000000104a30b08 chromedriver + 4213512\n",
      "13  chromedriver                        0x0000000104a30c84 chromedriver + 4213892\n",
      "14  chromedriver                        0x0000000104a3ea08 chromedriver + 4270600\n",
      "15  libsystem_pthread.dylib             0x0000000183452f94 _pthread_start + 136\n",
      "16  libsystem_pthread.dylib             0x000000018344dd34 thread_start + 8\n",
      "\n"
     ]
    },
    {
     "name": "stderr",
     "output_type": "stream",
     "text": [
      " 65%|██████████████████████████▋              | 341/525 [09:03<08:23,  2.74s/it]"
     ]
    },
    {
     "name": "stdout",
     "output_type": "stream",
     "text": [
      "SAND MARTIN\n",
      " failed: Message: \n",
      "Stacktrace:\n",
      "0   chromedriver                        0x0000000104a464c8 chromedriver + 4302024\n",
      "1   chromedriver                        0x0000000104a3ee10 chromedriver + 4271632\n",
      "2   chromedriver                        0x000000010467019c chromedriver + 278940\n",
      "3   chromedriver                        0x00000001046b22c4 chromedriver + 549572\n",
      "4   chromedriver                        0x00000001046eac5c chromedriver + 781404\n",
      "5   chromedriver                        0x00000001046a7004 chromedriver + 503812\n",
      "6   chromedriver                        0x00000001046a79ec chromedriver + 506348\n",
      "7   chromedriver                        0x0000000104a0e510 chromedriver + 4072720\n",
      "8   chromedriver                        0x0000000104a12fbc chromedriver + 4091836\n",
      "9   chromedriver                        0x00000001049f5754 chromedriver + 3970900\n",
      "10  chromedriver                        0x0000000104a138a4 chromedriver + 4094116\n",
      "11  chromedriver                        0x00000001049e86d4 chromedriver + 3917524\n",
      "12  chromedriver                        0x0000000104a30b08 chromedriver + 4213512\n",
      "13  chromedriver                        0x0000000104a30c84 chromedriver + 4213892\n",
      "14  chromedriver                        0x0000000104a3ea08 chromedriver + 4270600\n",
      "15  libsystem_pthread.dylib             0x0000000183452f94 _pthread_start + 136\n",
      "16  libsystem_pthread.dylib             0x000000018344dd34 thread_start + 8\n",
      "\n"
     ]
    },
    {
     "name": "stderr",
     "output_type": "stream",
     "text": [
      " 65%|██████████████████████████▋              | 342/525 [09:06<08:54,  2.92s/it]"
     ]
    },
    {
     "name": "stdout",
     "output_type": "stream",
     "text": [
      "TASMANIAN HEN\n",
      " failed: Message: \n",
      "Stacktrace:\n",
      "0   chromedriver                        0x0000000104a464c8 chromedriver + 4302024\n",
      "1   chromedriver                        0x0000000104a3ee10 chromedriver + 4271632\n",
      "2   chromedriver                        0x000000010467019c chromedriver + 278940\n",
      "3   chromedriver                        0x00000001046b22c4 chromedriver + 549572\n",
      "4   chromedriver                        0x00000001046eac5c chromedriver + 781404\n",
      "5   chromedriver                        0x00000001046a7004 chromedriver + 503812\n",
      "6   chromedriver                        0x00000001046a79ec chromedriver + 506348\n",
      "7   chromedriver                        0x0000000104a0e510 chromedriver + 4072720\n",
      "8   chromedriver                        0x0000000104a12fbc chromedriver + 4091836\n",
      "9   chromedriver                        0x00000001049f5754 chromedriver + 3970900\n",
      "10  chromedriver                        0x0000000104a138a4 chromedriver + 4094116\n",
      "11  chromedriver                        0x00000001049e86d4 chromedriver + 3917524\n",
      "12  chromedriver                        0x0000000104a30b08 chromedriver + 4213512\n",
      "13  chromedriver                        0x0000000104a30c84 chromedriver + 4213892\n",
      "14  chromedriver                        0x0000000104a3ea08 chromedriver + 4270600\n",
      "15  libsystem_pthread.dylib             0x0000000183452f94 _pthread_start + 136\n",
      "16  libsystem_pthread.dylib             0x000000018344dd34 thread_start + 8\n",
      "\n"
     ]
    },
    {
     "name": "stderr",
     "output_type": "stream",
     "text": [
      " 66%|██████████████████████████▊              | 344/525 [09:11<08:13,  2.72s/it]"
     ]
    },
    {
     "name": "stdout",
     "output_type": "stream",
     "text": [
      "CHUKAR PARTRIDGE\n",
      " failed: Message: \n",
      "Stacktrace:\n",
      "0   chromedriver                        0x0000000104a464c8 chromedriver + 4302024\n",
      "1   chromedriver                        0x0000000104a3ee10 chromedriver + 4271632\n",
      "2   chromedriver                        0x000000010467019c chromedriver + 278940\n",
      "3   chromedriver                        0x00000001046b22c4 chromedriver + 549572\n",
      "4   chromedriver                        0x00000001046eac5c chromedriver + 781404\n",
      "5   chromedriver                        0x00000001046a7004 chromedriver + 503812\n",
      "6   chromedriver                        0x00000001046a79ec chromedriver + 506348\n",
      "7   chromedriver                        0x0000000104a0e510 chromedriver + 4072720\n",
      "8   chromedriver                        0x0000000104a12fbc chromedriver + 4091836\n",
      "9   chromedriver                        0x00000001049f5754 chromedriver + 3970900\n",
      "10  chromedriver                        0x0000000104a138a4 chromedriver + 4094116\n",
      "11  chromedriver                        0x00000001049e86d4 chromedriver + 3917524\n",
      "12  chromedriver                        0x0000000104a30b08 chromedriver + 4213512\n",
      "13  chromedriver                        0x0000000104a30c84 chromedriver + 4213892\n",
      "14  chromedriver                        0x0000000104a3ea08 chromedriver + 4270600\n",
      "15  libsystem_pthread.dylib             0x0000000183452f94 _pthread_start + 136\n",
      "16  libsystem_pthread.dylib             0x000000018344dd34 thread_start + 8\n",
      "\n"
     ]
    },
    {
     "name": "stderr",
     "output_type": "stream",
     "text": [
      " 67%|███████████████████████████▋             | 354/525 [09:26<05:35,  1.96s/it]"
     ]
    },
    {
     "name": "stdout",
     "output_type": "stream",
     "text": [
      "FRILL BACK PIGEON\n",
      " failed: Message: \n",
      "Stacktrace:\n",
      "0   chromedriver                        0x0000000104a464c8 chromedriver + 4302024\n",
      "1   chromedriver                        0x0000000104a3ee10 chromedriver + 4271632\n",
      "2   chromedriver                        0x000000010467019c chromedriver + 278940\n",
      "3   chromedriver                        0x00000001046b22c4 chromedriver + 549572\n",
      "4   chromedriver                        0x00000001046eac5c chromedriver + 781404\n",
      "5   chromedriver                        0x00000001046a7004 chromedriver + 503812\n",
      "6   chromedriver                        0x00000001046a79ec chromedriver + 506348\n",
      "7   chromedriver                        0x0000000104a0e510 chromedriver + 4072720\n",
      "8   chromedriver                        0x0000000104a12fbc chromedriver + 4091836\n",
      "9   chromedriver                        0x00000001049f5754 chromedriver + 3970900\n",
      "10  chromedriver                        0x0000000104a138a4 chromedriver + 4094116\n",
      "11  chromedriver                        0x00000001049e86d4 chromedriver + 3917524\n",
      "12  chromedriver                        0x0000000104a30b08 chromedriver + 4213512\n",
      "13  chromedriver                        0x0000000104a30c84 chromedriver + 4213892\n",
      "14  chromedriver                        0x0000000104a3ea08 chromedriver + 4270600\n",
      "15  libsystem_pthread.dylib             0x0000000183452f94 _pthread_start + 136\n",
      "16  libsystem_pthread.dylib             0x000000018344dd34 thread_start + 8\n",
      "\n"
     ]
    },
    {
     "name": "stderr",
     "output_type": "stream",
     "text": [
      " 70%|████████████████████████████▋            | 368/525 [09:49<05:20,  2.04s/it]"
     ]
    },
    {
     "name": "stdout",
     "output_type": "stream",
     "text": [
      "DOUBLE BRESTED CORMARANT\n",
      " failed: Message: \n",
      "Stacktrace:\n",
      "0   chromedriver                        0x0000000104a464c8 chromedriver + 4302024\n",
      "1   chromedriver                        0x0000000104a3ee10 chromedriver + 4271632\n",
      "2   chromedriver                        0x000000010467019c chromedriver + 278940\n",
      "3   chromedriver                        0x00000001046b22c4 chromedriver + 549572\n",
      "4   chromedriver                        0x00000001046eac5c chromedriver + 781404\n",
      "5   chromedriver                        0x00000001046a7004 chromedriver + 503812\n",
      "6   chromedriver                        0x00000001046a79ec chromedriver + 506348\n",
      "7   chromedriver                        0x0000000104a0e510 chromedriver + 4072720\n",
      "8   chromedriver                        0x0000000104a12fbc chromedriver + 4091836\n",
      "9   chromedriver                        0x00000001049f5754 chromedriver + 3970900\n",
      "10  chromedriver                        0x0000000104a138a4 chromedriver + 4094116\n",
      "11  chromedriver                        0x00000001049e86d4 chromedriver + 3917524\n",
      "12  chromedriver                        0x0000000104a30b08 chromedriver + 4213512\n",
      "13  chromedriver                        0x0000000104a30c84 chromedriver + 4213892\n",
      "14  chromedriver                        0x0000000104a3ea08 chromedriver + 4270600\n",
      "15  libsystem_pthread.dylib             0x0000000183452f94 _pthread_start + 136\n",
      "16  libsystem_pthread.dylib             0x000000018344dd34 thread_start + 8\n",
      "\n"
     ]
    },
    {
     "name": "stderr",
     "output_type": "stream",
     "text": [
      " 72%|█████████████████████████████▍           | 377/525 [10:03<04:58,  2.02s/it]"
     ]
    },
    {
     "name": "stdout",
     "output_type": "stream",
     "text": [
      "EASTERN GOLDEN WEAVER\n",
      " failed: Message: \n",
      "Stacktrace:\n",
      "0   chromedriver                        0x0000000104a464c8 chromedriver + 4302024\n",
      "1   chromedriver                        0x0000000104a3ee10 chromedriver + 4271632\n",
      "2   chromedriver                        0x000000010467019c chromedriver + 278940\n",
      "3   chromedriver                        0x00000001046b22c4 chromedriver + 549572\n",
      "4   chromedriver                        0x00000001046eac5c chromedriver + 781404\n",
      "5   chromedriver                        0x00000001046a7004 chromedriver + 503812\n",
      "6   chromedriver                        0x00000001046a79ec chromedriver + 506348\n",
      "7   chromedriver                        0x0000000104a0e510 chromedriver + 4072720\n",
      "8   chromedriver                        0x0000000104a12fbc chromedriver + 4091836\n",
      "9   chromedriver                        0x00000001049f5754 chromedriver + 3970900\n",
      "10  chromedriver                        0x0000000104a138a4 chromedriver + 4094116\n",
      "11  chromedriver                        0x00000001049e86d4 chromedriver + 3917524\n",
      "12  chromedriver                        0x0000000104a30b08 chromedriver + 4213512\n",
      "13  chromedriver                        0x0000000104a30c84 chromedriver + 4213892\n",
      "14  chromedriver                        0x0000000104a3ea08 chromedriver + 4270600\n",
      "15  libsystem_pthread.dylib             0x0000000183452f94 _pthread_start + 136\n",
      "16  libsystem_pthread.dylib             0x000000018344dd34 thread_start + 8\n",
      "\n"
     ]
    },
    {
     "name": "stderr",
     "output_type": "stream",
     "text": [
      " 74%|██████████████████████████████▌          | 391/525 [10:22<03:56,  1.76s/it]"
     ]
    },
    {
     "name": "stdout",
     "output_type": "stream",
     "text": [
      "ASIAN DOLLARD BIRD\n",
      " failed: Message: \n",
      "Stacktrace:\n",
      "0   chromedriver                        0x0000000104a464c8 chromedriver + 4302024\n",
      "1   chromedriver                        0x0000000104a3ee10 chromedriver + 4271632\n",
      "2   chromedriver                        0x000000010467019c chromedriver + 278940\n",
      "3   chromedriver                        0x00000001046b22c4 chromedriver + 549572\n",
      "4   chromedriver                        0x00000001046eac5c chromedriver + 781404\n",
      "5   chromedriver                        0x00000001046a7004 chromedriver + 503812\n",
      "6   chromedriver                        0x00000001046a79ec chromedriver + 506348\n",
      "7   chromedriver                        0x0000000104a0e510 chromedriver + 4072720\n",
      "8   chromedriver                        0x0000000104a12fbc chromedriver + 4091836\n",
      "9   chromedriver                        0x00000001049f5754 chromedriver + 3970900\n",
      "10  chromedriver                        0x0000000104a138a4 chromedriver + 4094116\n",
      "11  chromedriver                        0x00000001049e86d4 chromedriver + 3917524\n",
      "12  chromedriver                        0x0000000104a30b08 chromedriver + 4213512\n",
      "13  chromedriver                        0x0000000104a30c84 chromedriver + 4213892\n",
      "14  chromedriver                        0x0000000104a3ea08 chromedriver + 4270600\n",
      "15  libsystem_pthread.dylib             0x0000000183452f94 _pthread_start + 136\n",
      "16  libsystem_pthread.dylib             0x000000018344dd34 thread_start + 8\n",
      "\n"
     ]
    },
    {
     "name": "stderr",
     "output_type": "stream",
     "text": [
      " 76%|███████████████████████████████          | 397/525 [10:32<04:16,  2.00s/it]"
     ]
    },
    {
     "name": "stdout",
     "output_type": "stream",
     "text": [
      "FIRE TAILLED MYZORNIS\n",
      " failed: Message: \n",
      "Stacktrace:\n",
      "0   chromedriver                        0x0000000104a464c8 chromedriver + 4302024\n",
      "1   chromedriver                        0x0000000104a3ee10 chromedriver + 4271632\n",
      "2   chromedriver                        0x000000010467019c chromedriver + 278940\n",
      "3   chromedriver                        0x00000001046b22c4 chromedriver + 549572\n",
      "4   chromedriver                        0x00000001046eac5c chromedriver + 781404\n",
      "5   chromedriver                        0x00000001046a7004 chromedriver + 503812\n",
      "6   chromedriver                        0x00000001046a79ec chromedriver + 506348\n",
      "7   chromedriver                        0x0000000104a0e510 chromedriver + 4072720\n",
      "8   chromedriver                        0x0000000104a12fbc chromedriver + 4091836\n",
      "9   chromedriver                        0x00000001049f5754 chromedriver + 3970900\n",
      "10  chromedriver                        0x0000000104a138a4 chromedriver + 4094116\n",
      "11  chromedriver                        0x00000001049e86d4 chromedriver + 3917524\n",
      "12  chromedriver                        0x0000000104a30b08 chromedriver + 4213512\n",
      "13  chromedriver                        0x0000000104a30c84 chromedriver + 4213892\n",
      "14  chromedriver                        0x0000000104a3ea08 chromedriver + 4270600\n",
      "15  libsystem_pthread.dylib             0x0000000183452f94 _pthread_start + 136\n",
      "16  libsystem_pthread.dylib             0x000000018344dd34 thread_start + 8\n",
      "\n"
     ]
    },
    {
     "name": "stderr",
     "output_type": "stream",
     "text": [
      " 78%|███████████████████████████████▉         | 409/525 [10:52<03:53,  2.01s/it]"
     ]
    },
    {
     "name": "stdout",
     "output_type": "stream",
     "text": [
      "AUCKLAND SHAQ\n",
      " failed: Message: \n",
      "Stacktrace:\n",
      "0   chromedriver                        0x0000000104a464c8 chromedriver + 4302024\n",
      "1   chromedriver                        0x0000000104a3ee10 chromedriver + 4271632\n",
      "2   chromedriver                        0x000000010467019c chromedriver + 278940\n",
      "3   chromedriver                        0x00000001046b22c4 chromedriver + 549572\n",
      "4   chromedriver                        0x00000001046eac5c chromedriver + 781404\n",
      "5   chromedriver                        0x00000001046a7004 chromedriver + 503812\n",
      "6   chromedriver                        0x00000001046a79ec chromedriver + 506348\n",
      "7   chromedriver                        0x0000000104a0e510 chromedriver + 4072720\n",
      "8   chromedriver                        0x0000000104a12fbc chromedriver + 4091836\n",
      "9   chromedriver                        0x00000001049f5754 chromedriver + 3970900\n",
      "10  chromedriver                        0x0000000104a138a4 chromedriver + 4094116\n",
      "11  chromedriver                        0x00000001049e86d4 chromedriver + 3917524\n",
      "12  chromedriver                        0x0000000104a30b08 chromedriver + 4213512\n",
      "13  chromedriver                        0x0000000104a30c84 chromedriver + 4213892\n",
      "14  chromedriver                        0x0000000104a3ea08 chromedriver + 4270600\n",
      "15  libsystem_pthread.dylib             0x0000000183452f94 _pthread_start + 136\n",
      "16  libsystem_pthread.dylib             0x000000018344dd34 thread_start + 8\n",
      "\n"
     ]
    },
    {
     "name": "stderr",
     "output_type": "stream",
     "text": [
      " 78%|████████████████████████████████         | 411/525 [10:57<04:23,  2.31s/it]"
     ]
    },
    {
     "name": "stdout",
     "output_type": "stream",
     "text": [
      "STRIPPED SWALLOW\n",
      " failed: Message: \n",
      "Stacktrace:\n",
      "0   chromedriver                        0x0000000104a464c8 chromedriver + 4302024\n",
      "1   chromedriver                        0x0000000104a3ee10 chromedriver + 4271632\n",
      "2   chromedriver                        0x000000010467019c chromedriver + 278940\n",
      "3   chromedriver                        0x00000001046b22c4 chromedriver + 549572\n",
      "4   chromedriver                        0x00000001046eac5c chromedriver + 781404\n",
      "5   chromedriver                        0x00000001046a7004 chromedriver + 503812\n",
      "6   chromedriver                        0x00000001046a79ec chromedriver + 506348\n",
      "7   chromedriver                        0x0000000104a0e510 chromedriver + 4072720\n",
      "8   chromedriver                        0x0000000104a12fbc chromedriver + 4091836\n",
      "9   chromedriver                        0x00000001049f5754 chromedriver + 3970900\n",
      "10  chromedriver                        0x0000000104a138a4 chromedriver + 4094116\n",
      "11  chromedriver                        0x00000001049e86d4 chromedriver + 3917524\n",
      "12  chromedriver                        0x0000000104a30b08 chromedriver + 4213512\n",
      "13  chromedriver                        0x0000000104a30c84 chromedriver + 4213892\n",
      "14  chromedriver                        0x0000000104a3ea08 chromedriver + 4270600\n",
      "15  libsystem_pthread.dylib             0x0000000183452f94 _pthread_start + 136\n",
      "16  libsystem_pthread.dylib             0x000000018344dd34 thread_start + 8\n",
      "\n"
     ]
    },
    {
     "name": "stderr",
     "output_type": "stream",
     "text": [
      " 79%|████████████████████████████████▍        | 415/525 [11:03<03:44,  2.04s/it]"
     ]
    },
    {
     "name": "stdout",
     "output_type": "stream",
     "text": [
      "ASIAN CRESTED IBIS\n",
      " failed: Message: \n",
      "Stacktrace:\n",
      "0   chromedriver                        0x0000000104a464c8 chromedriver + 4302024\n",
      "1   chromedriver                        0x0000000104a3ee10 chromedriver + 4271632\n",
      "2   chromedriver                        0x000000010467019c chromedriver + 278940\n",
      "3   chromedriver                        0x00000001046b22c4 chromedriver + 549572\n",
      "4   chromedriver                        0x00000001046eac5c chromedriver + 781404\n",
      "5   chromedriver                        0x00000001046a7004 chromedriver + 503812\n",
      "6   chromedriver                        0x00000001046a79ec chromedriver + 506348\n",
      "7   chromedriver                        0x0000000104a0e510 chromedriver + 4072720\n",
      "8   chromedriver                        0x0000000104a12fbc chromedriver + 4091836\n",
      "9   chromedriver                        0x00000001049f5754 chromedriver + 3970900\n",
      "10  chromedriver                        0x0000000104a138a4 chromedriver + 4094116\n",
      "11  chromedriver                        0x00000001049e86d4 chromedriver + 3917524\n",
      "12  chromedriver                        0x0000000104a30b08 chromedriver + 4213512\n",
      "13  chromedriver                        0x0000000104a30c84 chromedriver + 4213892\n",
      "14  chromedriver                        0x0000000104a3ea08 chromedriver + 4270600\n",
      "15  libsystem_pthread.dylib             0x0000000183452f94 _pthread_start + 136\n",
      "16  libsystem_pthread.dylib             0x000000018344dd34 thread_start + 8\n",
      "\n"
     ]
    },
    {
     "name": "stderr",
     "output_type": "stream",
     "text": [
      " 79%|████████████████████████████████▌        | 417/525 [11:08<04:08,  2.30s/it]"
     ]
    },
    {
     "name": "stdout",
     "output_type": "stream",
     "text": [
      "LOONEY BIRDS\n",
      " failed: Message: \n",
      "Stacktrace:\n",
      "0   chromedriver                        0x0000000104a464c8 chromedriver + 4302024\n",
      "1   chromedriver                        0x0000000104a3ee10 chromedriver + 4271632\n",
      "2   chromedriver                        0x000000010467019c chromedriver + 278940\n",
      "3   chromedriver                        0x00000001046b22c4 chromedriver + 549572\n",
      "4   chromedriver                        0x00000001046eac5c chromedriver + 781404\n",
      "5   chromedriver                        0x00000001046a7004 chromedriver + 503812\n",
      "6   chromedriver                        0x00000001046a79ec chromedriver + 506348\n",
      "7   chromedriver                        0x0000000104a0e510 chromedriver + 4072720\n",
      "8   chromedriver                        0x0000000104a12fbc chromedriver + 4091836\n",
      "9   chromedriver                        0x00000001049f5754 chromedriver + 3970900\n",
      "10  chromedriver                        0x0000000104a138a4 chromedriver + 4094116\n",
      "11  chromedriver                        0x00000001049e86d4 chromedriver + 3917524\n",
      "12  chromedriver                        0x0000000104a30b08 chromedriver + 4213512\n",
      "13  chromedriver                        0x0000000104a30c84 chromedriver + 4213892\n",
      "14  chromedriver                        0x0000000104a3ea08 chromedriver + 4270600\n",
      "15  libsystem_pthread.dylib             0x0000000183452f94 _pthread_start + 136\n",
      "16  libsystem_pthread.dylib             0x000000018344dd34 thread_start + 8\n",
      "\n"
     ]
    },
    {
     "name": "stderr",
     "output_type": "stream",
     "text": [
      " 81%|█████████████████████████████████        | 424/525 [11:19<03:20,  1.98s/it]"
     ]
    },
    {
     "name": "stdout",
     "output_type": "stream",
     "text": [
      "SCARLET CROWNED FRUIT DOVE\n",
      " failed: Message: \n",
      "Stacktrace:\n",
      "0   chromedriver                        0x0000000104a464c8 chromedriver + 4302024\n",
      "1   chromedriver                        0x0000000104a3ee10 chromedriver + 4271632\n",
      "2   chromedriver                        0x000000010467019c chromedriver + 278940\n",
      "3   chromedriver                        0x00000001046b22c4 chromedriver + 549572\n",
      "4   chromedriver                        0x00000001046eac5c chromedriver + 781404\n",
      "5   chromedriver                        0x00000001046a7004 chromedriver + 503812\n",
      "6   chromedriver                        0x00000001046a79ec chromedriver + 506348\n",
      "7   chromedriver                        0x0000000104a0e510 chromedriver + 4072720\n",
      "8   chromedriver                        0x0000000104a12fbc chromedriver + 4091836\n",
      "9   chromedriver                        0x00000001049f5754 chromedriver + 3970900\n",
      "10  chromedriver                        0x0000000104a138a4 chromedriver + 4094116\n",
      "11  chromedriver                        0x00000001049e86d4 chromedriver + 3917524\n",
      "12  chromedriver                        0x0000000104a30b08 chromedriver + 4213512\n",
      "13  chromedriver                        0x0000000104a30c84 chromedriver + 4213892\n",
      "14  chromedriver                        0x0000000104a3ea08 chromedriver + 4270600\n",
      "15  libsystem_pthread.dylib             0x0000000183452f94 _pthread_start + 136\n",
      "16  libsystem_pthread.dylib             0x000000018344dd34 thread_start + 8\n",
      "\n"
     ]
    },
    {
     "name": "stderr",
     "output_type": "stream",
     "text": [
      " 81%|█████████████████████████████████▎       | 426/525 [11:24<03:46,  2.29s/it]"
     ]
    },
    {
     "name": "stdout",
     "output_type": "stream",
     "text": [
      "TOUCHAN\n",
      " failed: Message: \n",
      "Stacktrace:\n",
      "0   chromedriver                        0x0000000104a464c8 chromedriver + 4302024\n",
      "1   chromedriver                        0x0000000104a3ee10 chromedriver + 4271632\n",
      "2   chromedriver                        0x000000010467019c chromedriver + 278940\n",
      "3   chromedriver                        0x00000001046b22c4 chromedriver + 549572\n",
      "4   chromedriver                        0x00000001046eac5c chromedriver + 781404\n",
      "5   chromedriver                        0x00000001046a7004 chromedriver + 503812\n",
      "6   chromedriver                        0x00000001046a79ec chromedriver + 506348\n",
      "7   chromedriver                        0x0000000104a0e510 chromedriver + 4072720\n",
      "8   chromedriver                        0x0000000104a12fbc chromedriver + 4091836\n",
      "9   chromedriver                        0x00000001049f5754 chromedriver + 3970900\n",
      "10  chromedriver                        0x0000000104a138a4 chromedriver + 4094116\n",
      "11  chromedriver                        0x00000001049e86d4 chromedriver + 3917524\n",
      "12  chromedriver                        0x0000000104a30b08 chromedriver + 4213512\n",
      "13  chromedriver                        0x0000000104a30c84 chromedriver + 4213892\n",
      "14  chromedriver                        0x0000000104a3ea08 chromedriver + 4270600\n",
      "15  libsystem_pthread.dylib             0x0000000183452f94 _pthread_start + 136\n",
      "16  libsystem_pthread.dylib             0x000000018344dd34 thread_start + 8\n",
      "\n"
     ]
    },
    {
     "name": "stderr",
     "output_type": "stream",
     "text": [
      " 81%|█████████████████████████████████▎       | 427/525 [11:27<04:15,  2.61s/it]"
     ]
    },
    {
     "name": "stdout",
     "output_type": "stream",
     "text": [
      "MANDRIN DUCK\n",
      " failed: Message: \n",
      "Stacktrace:\n",
      "0   chromedriver                        0x0000000104a464c8 chromedriver + 4302024\n",
      "1   chromedriver                        0x0000000104a3ee10 chromedriver + 4271632\n",
      "2   chromedriver                        0x000000010467019c chromedriver + 278940\n",
      "3   chromedriver                        0x00000001046b22c4 chromedriver + 549572\n",
      "4   chromedriver                        0x00000001046eac5c chromedriver + 781404\n",
      "5   chromedriver                        0x00000001046a7004 chromedriver + 503812\n",
      "6   chromedriver                        0x00000001046a79ec chromedriver + 506348\n",
      "7   chromedriver                        0x0000000104a0e510 chromedriver + 4072720\n",
      "8   chromedriver                        0x0000000104a12fbc chromedriver + 4091836\n",
      "9   chromedriver                        0x00000001049f5754 chromedriver + 3970900\n",
      "10  chromedriver                        0x0000000104a138a4 chromedriver + 4094116\n",
      "11  chromedriver                        0x00000001049e86d4 chromedriver + 3917524\n",
      "12  chromedriver                        0x0000000104a30b08 chromedriver + 4213512\n",
      "13  chromedriver                        0x0000000104a30c84 chromedriver + 4213892\n",
      "14  chromedriver                        0x0000000104a3ea08 chromedriver + 4270600\n",
      "15  libsystem_pthread.dylib             0x0000000183452f94 _pthread_start + 136\n",
      "16  libsystem_pthread.dylib             0x000000018344dd34 thread_start + 8\n",
      "\n"
     ]
    },
    {
     "name": "stderr",
     "output_type": "stream",
     "text": [
      " 82%|█████████████████████████████████▌       | 429/525 [11:32<04:09,  2.60s/it]"
     ]
    },
    {
     "name": "stdout",
     "output_type": "stream",
     "text": [
      "KILLDEAR\n",
      " failed: Message: \n",
      "Stacktrace:\n",
      "0   chromedriver                        0x0000000104a464c8 chromedriver + 4302024\n",
      "1   chromedriver                        0x0000000104a3ee10 chromedriver + 4271632\n",
      "2   chromedriver                        0x000000010467019c chromedriver + 278940\n",
      "3   chromedriver                        0x00000001046b22c4 chromedriver + 549572\n",
      "4   chromedriver                        0x00000001046eac5c chromedriver + 781404\n",
      "5   chromedriver                        0x00000001046a7004 chromedriver + 503812\n",
      "6   chromedriver                        0x00000001046a79ec chromedriver + 506348\n",
      "7   chromedriver                        0x0000000104a0e510 chromedriver + 4072720\n",
      "8   chromedriver                        0x0000000104a12fbc chromedriver + 4091836\n",
      "9   chromedriver                        0x00000001049f5754 chromedriver + 3970900\n",
      "10  chromedriver                        0x0000000104a138a4 chromedriver + 4094116\n",
      "11  chromedriver                        0x00000001049e86d4 chromedriver + 3917524\n",
      "12  chromedriver                        0x0000000104a30b08 chromedriver + 4213512\n",
      "13  chromedriver                        0x0000000104a30c84 chromedriver + 4213892\n",
      "14  chromedriver                        0x0000000104a3ea08 chromedriver + 4270600\n",
      "15  libsystem_pthread.dylib             0x0000000183452f94 _pthread_start + 136\n",
      "16  libsystem_pthread.dylib             0x000000018344dd34 thread_start + 8\n",
      "\n"
     ]
    },
    {
     "name": "stderr",
     "output_type": "stream",
     "text": [
      " 82%|█████████████████████████████████▋       | 432/525 [11:39<03:43,  2.41s/it]"
     ]
    },
    {
     "name": "stdout",
     "output_type": "stream",
     "text": [
      "COMMON HOUSE MARTIN\n",
      " failed: Message: \n",
      "Stacktrace:\n",
      "0   chromedriver                        0x0000000104a464c8 chromedriver + 4302024\n",
      "1   chromedriver                        0x0000000104a3ee10 chromedriver + 4271632\n",
      "2   chromedriver                        0x000000010467019c chromedriver + 278940\n",
      "3   chromedriver                        0x00000001046b22c4 chromedriver + 549572\n",
      "4   chromedriver                        0x00000001046eac5c chromedriver + 781404\n",
      "5   chromedriver                        0x00000001046a7004 chromedriver + 503812\n",
      "6   chromedriver                        0x00000001046a79ec chromedriver + 506348\n",
      "7   chromedriver                        0x0000000104a0e510 chromedriver + 4072720\n",
      "8   chromedriver                        0x0000000104a12fbc chromedriver + 4091836\n",
      "9   chromedriver                        0x00000001049f5754 chromedriver + 3970900\n",
      "10  chromedriver                        0x0000000104a138a4 chromedriver + 4094116\n",
      "11  chromedriver                        0x00000001049e86d4 chromedriver + 3917524\n",
      "12  chromedriver                        0x0000000104a30b08 chromedriver + 4213512\n",
      "13  chromedriver                        0x0000000104a30c84 chromedriver + 4213892\n",
      "14  chromedriver                        0x0000000104a3ea08 chromedriver + 4270600\n",
      "15  libsystem_pthread.dylib             0x0000000183452f94 _pthread_start + 136\n",
      "16  libsystem_pthread.dylib             0x000000018344dd34 thread_start + 8\n",
      "\n"
     ]
    },
    {
     "name": "stderr",
     "output_type": "stream",
     "text": [
      " 83%|█████████████████████████████████▉       | 434/525 [11:43<03:44,  2.46s/it]"
     ]
    },
    {
     "name": "stdout",
     "output_type": "stream",
     "text": [
      "AFRICAN OYSTER CATCHER\n",
      " failed: Message: \n",
      "Stacktrace:\n",
      "0   chromedriver                        0x0000000104a464c8 chromedriver + 4302024\n",
      "1   chromedriver                        0x0000000104a3ee10 chromedriver + 4271632\n",
      "2   chromedriver                        0x000000010467019c chromedriver + 278940\n",
      "3   chromedriver                        0x00000001046b22c4 chromedriver + 549572\n",
      "4   chromedriver                        0x00000001046eac5c chromedriver + 781404\n",
      "5   chromedriver                        0x00000001046a7004 chromedriver + 503812\n",
      "6   chromedriver                        0x00000001046a79ec chromedriver + 506348\n",
      "7   chromedriver                        0x0000000104a0e510 chromedriver + 4072720\n",
      "8   chromedriver                        0x0000000104a12fbc chromedriver + 4091836\n",
      "9   chromedriver                        0x00000001049f5754 chromedriver + 3970900\n",
      "10  chromedriver                        0x0000000104a138a4 chromedriver + 4094116\n",
      "11  chromedriver                        0x00000001049e86d4 chromedriver + 3917524\n",
      "12  chromedriver                        0x0000000104a30b08 chromedriver + 4213512\n",
      "13  chromedriver                        0x0000000104a30c84 chromedriver + 4213892\n",
      "14  chromedriver                        0x0000000104a3ea08 chromedriver + 4270600\n",
      "15  libsystem_pthread.dylib             0x0000000183452f94 _pthread_start + 136\n",
      "16  libsystem_pthread.dylib             0x000000018344dd34 thread_start + 8\n",
      "\n"
     ]
    },
    {
     "name": "stderr",
     "output_type": "stream",
     "text": [
      " 83%|██████████████████████████████████▏      | 437/525 [11:49<03:25,  2.34s/it]"
     ]
    },
    {
     "name": "stdout",
     "output_type": "stream",
     "text": [
      "ALPINE CHOUGH\n",
      " failed: Message: \n",
      "Stacktrace:\n",
      "0   chromedriver                        0x0000000104a464c8 chromedriver + 4302024\n",
      "1   chromedriver                        0x0000000104a3ee10 chromedriver + 4271632\n",
      "2   chromedriver                        0x000000010467019c chromedriver + 278940\n",
      "3   chromedriver                        0x00000001046b22c4 chromedriver + 549572\n",
      "4   chromedriver                        0x00000001046eac5c chromedriver + 781404\n",
      "5   chromedriver                        0x00000001046a7004 chromedriver + 503812\n",
      "6   chromedriver                        0x00000001046a79ec chromedriver + 506348\n",
      "7   chromedriver                        0x0000000104a0e510 chromedriver + 4072720\n",
      "8   chromedriver                        0x0000000104a12fbc chromedriver + 4091836\n",
      "9   chromedriver                        0x00000001049f5754 chromedriver + 3970900\n",
      "10  chromedriver                        0x0000000104a138a4 chromedriver + 4094116\n",
      "11  chromedriver                        0x00000001049e86d4 chromedriver + 3917524\n",
      "12  chromedriver                        0x0000000104a30b08 chromedriver + 4213512\n",
      "13  chromedriver                        0x0000000104a30c84 chromedriver + 4213892\n",
      "14  chromedriver                        0x0000000104a3ea08 chromedriver + 4270600\n",
      "15  libsystem_pthread.dylib             0x0000000183452f94 _pthread_start + 136\n",
      "16  libsystem_pthread.dylib             0x000000018344dd34 thread_start + 8\n",
      "\n"
     ]
    },
    {
     "name": "stderr",
     "output_type": "stream",
     "text": [
      " 85%|██████████████████████████████████▊      | 445/525 [12:00<02:29,  1.87s/it]"
     ]
    },
    {
     "name": "stdout",
     "output_type": "stream",
     "text": [
      "ENGGANO MYNA\n",
      " failed: Message: \n",
      "Stacktrace:\n",
      "0   chromedriver                        0x0000000104a464c8 chromedriver + 4302024\n",
      "1   chromedriver                        0x0000000104a3ee10 chromedriver + 4271632\n",
      "2   chromedriver                        0x000000010467019c chromedriver + 278940\n",
      "3   chromedriver                        0x00000001046b22c4 chromedriver + 549572\n",
      "4   chromedriver                        0x00000001046eac5c chromedriver + 781404\n",
      "5   chromedriver                        0x00000001046a7004 chromedriver + 503812\n",
      "6   chromedriver                        0x00000001046a79ec chromedriver + 506348\n",
      "7   chromedriver                        0x0000000104a0e510 chromedriver + 4072720\n",
      "8   chromedriver                        0x0000000104a12fbc chromedriver + 4091836\n",
      "9   chromedriver                        0x00000001049f5754 chromedriver + 3970900\n",
      "10  chromedriver                        0x0000000104a138a4 chromedriver + 4094116\n",
      "11  chromedriver                        0x00000001049e86d4 chromedriver + 3917524\n",
      "12  chromedriver                        0x0000000104a30b08 chromedriver + 4213512\n",
      "13  chromedriver                        0x0000000104a30c84 chromedriver + 4213892\n",
      "14  chromedriver                        0x0000000104a3ea08 chromedriver + 4270600\n",
      "15  libsystem_pthread.dylib             0x0000000183452f94 _pthread_start + 136\n",
      "16  libsystem_pthread.dylib             0x000000018344dd34 thread_start + 8\n",
      "\n"
     ]
    },
    {
     "name": "stderr",
     "output_type": "stream",
     "text": [
      " 86%|███████████████████████████████████▏     | 451/525 [12:10<02:18,  1.88s/it]"
     ]
    },
    {
     "name": "stdout",
     "output_type": "stream",
     "text": [
      "MALLARD DUCK\n",
      " failed: Message: \n",
      "Stacktrace:\n",
      "0   chromedriver                        0x0000000104a464c8 chromedriver + 4302024\n",
      "1   chromedriver                        0x0000000104a3ee10 chromedriver + 4271632\n",
      "2   chromedriver                        0x000000010467019c chromedriver + 278940\n",
      "3   chromedriver                        0x00000001046b22c4 chromedriver + 549572\n",
      "4   chromedriver                        0x00000001046eac5c chromedriver + 781404\n",
      "5   chromedriver                        0x00000001046a7004 chromedriver + 503812\n",
      "6   chromedriver                        0x00000001046a79ec chromedriver + 506348\n",
      "7   chromedriver                        0x0000000104a0e510 chromedriver + 4072720\n",
      "8   chromedriver                        0x0000000104a12fbc chromedriver + 4091836\n",
      "9   chromedriver                        0x00000001049f5754 chromedriver + 3970900\n",
      "10  chromedriver                        0x0000000104a138a4 chromedriver + 4094116\n",
      "11  chromedriver                        0x00000001049e86d4 chromedriver + 3917524\n",
      "12  chromedriver                        0x0000000104a30b08 chromedriver + 4213512\n",
      "13  chromedriver                        0x0000000104a30c84 chromedriver + 4213892\n",
      "14  chromedriver                        0x0000000104a3ea08 chromedriver + 4270600\n",
      "15  libsystem_pthread.dylib             0x0000000183452f94 _pthread_start + 136\n",
      "16  libsystem_pthread.dylib             0x000000018344dd34 thread_start + 8\n",
      "\n"
     ]
    },
    {
     "name": "stderr",
     "output_type": "stream",
     "text": [
      " 87%|███████████████████████████████████▊     | 458/525 [12:21<02:02,  1.82s/it]"
     ]
    },
    {
     "name": "stdout",
     "output_type": "stream",
     "text": [
      "CAPE LONGCLAW\n",
      " failed: Message: \n",
      "Stacktrace:\n",
      "0   chromedriver                        0x0000000104a464c8 chromedriver + 4302024\n",
      "1   chromedriver                        0x0000000104a3ee10 chromedriver + 4271632\n",
      "2   chromedriver                        0x000000010467019c chromedriver + 278940\n",
      "3   chromedriver                        0x00000001046b22c4 chromedriver + 549572\n",
      "4   chromedriver                        0x00000001046eac5c chromedriver + 781404\n",
      "5   chromedriver                        0x00000001046a7004 chromedriver + 503812\n",
      "6   chromedriver                        0x00000001046a79ec chromedriver + 506348\n",
      "7   chromedriver                        0x0000000104a0e510 chromedriver + 4072720\n",
      "8   chromedriver                        0x0000000104a12fbc chromedriver + 4091836\n",
      "9   chromedriver                        0x00000001049f5754 chromedriver + 3970900\n",
      "10  chromedriver                        0x0000000104a138a4 chromedriver + 4094116\n",
      "11  chromedriver                        0x00000001049e86d4 chromedriver + 3917524\n",
      "12  chromedriver                        0x0000000104a30b08 chromedriver + 4213512\n",
      "13  chromedriver                        0x0000000104a30c84 chromedriver + 4213892\n",
      "14  chromedriver                        0x0000000104a3ea08 chromedriver + 4270600\n",
      "15  libsystem_pthread.dylib             0x0000000183452f94 _pthread_start + 136\n",
      "16  libsystem_pthread.dylib             0x000000018344dd34 thread_start + 8\n",
      "\n"
     ]
    },
    {
     "name": "stderr",
     "output_type": "stream",
     "text": [
      " 90%|████████████████████████████████████▋    | 470/525 [12:38<01:40,  1.82s/it]"
     ]
    },
    {
     "name": "stdout",
     "output_type": "stream",
     "text": [
      "SPLENDID WREN\n",
      " failed: Message: \n",
      "Stacktrace:\n",
      "0   chromedriver                        0x0000000104a464c8 chromedriver + 4302024\n",
      "1   chromedriver                        0x0000000104a3ee10 chromedriver + 4271632\n",
      "2   chromedriver                        0x000000010467019c chromedriver + 278940\n",
      "3   chromedriver                        0x00000001046b22c4 chromedriver + 549572\n",
      "4   chromedriver                        0x00000001046eac5c chromedriver + 781404\n",
      "5   chromedriver                        0x00000001046a7004 chromedriver + 503812\n",
      "6   chromedriver                        0x00000001046a79ec chromedriver + 506348\n",
      "7   chromedriver                        0x0000000104a0e510 chromedriver + 4072720\n",
      "8   chromedriver                        0x0000000104a12fbc chromedriver + 4091836\n",
      "9   chromedriver                        0x00000001049f5754 chromedriver + 3970900\n",
      "10  chromedriver                        0x0000000104a138a4 chromedriver + 4094116\n",
      "11  chromedriver                        0x00000001049e86d4 chromedriver + 3917524\n",
      "12  chromedriver                        0x0000000104a30b08 chromedriver + 4213512\n",
      "13  chromedriver                        0x0000000104a30c84 chromedriver + 4213892\n",
      "14  chromedriver                        0x0000000104a3ea08 chromedriver + 4270600\n",
      "15  libsystem_pthread.dylib             0x0000000183452f94 _pthread_start + 136\n",
      "16  libsystem_pthread.dylib             0x000000018344dd34 thread_start + 8\n",
      "\n"
     ]
    },
    {
     "name": "stderr",
     "output_type": "stream",
     "text": [
      " 90%|████████████████████████████████████▊    | 472/525 [12:43<01:52,  2.13s/it]"
     ]
    },
    {
     "name": "stdout",
     "output_type": "stream",
     "text": [
      "CRESTED SHRIKETIT\n",
      " failed: Message: \n",
      "Stacktrace:\n",
      "0   chromedriver                        0x0000000104a464c8 chromedriver + 4302024\n",
      "1   chromedriver                        0x0000000104a3ee10 chromedriver + 4271632\n",
      "2   chromedriver                        0x000000010467019c chromedriver + 278940\n",
      "3   chromedriver                        0x00000001046b22c4 chromedriver + 549572\n",
      "4   chromedriver                        0x00000001046eac5c chromedriver + 781404\n",
      "5   chromedriver                        0x00000001046a7004 chromedriver + 503812\n",
      "6   chromedriver                        0x00000001046a79ec chromedriver + 506348\n",
      "7   chromedriver                        0x0000000104a0e510 chromedriver + 4072720\n",
      "8   chromedriver                        0x0000000104a12fbc chromedriver + 4091836\n",
      "9   chromedriver                        0x00000001049f5754 chromedriver + 3970900\n",
      "10  chromedriver                        0x0000000104a138a4 chromedriver + 4094116\n",
      "11  chromedriver                        0x00000001049e86d4 chromedriver + 3917524\n",
      "12  chromedriver                        0x0000000104a30b08 chromedriver + 4213512\n",
      "13  chromedriver                        0x0000000104a30c84 chromedriver + 4213892\n",
      "14  chromedriver                        0x0000000104a3ea08 chromedriver + 4270600\n",
      "15  libsystem_pthread.dylib             0x0000000183452f94 _pthread_start + 136\n",
      "16  libsystem_pthread.dylib             0x000000018344dd34 thread_start + 8\n",
      "\n"
     ]
    },
    {
     "name": "stderr",
     "output_type": "stream",
     "text": [
      " 91%|█████████████████████████████████████▎   | 478/525 [12:52<01:32,  1.96s/it]"
     ]
    },
    {
     "name": "stdout",
     "output_type": "stream",
     "text": [
      "RED HEADED DUCK\n",
      " failed: Message: \n",
      "Stacktrace:\n",
      "0   chromedriver                        0x0000000104a464c8 chromedriver + 4302024\n",
      "1   chromedriver                        0x0000000104a3ee10 chromedriver + 4271632\n",
      "2   chromedriver                        0x000000010467019c chromedriver + 278940\n",
      "3   chromedriver                        0x00000001046b22c4 chromedriver + 549572\n",
      "4   chromedriver                        0x00000001046eac5c chromedriver + 781404\n",
      "5   chromedriver                        0x00000001046a7004 chromedriver + 503812\n",
      "6   chromedriver                        0x00000001046a79ec chromedriver + 506348\n",
      "7   chromedriver                        0x0000000104a0e510 chromedriver + 4072720\n",
      "8   chromedriver                        0x0000000104a12fbc chromedriver + 4091836\n",
      "9   chromedriver                        0x00000001049f5754 chromedriver + 3970900\n",
      "10  chromedriver                        0x0000000104a138a4 chromedriver + 4094116\n",
      "11  chromedriver                        0x00000001049e86d4 chromedriver + 3917524\n",
      "12  chromedriver                        0x0000000104a30b08 chromedriver + 4213512\n",
      "13  chromedriver                        0x0000000104a30c84 chromedriver + 4213892\n",
      "14  chromedriver                        0x0000000104a3ea08 chromedriver + 4270600\n",
      "15  libsystem_pthread.dylib             0x0000000183452f94 _pthread_start + 136\n",
      "16  libsystem_pthread.dylib             0x000000018344dd34 thread_start + 8\n",
      "\n"
     ]
    },
    {
     "name": "stderr",
     "output_type": "stream",
     "text": [
      " 92%|█████████████████████████████████████▌   | 481/525 [12:58<01:35,  2.17s/it]"
     ]
    },
    {
     "name": "stdout",
     "output_type": "stream",
     "text": [
      "CAPE GLOSSY STARLING\n",
      " failed: Message: \n",
      "Stacktrace:\n",
      "0   chromedriver                        0x0000000104a464c8 chromedriver + 4302024\n",
      "1   chromedriver                        0x0000000104a3ee10 chromedriver + 4271632\n",
      "2   chromedriver                        0x000000010467019c chromedriver + 278940\n",
      "3   chromedriver                        0x00000001046b22c4 chromedriver + 549572\n",
      "4   chromedriver                        0x00000001046eac5c chromedriver + 781404\n",
      "5   chromedriver                        0x00000001046a7004 chromedriver + 503812\n",
      "6   chromedriver                        0x00000001046a79ec chromedriver + 506348\n",
      "7   chromedriver                        0x0000000104a0e510 chromedriver + 4072720\n",
      "8   chromedriver                        0x0000000104a12fbc chromedriver + 4091836\n",
      "9   chromedriver                        0x00000001049f5754 chromedriver + 3970900\n",
      "10  chromedriver                        0x0000000104a138a4 chromedriver + 4094116\n",
      "11  chromedriver                        0x00000001049e86d4 chromedriver + 3917524\n",
      "12  chromedriver                        0x0000000104a30b08 chromedriver + 4213512\n",
      "13  chromedriver                        0x0000000104a30c84 chromedriver + 4213892\n",
      "14  chromedriver                        0x0000000104a3ea08 chromedriver + 4270600\n",
      "15  libsystem_pthread.dylib             0x0000000183452f94 _pthread_start + 136\n",
      "16  libsystem_pthread.dylib             0x000000018344dd34 thread_start + 8\n",
      "\n"
     ]
    },
    {
     "name": "stderr",
     "output_type": "stream",
     "text": [
      " 94%|██████████████████████████████████████▋  | 495/525 [13:16<00:55,  1.87s/it]"
     ]
    },
    {
     "name": "stdout",
     "output_type": "stream",
     "text": [
      "SPOON BILED SANDPIPER\n",
      " failed: Message: \n",
      "Stacktrace:\n",
      "0   chromedriver                        0x0000000104a464c8 chromedriver + 4302024\n",
      "1   chromedriver                        0x0000000104a3ee10 chromedriver + 4271632\n",
      "2   chromedriver                        0x000000010467019c chromedriver + 278940\n",
      "3   chromedriver                        0x00000001046b22c4 chromedriver + 549572\n",
      "4   chromedriver                        0x00000001046eac5c chromedriver + 781404\n",
      "5   chromedriver                        0x00000001046a7004 chromedriver + 503812\n",
      "6   chromedriver                        0x00000001046a79ec chromedriver + 506348\n",
      "7   chromedriver                        0x0000000104a0e510 chromedriver + 4072720\n",
      "8   chromedriver                        0x0000000104a12fbc chromedriver + 4091836\n",
      "9   chromedriver                        0x00000001049f5754 chromedriver + 3970900\n",
      "10  chromedriver                        0x0000000104a138a4 chromedriver + 4094116\n",
      "11  chromedriver                        0x00000001049e86d4 chromedriver + 3917524\n",
      "12  chromedriver                        0x0000000104a30b08 chromedriver + 4213512\n",
      "13  chromedriver                        0x0000000104a30c84 chromedriver + 4213892\n",
      "14  chromedriver                        0x0000000104a3ea08 chromedriver + 4270600\n",
      "15  libsystem_pthread.dylib             0x0000000183452f94 _pthread_start + 136\n",
      "16  libsystem_pthread.dylib             0x000000018344dd34 thread_start + 8\n",
      "\n"
     ]
    },
    {
     "name": "stderr",
     "output_type": "stream",
     "text": [
      " 95%|██████████████████████████████████████▊  | 497/525 [13:22<01:04,  2.30s/it]"
     ]
    },
    {
     "name": "stdout",
     "output_type": "stream",
     "text": [
      "CHARA DE COLLAR\n",
      " failed: Message: \n",
      "Stacktrace:\n",
      "0   chromedriver                        0x0000000104a464c8 chromedriver + 4302024\n",
      "1   chromedriver                        0x0000000104a3ee10 chromedriver + 4271632\n",
      "2   chromedriver                        0x000000010467019c chromedriver + 278940\n",
      "3   chromedriver                        0x00000001046b22c4 chromedriver + 549572\n",
      "4   chromedriver                        0x00000001046eac5c chromedriver + 781404\n",
      "5   chromedriver                        0x00000001046a7004 chromedriver + 503812\n",
      "6   chromedriver                        0x00000001046a79ec chromedriver + 506348\n",
      "7   chromedriver                        0x0000000104a0e510 chromedriver + 4072720\n",
      "8   chromedriver                        0x0000000104a12fbc chromedriver + 4091836\n",
      "9   chromedriver                        0x00000001049f5754 chromedriver + 3970900\n",
      "10  chromedriver                        0x0000000104a138a4 chromedriver + 4094116\n",
      "11  chromedriver                        0x00000001049e86d4 chromedriver + 3917524\n",
      "12  chromedriver                        0x0000000104a30b08 chromedriver + 4213512\n",
      "13  chromedriver                        0x0000000104a30c84 chromedriver + 4213892\n",
      "14  chromedriver                        0x0000000104a3ea08 chromedriver + 4270600\n",
      "15  libsystem_pthread.dylib             0x0000000183452f94 _pthread_start + 136\n",
      "16  libsystem_pthread.dylib             0x000000018344dd34 thread_start + 8\n",
      "\n"
     ]
    },
    {
     "name": "stderr",
     "output_type": "stream",
     "text": [
      " 95%|██████████████████████████████████████▉  | 499/525 [13:27<01:06,  2.55s/it]"
     ]
    },
    {
     "name": "stdout",
     "output_type": "stream",
     "text": [
      "TEAL DUCK\n",
      " failed: Message: \n",
      "Stacktrace:\n",
      "0   chromedriver                        0x0000000104a464c8 chromedriver + 4302024\n",
      "1   chromedriver                        0x0000000104a3ee10 chromedriver + 4271632\n",
      "2   chromedriver                        0x000000010467019c chromedriver + 278940\n",
      "3   chromedriver                        0x00000001046b22c4 chromedriver + 549572\n",
      "4   chromedriver                        0x00000001046eac5c chromedriver + 781404\n",
      "5   chromedriver                        0x00000001046a7004 chromedriver + 503812\n",
      "6   chromedriver                        0x00000001046a79ec chromedriver + 506348\n",
      "7   chromedriver                        0x0000000104a0e510 chromedriver + 4072720\n",
      "8   chromedriver                        0x0000000104a12fbc chromedriver + 4091836\n",
      "9   chromedriver                        0x00000001049f5754 chromedriver + 3970900\n",
      "10  chromedriver                        0x0000000104a138a4 chromedriver + 4094116\n",
      "11  chromedriver                        0x00000001049e86d4 chromedriver + 3917524\n",
      "12  chromedriver                        0x0000000104a30b08 chromedriver + 4213512\n",
      "13  chromedriver                        0x0000000104a30c84 chromedriver + 4213892\n",
      "14  chromedriver                        0x0000000104a3ea08 chromedriver + 4270600\n",
      "15  libsystem_pthread.dylib             0x0000000183452f94 _pthread_start + 136\n",
      "16  libsystem_pthread.dylib             0x000000018344dd34 thread_start + 8\n",
      "\n"
     ]
    },
    {
     "name": "stderr",
     "output_type": "stream",
     "text": [
      " 96%|███████████████████████████████████████▌ | 506/525 [13:37<00:35,  1.88s/it]"
     ]
    },
    {
     "name": "stdout",
     "output_type": "stream",
     "text": [
      "BROWN NOODY\n",
      " failed: Message: \n",
      "Stacktrace:\n",
      "0   chromedriver                        0x0000000104a464c8 chromedriver + 4302024\n",
      "1   chromedriver                        0x0000000104a3ee10 chromedriver + 4271632\n",
      "2   chromedriver                        0x000000010467019c chromedriver + 278940\n",
      "3   chromedriver                        0x00000001046b22c4 chromedriver + 549572\n",
      "4   chromedriver                        0x00000001046eac5c chromedriver + 781404\n",
      "5   chromedriver                        0x00000001046a7004 chromedriver + 503812\n",
      "6   chromedriver                        0x00000001046a79ec chromedriver + 506348\n",
      "7   chromedriver                        0x0000000104a0e510 chromedriver + 4072720\n",
      "8   chromedriver                        0x0000000104a12fbc chromedriver + 4091836\n",
      "9   chromedriver                        0x00000001049f5754 chromedriver + 3970900\n",
      "10  chromedriver                        0x0000000104a138a4 chromedriver + 4094116\n",
      "11  chromedriver                        0x00000001049e86d4 chromedriver + 3917524\n",
      "12  chromedriver                        0x0000000104a30b08 chromedriver + 4213512\n",
      "13  chromedriver                        0x0000000104a30c84 chromedriver + 4213892\n",
      "14  chromedriver                        0x0000000104a3ea08 chromedriver + 4270600\n",
      "15  libsystem_pthread.dylib             0x0000000183452f94 _pthread_start + 136\n",
      "16  libsystem_pthread.dylib             0x000000018344dd34 thread_start + 8\n",
      "\n"
     ]
    },
    {
     "name": "stderr",
     "output_type": "stream",
     "text": [
      " 97%|███████████████████████████████████████▉ | 511/525 [13:46<00:29,  2.12s/it]"
     ]
    },
    {
     "name": "stdout",
     "output_type": "stream",
     "text": [
      "CRESTED WOOD PARTRIDGE\n",
      " failed: Message: \n",
      "Stacktrace:\n",
      "0   chromedriver                        0x0000000104a464c8 chromedriver + 4302024\n",
      "1   chromedriver                        0x0000000104a3ee10 chromedriver + 4271632\n",
      "2   chromedriver                        0x000000010467019c chromedriver + 278940\n",
      "3   chromedriver                        0x00000001046b22c4 chromedriver + 549572\n",
      "4   chromedriver                        0x00000001046eac5c chromedriver + 781404\n",
      "5   chromedriver                        0x00000001046a7004 chromedriver + 503812\n",
      "6   chromedriver                        0x00000001046a79ec chromedriver + 506348\n",
      "7   chromedriver                        0x0000000104a0e510 chromedriver + 4072720\n",
      "8   chromedriver                        0x0000000104a12fbc chromedriver + 4091836\n",
      "9   chromedriver                        0x00000001049f5754 chromedriver + 3970900\n",
      "10  chromedriver                        0x0000000104a138a4 chromedriver + 4094116\n",
      "11  chromedriver                        0x00000001049e86d4 chromedriver + 3917524\n",
      "12  chromedriver                        0x0000000104a30b08 chromedriver + 4213512\n",
      "13  chromedriver                        0x0000000104a30c84 chromedriver + 4213892\n",
      "14  chromedriver                        0x0000000104a3ea08 chromedriver + 4270600\n",
      "15  libsystem_pthread.dylib             0x0000000183452f94 _pthread_start + 136\n",
      "16  libsystem_pthread.dylib             0x000000018344dd34 thread_start + 8\n",
      "\n"
     ]
    },
    {
     "name": "stderr",
     "output_type": "stream",
     "text": [
      " 99%|████████████████████████████████████████▍| 518/525 [13:58<00:14,  2.05s/it]"
     ]
    },
    {
     "name": "stdout",
     "output_type": "stream",
     "text": [
      "WHITE CRESTED HORNBILL\n",
      " failed: Message: \n",
      "Stacktrace:\n",
      "0   chromedriver                        0x0000000104a464c8 chromedriver + 4302024\n",
      "1   chromedriver                        0x0000000104a3ee10 chromedriver + 4271632\n",
      "2   chromedriver                        0x000000010467019c chromedriver + 278940\n",
      "3   chromedriver                        0x00000001046b22c4 chromedriver + 549572\n",
      "4   chromedriver                        0x00000001046eac5c chromedriver + 781404\n",
      "5   chromedriver                        0x00000001046a7004 chromedriver + 503812\n",
      "6   chromedriver                        0x00000001046a79ec chromedriver + 506348\n",
      "7   chromedriver                        0x0000000104a0e510 chromedriver + 4072720\n",
      "8   chromedriver                        0x0000000104a12fbc chromedriver + 4091836\n",
      "9   chromedriver                        0x00000001049f5754 chromedriver + 3970900\n",
      "10  chromedriver                        0x0000000104a138a4 chromedriver + 4094116\n",
      "11  chromedriver                        0x00000001049e86d4 chromedriver + 3917524\n",
      "12  chromedriver                        0x0000000104a30b08 chromedriver + 4213512\n",
      "13  chromedriver                        0x0000000104a30c84 chromedriver + 4213892\n",
      "14  chromedriver                        0x0000000104a3ea08 chromedriver + 4270600\n",
      "15  libsystem_pthread.dylib             0x0000000183452f94 _pthread_start + 136\n",
      "16  libsystem_pthread.dylib             0x000000018344dd34 thread_start + 8\n",
      "\n"
     ]
    },
    {
     "name": "stderr",
     "output_type": "stream",
     "text": [
      " 99%|████████████████████████████████████████▌| 519/525 [14:01<00:14,  2.44s/it]"
     ]
    },
    {
     "name": "stdout",
     "output_type": "stream",
     "text": [
      "GREY CUCKOOSHRIKE\n",
      " failed: Message: \n",
      "Stacktrace:\n",
      "0   chromedriver                        0x0000000104a464c8 chromedriver + 4302024\n",
      "1   chromedriver                        0x0000000104a3ee10 chromedriver + 4271632\n",
      "2   chromedriver                        0x000000010467019c chromedriver + 278940\n",
      "3   chromedriver                        0x00000001046b22c4 chromedriver + 549572\n",
      "4   chromedriver                        0x00000001046eac5c chromedriver + 781404\n",
      "5   chromedriver                        0x00000001046a7004 chromedriver + 503812\n",
      "6   chromedriver                        0x00000001046a79ec chromedriver + 506348\n",
      "7   chromedriver                        0x0000000104a0e510 chromedriver + 4072720\n",
      "8   chromedriver                        0x0000000104a12fbc chromedriver + 4091836\n",
      "9   chromedriver                        0x00000001049f5754 chromedriver + 3970900\n",
      "10  chromedriver                        0x0000000104a138a4 chromedriver + 4094116\n",
      "11  chromedriver                        0x00000001049e86d4 chromedriver + 3917524\n",
      "12  chromedriver                        0x0000000104a30b08 chromedriver + 4213512\n",
      "13  chromedriver                        0x0000000104a30c84 chromedriver + 4213892\n",
      "14  chromedriver                        0x0000000104a3ea08 chromedriver + 4270600\n",
      "15  libsystem_pthread.dylib             0x0000000183452f94 _pthread_start + 136\n",
      "16  libsystem_pthread.dylib             0x000000018344dd34 thread_start + 8\n",
      "\n"
     ]
    },
    {
     "name": "stderr",
     "output_type": "stream",
     "text": [
      "100%|█████████████████████████████████████████| 525/525 [14:09<00:00,  1.62s/it]\n"
     ]
    },
    {
     "name": "stdout",
     "output_type": "stream",
     "text": [
      "finished grabbing data..\n",
      "start writing files\n",
      "writing failed name file\n"
     ]
    },
    {
     "name": "stderr",
     "output_type": "stream",
     "text": [
      "100%|██████████████████████████████████████| 94/94 [00:00<00:00, 1649642.58it/s]"
     ]
    },
    {
     "name": "stdout",
     "output_type": "stream",
     "text": [
      "Failed name file written successfully\n",
      "writing name desc json file\n",
      "Name desc pair file written successfully\n"
     ]
    },
    {
     "name": "stderr",
     "output_type": "stream",
     "text": [
      "\n"
     ]
    }
   ],
   "source": [
    "from tqdm import tqdm\n",
    "\n",
    "file1 = open('data/bird_names.txt', 'r')\n",
    "lines = file1.readlines()\n",
    "\n",
    "failed_names = []\n",
    "name_desc_pairs = {}\n",
    "for line in tqdm(lines):\n",
    "    res = get_desc(line, path, driver)\n",
    "    if res[\"status\"] == 200:\n",
    "        name_desc_pairs[line] = res[\"desc\"]\n",
    "    elif res[\"status\"] == 400:\n",
    "        print(f\"{line} failed: {res[\"error\"]}\")\n",
    "        failed_names.append(line)\n",
    "\n",
    "print(\"finished grabbing data..\")\n",
    "print(\"start writing files\")\n",
    "print(\"writing failed name file\")\n",
    "\n",
    "# post processing\n",
    "with open('data/failed_names.txt', 'w+') as f:\n",
    "    for items in tqdm(failed_names):\n",
    "        f.write('%s\\n' %items)\n",
    "    print(\"Failed name file written successfully\")\n",
    "f.close()\n",
    "\n",
    "import json\n",
    "\n",
    "name_desc_pairs_obj = json.dumps(name_desc_pairs, indent=4)\n",
    "\n",
    "print(\"writing name desc json file\")\n",
    "with open(\"data/name_desc_pairs.json\", \"w\") as f:\n",
    "    f.write(name_desc_pairs_obj)\n",
    "    print(\"Name desc pair file written successfully\")\n",
    "\n",
    "f.close()"
   ]
  }
 ],
 "metadata": {
  "kernelspec": {
   "display_name": "Python 3 (ipykernel)",
   "language": "python",
   "name": "python3"
  },
  "language_info": {
   "codemirror_mode": {
    "name": "ipython",
    "version": 3
   },
   "file_extension": ".py",
   "mimetype": "text/x-python",
   "name": "python",
   "nbconvert_exporter": "python",
   "pygments_lexer": "ipython3",
   "version": "3.12.3"
  }
 },
 "nbformat": 4,
 "nbformat_minor": 5
}
